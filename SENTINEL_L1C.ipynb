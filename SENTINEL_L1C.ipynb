{
  "nbformat": 4,
  "nbformat_minor": 0,
  "metadata": {
    "colab": {
      "name": "SENTINEL_L1C.ipynb",
      "provenance": [],
      "collapsed_sections": []
    },
    "kernelspec": {
      "name": "python3",
      "display_name": "Python 3"
    }
  },
  "cells": [
    {
      "cell_type": "markdown",
      "metadata": {
        "id": "F8cAlLubcTH1"
      },
      "source": [
        "## Install Sentinel-Hub"
      ]
    },
    {
      "cell_type": "code",
      "metadata": {
        "colab": {
          "base_uri": "https://localhost:8080/"
        },
        "id": "7988XRs6q8Xc",
        "outputId": "b6da2203-3735-4aa8-e8b3-0ec41944ab71"
      },
      "source": [
        "pip install sentinelhub --upgrade"
      ],
      "execution_count": null,
      "outputs": [
        {
          "output_type": "stream",
          "text": [
            "Collecting sentinelhub\n",
            "\u001b[?25l  Downloading https://files.pythonhosted.org/packages/a8/43/bc002d9d860496c829b2e00f2ddb36dbb51af59c1be1b928e9d59489ed76/sentinelhub-3.1.0.tar.gz (186kB)\n",
            "\r\u001b[K     |█▊                              | 10kB 17.9MB/s eta 0:00:01\r\u001b[K     |███▌                            | 20kB 13.6MB/s eta 0:00:01\r\u001b[K     |█████▎                          | 30kB 10.3MB/s eta 0:00:01\r\u001b[K     |███████                         | 40kB 8.5MB/s eta 0:00:01\r\u001b[K     |████████▉                       | 51kB 5.5MB/s eta 0:00:01\r\u001b[K     |██████████▋                     | 61kB 5.9MB/s eta 0:00:01\r\u001b[K     |████████████▎                   | 71kB 6.0MB/s eta 0:00:01\r\u001b[K     |██████████████                  | 81kB 6.5MB/s eta 0:00:01\r\u001b[K     |███████████████▉                | 92kB 6.2MB/s eta 0:00:01\r\u001b[K     |█████████████████▋              | 102kB 6.7MB/s eta 0:00:01\r\u001b[K     |███████████████████▍            | 112kB 6.7MB/s eta 0:00:01\r\u001b[K     |█████████████████████▏          | 122kB 6.7MB/s eta 0:00:01\r\u001b[K     |███████████████████████         | 133kB 6.7MB/s eta 0:00:01\r\u001b[K     |████████████████████████▋       | 143kB 6.7MB/s eta 0:00:01\r\u001b[K     |██████████████████████████▍     | 153kB 6.7MB/s eta 0:00:01\r\u001b[K     |████████████████████████████▏   | 163kB 6.7MB/s eta 0:00:01\r\u001b[K     |██████████████████████████████  | 174kB 6.7MB/s eta 0:00:01\r\u001b[K     |███████████████████████████████▊| 184kB 6.7MB/s eta 0:00:01\r\u001b[K     |████████████████████████████████| 194kB 6.7MB/s \n",
            "\u001b[?25hRequirement already satisfied, skipping upgrade: wheel in /usr/local/lib/python3.6/dist-packages (from sentinelhub) (0.36.2)\n",
            "Requirement already satisfied, skipping upgrade: requests>=2.5.0 in /usr/local/lib/python3.6/dist-packages (from sentinelhub) (2.23.0)\n",
            "Requirement already satisfied, skipping upgrade: click in /usr/local/lib/python3.6/dist-packages (from sentinelhub) (7.1.2)\n",
            "Requirement already satisfied, skipping upgrade: numpy in /usr/local/lib/python3.6/dist-packages (from sentinelhub) (1.19.5)\n",
            "Requirement already satisfied, skipping upgrade: tifffile in /usr/local/lib/python3.6/dist-packages (from sentinelhub) (2020.9.3)\n",
            "Requirement already satisfied, skipping upgrade: pillow in /usr/local/lib/python3.6/dist-packages (from sentinelhub) (7.0.0)\n",
            "Requirement already satisfied, skipping upgrade: python-dateutil in /usr/local/lib/python3.6/dist-packages (from sentinelhub) (2.8.1)\n",
            "Collecting utm\n",
            "  Downloading https://files.pythonhosted.org/packages/f7/7e/629ddbe63164f71bf2b03e151a69bfbf439692652432af4b2a78f21b0a18/utm-0.7.0.tar.gz\n",
            "Requirement already satisfied, skipping upgrade: shapely in /usr/local/lib/python3.6/dist-packages (from sentinelhub) (1.7.1)\n",
            "Collecting boto3\n",
            "\u001b[?25l  Downloading https://files.pythonhosted.org/packages/b9/ef/8fd72f02fd605b5a9390c31def4f266978ca6d8e79f3ba740491e487044b/boto3-1.16.57-py2.py3-none-any.whl (130kB)\n",
            "\u001b[K     |████████████████████████████████| 133kB 6.7MB/s \n",
            "\u001b[?25hCollecting botocore\n",
            "\u001b[?25l  Downloading https://files.pythonhosted.org/packages/2f/70/35b0627ec7c38cdac30636b98549075cb6a8f3ff236a26fa204f6b509ded/botocore-1.19.57-py2.py3-none-any.whl (7.2MB)\n",
            "\u001b[K     |████████████████████████████████| 7.2MB 9.6MB/s \n",
            "\u001b[?25hCollecting pyproj>=2.2.0\n",
            "\u001b[?25l  Downloading https://files.pythonhosted.org/packages/e4/ab/280e80a67cfc109d15428c0ec56391fc03a65857b7727cf4e6e6f99a4204/pyproj-3.0.0.post1-cp36-cp36m-manylinux2010_x86_64.whl (6.4MB)\n",
            "\u001b[K     |████████████████████████████████| 6.5MB 34.0MB/s \n",
            "\u001b[?25hRequirement already satisfied, skipping upgrade: oauthlib in /usr/local/lib/python3.6/dist-packages (from sentinelhub) (3.1.0)\n",
            "Requirement already satisfied, skipping upgrade: requests_oauthlib in /usr/local/lib/python3.6/dist-packages (from sentinelhub) (1.3.0)\n",
            "Collecting aenum>=2.1.4\n",
            "\u001b[?25l  Downloading https://files.pythonhosted.org/packages/31/6d/7ed856edfb60d4a4ab22850ed84cb90351af54dea5ee17d605187e3ba640/aenum-2.2.6-py3-none-any.whl (43kB)\n",
            "\u001b[K     |████████████████████████████████| 51kB 6.5MB/s \n",
            "\u001b[?25hRequirement already satisfied, skipping upgrade: dataclasses in /usr/local/lib/python3.6/dist-packages (from sentinelhub) (0.8)\n",
            "Requirement already satisfied, skipping upgrade: idna<3,>=2.5 in /usr/local/lib/python3.6/dist-packages (from requests>=2.5.0->sentinelhub) (2.10)\n",
            "Requirement already satisfied, skipping upgrade: certifi>=2017.4.17 in /usr/local/lib/python3.6/dist-packages (from requests>=2.5.0->sentinelhub) (2020.12.5)\n",
            "Requirement already satisfied, skipping upgrade: chardet<4,>=3.0.2 in /usr/local/lib/python3.6/dist-packages (from requests>=2.5.0->sentinelhub) (3.0.4)\n",
            "Requirement already satisfied, skipping upgrade: urllib3!=1.25.0,!=1.25.1,<1.26,>=1.21.1 in /usr/local/lib/python3.6/dist-packages (from requests>=2.5.0->sentinelhub) (1.24.3)\n",
            "Requirement already satisfied, skipping upgrade: six>=1.5 in /usr/local/lib/python3.6/dist-packages (from python-dateutil->sentinelhub) (1.15.0)\n",
            "Collecting jmespath<1.0.0,>=0.7.1\n",
            "  Downloading https://files.pythonhosted.org/packages/07/cb/5f001272b6faeb23c1c9e0acc04d48eaaf5c862c17709d20e3469c6e0139/jmespath-0.10.0-py2.py3-none-any.whl\n",
            "Collecting s3transfer<0.4.0,>=0.3.0\n",
            "\u001b[?25l  Downloading https://files.pythonhosted.org/packages/ea/43/4b4a1b26eb03a429a4c37ca7fdf369d938bd60018fc194e94b8379b0c77c/s3transfer-0.3.4-py2.py3-none-any.whl (69kB)\n",
            "\u001b[K     |████████████████████████████████| 71kB 8.3MB/s \n",
            "\u001b[?25hBuilding wheels for collected packages: sentinelhub, utm\n",
            "  Building wheel for sentinelhub (setup.py) ... \u001b[?25l\u001b[?25hdone\n",
            "  Created wheel for sentinelhub: filename=sentinelhub-3.1.0-cp36-none-any.whl size=196404 sha256=78ee1a86eb04f5464ab854181000e59abfdbd6f7bcc88b0126d5604feccf6fdb\n",
            "  Stored in directory: /root/.cache/pip/wheels/90/6c/df/be1525ead52f5c2ce49f0880e73587723bf25caac7295f9db2\n",
            "  Building wheel for utm (setup.py) ... \u001b[?25l\u001b[?25hdone\n",
            "  Created wheel for utm: filename=utm-0.7.0-cp36-none-any.whl size=6094 sha256=f73848c720b25b381ec0e683d0fb363e21f9b40dca69f86afeaae510809ddc7e\n",
            "  Stored in directory: /root/.cache/pip/wheels/d3/a0/c4/93c7535fe705e70d2376505fd2683f91524a50a944a15212d9\n",
            "Successfully built sentinelhub utm\n",
            "\u001b[31mERROR: botocore 1.19.57 has requirement urllib3<1.27,>=1.25.4; python_version != \"3.4\", but you'll have urllib3 1.24.3 which is incompatible.\u001b[0m\n",
            "Installing collected packages: utm, jmespath, botocore, s3transfer, boto3, pyproj, aenum, sentinelhub\n",
            "Successfully installed aenum-2.2.6 boto3-1.16.57 botocore-1.19.57 jmespath-0.10.0 pyproj-3.0.0.post1 s3transfer-0.3.4 sentinelhub-3.1.0 utm-0.7.0\n"
          ],
          "name": "stdout"
        }
      ]
    },
    {
      "cell_type": "code",
      "metadata": {
        "colab": {
          "base_uri": "https://localhost:8080/"
        },
        "id": "325GhGFZuttN",
        "outputId": "d57c3414-1553-47d2-a275-6c634beb1076"
      },
      "source": [
        "from google.colab import drive\n",
        "drive.mount('/content/gdrive', force_remount=True)"
      ],
      "execution_count": null,
      "outputs": [
        {
          "output_type": "stream",
          "text": [
            "Mounted at /content/gdrive\n"
          ],
          "name": "stdout"
        }
      ]
    },
    {
      "cell_type": "markdown",
      "metadata": {
        "id": "91LkaMieyDXW"
      },
      "source": [
        "### Put the path to the folder where we want to save the files from Sentinelhub"
      ]
    },
    {
      "cell_type": "code",
      "metadata": {
        "id": "vtUnsk7Z0YU4"
      },
      "source": [
        "rootPath=\"/content/gdrive/My Drive/WORK/C&T/SENTINEL-HUB/test_dir/SENTINEL_L1C/\""
      ],
      "execution_count": null,
      "outputs": []
    },
    {
      "cell_type": "markdown",
      "metadata": {
        "id": "kpa7hDUwqOJL"
      },
      "source": [
        "## Sentinel-HUb configuration"
      ]
    },
    {
      "cell_type": "code",
      "metadata": {
        "id": "X5Z_1obScIBu"
      },
      "source": [
        "from sentinelhub import SHConfig\n",
        "\n",
        "\n",
        "INSTANCE_ID = '82f77578-eb9a-4909-9a28-30f5279ba6a3'  # In case you put instance ID into configuration file you can leave this unchanged\n",
        "\n",
        "if INSTANCE_ID:\n",
        "    config = SHConfig()\n",
        "    config.instance_id = INSTANCE_ID\n",
        "else:\n",
        "    config = None"
      ],
      "execution_count": null,
      "outputs": []
    },
    {
      "cell_type": "markdown",
      "metadata": {
        "id": "g5UmHdO5cIBu"
      },
      "source": [
        "#### Imports "
      ]
    },
    {
      "cell_type": "code",
      "metadata": {
        "id": "n39lh0TVcIBu"
      },
      "source": [
        "%reload_ext autoreload\n",
        "%autoreload 2\n",
        "%matplotlib inline"
      ],
      "execution_count": null,
      "outputs": []
    },
    {
      "cell_type": "markdown",
      "metadata": {
        "id": "OZtK0xWty5Vc"
      },
      "source": [
        "### Import the Libraries"
      ]
    },
    {
      "cell_type": "code",
      "metadata": {
        "id": "YsNjm4gMcIBu"
      },
      "source": [
        "# Please, install all the neccesary libs.\n",
        "import datetime\n",
        "import numpy as np\n",
        "\n",
        "import matplotlib.pyplot as plt\n",
        "import os \n",
        "import json "
      ],
      "execution_count": null,
      "outputs": []
    },
    {
      "cell_type": "code",
      "metadata": {
        "id": "eqUnnU6McIBu"
      },
      "source": [
        "from sentinelhub import WmsRequest, WcsRequest, MimeType, CRS, BBox, DataCollection"
      ],
      "execution_count": null,
      "outputs": []
    },
    {
      "cell_type": "code",
      "metadata": {
        "id": "gI_w2J75cIBu"
      },
      "source": [
        "def plot_image(image, factor=1):\n",
        "    \"\"\"\n",
        "    Utility function for plotting RGB images.\n",
        "    \"\"\"\n",
        "    fig = plt.subplots(nrows=1, ncols=1, figsize=(15, 7))\n",
        "    \n",
        "    if np.issubdtype(image.dtype, np.floating):\n",
        "        plt.imshow(np.minimum(image * factor, 1))\n",
        "    else:\n",
        "        plt.imshow(image)"
      ],
      "execution_count": null,
      "outputs": []
    },
    {
      "cell_type": "markdown",
      "metadata": {
        "id": "7_-k6Ds4A97C"
      },
      "source": [
        "### Setting parameters to rename the folder for campo1"
      ]
    },
    {
      "cell_type": "code",
      "metadata": {
        "id": "cXo2sM6oBJO6"
      },
      "source": [
        "satellite='SentinelL1C'\n",
        "campo1='campo1'"
      ],
      "execution_count": null,
      "outputs": []
    },
    {
      "cell_type": "markdown",
      "metadata": {
        "id": "fC9sxLuacIBu"
      },
      "source": [
        "#### Setting area of interest"
      ]
    },
    {
      "cell_type": "code",
      "metadata": {
        "id": "2iFN6TrocIBu"
      },
      "source": [
        "talca_coords_wgs84 = [-71.817933, -35.452880, -71.807166, -35.446550] #TALCA coordinates 1st PART (Parte izquierda del terreno)\n",
        "#FORMAT(LONGITUDE1, LATITUDE1, LONGITUDE2, LATITUDE2) From Google Earth they are lower left and upper rigth corners "
      ],
      "execution_count": null,
      "outputs": []
    },
    {
      "cell_type": "markdown",
      "metadata": {
        "id": "tnueMsAzcIBu"
      },
      "source": [
        "All requests require bounding box to be given as an instance of `sentinelhub.geometry.BBox` with corresponding Coordinate Reference System (`sentinelhub.geometry.CRS`). In our case it is in _WGS84_ and we can use the predefined _WGS84_ coordinate reference system from `sentinelhub.geometry.CRS`."
      ]
    },
    {
      "cell_type": "code",
      "metadata": {
        "id": "oYxP2Ef1cIBu"
      },
      "source": [
        "talca_bbox = BBox(bbox=talca_coords_wgs84, crs=CRS.WGS84)"
      ],
      "execution_count": null,
      "outputs": []
    },
    {
      "cell_type": "code",
      "metadata": {
        "id": "_Q9AML2ZcIBy"
      },
      "source": [
        "wms_true_color_request = WmsRequest(\n",
        "    data_collection=DataCollection.SENTINEL2_L1C,\n",
        "    data_folder=rootPath,\n",
        "    layer='TRUE-COLOR-S2-L1C',\n",
        "    bbox=talca_bbox,\n",
        "    #time='2017-12-10',\n",
        "    time=('2016-01-01','2016-12-31'),\n",
        "    #width=512,\n",
        "    #height=856,\n",
        "    width=600,\n",
        "    #height=600,\n",
        "    image_format=MimeType.TIFF,\n",
        "    time_difference=datetime.timedelta(hours=2),\n",
        "    config=config\n",
        ")"
      ],
      "execution_count": null,
      "outputs": []
    },
    {
      "cell_type": "code",
      "metadata": {
        "colab": {
          "base_uri": "https://localhost:8080/"
        },
        "id": "sYZiGBTYoSw2",
        "outputId": "91ce6f35-67da-4fdb-8d5f-ad8b5d2c375e"
      },
      "source": [
        "#Save data\n",
        "%%time\n",
        "wms_true_color_request.save_data()\n"
      ],
      "execution_count": null,
      "outputs": [
        {
          "output_type": "stream",
          "text": [
            "CPU times: user 230 ms, sys: 33.4 ms, total: 264 ms\n",
            "Wall time: 4.84 s\n"
          ],
          "name": "stdout"
        }
      ]
    },
    {
      "cell_type": "markdown",
      "metadata": {
        "id": "ieGSq0qglwCO"
      },
      "source": [
        "## PRUEBA DE NUMERO DE IMAGENES Q DESCARGA"
      ]
    },
    {
      "cell_type": "code",
      "metadata": {
        "colab": {
          "base_uri": "https://localhost:8080/"
        },
        "id": "PpNUkJogkuo7",
        "outputId": "994b1182-2284-4d2b-fd6f-f10ac12ff594"
      },
      "source": [
        "wms_bands_img_from_disk = wms_true_color_request .get_data()\n",
        "print('These %d images were taken on the following dates:' % len(wms_bands_img_from_disk))\n",
        "for index, date in enumerate(wms_true_color_request.get_dates()):\n",
        "    print(' - image %d was taken on %s' % (index, date))"
      ],
      "execution_count": null,
      "outputs": [
        {
          "output_type": "stream",
          "text": [
            "These 18 images were taken on the following dates:\n",
            " - image 0 was taken on 2016-01-05 14:52:57\n",
            " - image 1 was taken on 2016-02-04 14:42:56\n",
            " - image 2 was taken on 2016-03-05 14:51:55\n",
            " - image 3 was taken on 2016-04-04 14:41:37\n",
            " - image 4 was taken on 2016-05-04 14:41:36\n",
            " - image 5 was taken on 2016-05-24 14:51:40\n",
            " - image 6 was taken on 2016-06-13 14:50:55\n",
            " - image 7 was taken on 2016-07-03 14:48:53\n",
            " - image 8 was taken on 2016-07-23 14:49:33\n",
            " - image 9 was taken on 2016-08-12 14:49:22\n",
            " - image 10 was taken on 2016-09-01 14:49:26\n",
            " - image 11 was taken on 2016-09-21 14:49:46\n",
            " - image 12 was taken on 2016-10-11 14:49:22\n",
            " - image 13 was taken on 2016-10-31 14:48:10\n",
            " - image 14 was taken on 2016-11-10 14:52:12\n",
            " - image 15 was taken on 2016-11-30 14:52:15\n",
            " - image 16 was taken on 2016-12-10 14:45:55\n",
            " - image 17 was taken on 2016-12-20 14:51:31\n"
          ],
          "name": "stdout"
        }
      ]
    },
    {
      "cell_type": "code",
      "metadata": {
        "id": "qiiX1jWDpekG",
        "colab": {
          "base_uri": "https://localhost:8080/"
        },
        "outputId": "58a2afef-b3e3-46a9-cde7-65eab8fced35"
      },
      "source": [
        "#Getting the list of all saved folders.\n",
        "folders1=os.listdir(wms_true_color_request.data_folder)\n",
        "print(folders1)"
      ],
      "execution_count": null,
      "outputs": [
        {
          "output_type": "stream",
          "text": [
            "['9d9685871c34f94a77b149918ebccc44', 'e9409e738a426ca913bbc7afbfa149ac', 'd5cb79df1531c1794aa4c254feb81aa7', '69c079f1bc473bd05df94d77a3236e12', '9128f6370999bcadac2cf35bc790662a', '45da053f171d6a50b027c2740c1e47ab', 'd181fcd8e2bba6aef6f2717195aa3a92', '9e58f0687da232c0f7659e0d760d55fc', 'deaeaf81dde5deeded9d46445d9eaff5', '01224daefd8c890a7d97db2ec3979df2', '54b89c1ec3b8c2f880ca960cc90fec87', '4c19028f5c84020275a085c8ef59f0fe', '27f79fb928863a48e5f0c3c7680f822e', 'f51d17ef09d3559131d1d772a2052a15', 'ec2e73b61b60a4b45733e740e5f31f07', '8199563785ba6d932724137d20610fce', 'a8fc401338baa2b6f4084687d6bd128b', '97f346b080c7169e0b4d01b64013f974']\n"
          ],
          "name": "stdout"
        }
      ]
    },
    {
      "cell_type": "markdown",
      "metadata": {
        "id": "nWpPTBmj500V"
      },
      "source": [
        "### Setting parameters to rename the folder"
      ]
    },
    {
      "cell_type": "code",
      "metadata": {
        "id": "P08O5LcS500V"
      },
      "source": [
        "satellite='SentinelL1C'\n",
        "campo2='campo2'\n"
      ],
      "execution_count": null,
      "outputs": []
    },
    {
      "cell_type": "markdown",
      "metadata": {
        "id": "VG8X3gnO500V"
      },
      "source": [
        "#### Setting area of interest"
      ]
    },
    {
      "cell_type": "code",
      "metadata": {
        "id": "XVY6bKDe500V"
      },
      "source": [
        "talca_coords_wgs84 = [-71.800228, -35.457577, -71.786453, -35.449821] #TALCA coordinates 2nd PART (Parte derecha del terreno)\n",
        "#FORMAT(LONGITUDE1, LATITUDE1, LONGITUDE2, LATITUDE2) From Google Earth they are lower left and upper right corners "
      ],
      "execution_count": null,
      "outputs": []
    },
    {
      "cell_type": "markdown",
      "metadata": {
        "id": "Lhz9NcHa500V"
      },
      "source": [
        "All requests require bounding box to be given as an instance of `sentinelhub.geometry.BBox` with corresponding Coordinate Reference System (`sentinelhub.geometry.CRS`). In our case it is in _WGS84_ and we can use the predefined _WGS84_ coordinate reference system from `sentinelhub.geometry.CRS`."
      ]
    },
    {
      "cell_type": "code",
      "metadata": {
        "id": "CCQ_GRFn500V"
      },
      "source": [
        "talca_bbox = BBox(bbox=talca_coords_wgs84, crs=CRS.WGS84)"
      ],
      "execution_count": null,
      "outputs": []
    },
    {
      "cell_type": "code",
      "metadata": {
        "id": "E1HkIfs9500V"
      },
      "source": [
        "wms_true_color_request = WmsRequest(\n",
        "    data_collection=DataCollection.SENTINEL2_L1C,\n",
        "    data_folder=rootPath,\n",
        "    layer='TRUE-COLOR-S2-L1C',\n",
        "    bbox=talca_bbox,\n",
        "    #time='2017-12-10',\n",
        "    time=('2016-01-01','2016-12-31'),\n",
        "    #width=512,\n",
        "    #height=856,\n",
        "    width=600,\n",
        "    #height=600,\n",
        "    image_format=MimeType.TIFF,\n",
        "    time_difference=datetime.timedelta(hours=2),\n",
        "    config=config\n",
        ")"
      ],
      "execution_count": null,
      "outputs": []
    },
    {
      "cell_type": "code",
      "metadata": {
        "colab": {
          "base_uri": "https://localhost:8080/"
        },
        "id": "zNjJ1UZb500W",
        "outputId": "1ec981e0-fd0f-47ea-9418-c540797f9635"
      },
      "source": [
        "#Save data\n",
        "%%time\n",
        "wms_true_color_request.save_data()\n"
      ],
      "execution_count": null,
      "outputs": [
        {
          "output_type": "stream",
          "text": [
            "CPU times: user 230 ms, sys: 44.6 ms, total: 274 ms\n",
            "Wall time: 2.56 s\n"
          ],
          "name": "stdout"
        }
      ]
    },
    {
      "cell_type": "markdown",
      "metadata": {
        "id": "QP8AmiikmDKh"
      },
      "source": [
        "## PRUEBA DE NUMERO DE IMAGENES Q DESCARGA"
      ]
    },
    {
      "cell_type": "code",
      "metadata": {
        "colab": {
          "base_uri": "https://localhost:8080/"
        },
        "id": "f4m_aoytmDK7",
        "outputId": "57798099-8712-4659-fbc3-249255b1867d"
      },
      "source": [
        "wms_bands_img_from_disk = wms_true_color_request .get_data()\n",
        "print('These %d images were taken on the following dates:' % len(wms_bands_img_from_disk))\n",
        "for index, date in enumerate(wms_true_color_request.get_dates()):\n",
        "    print(' - image %d was taken on %s' % (index, date))"
      ],
      "execution_count": null,
      "outputs": [
        {
          "output_type": "stream",
          "text": [
            "These 18 images were taken on the following dates:\n",
            " - image 0 was taken on 2016-01-05 14:52:57\n",
            " - image 1 was taken on 2016-02-04 14:42:56\n",
            " - image 2 was taken on 2016-03-05 14:51:55\n",
            " - image 3 was taken on 2016-04-04 14:41:37\n",
            " - image 4 was taken on 2016-05-04 14:41:36\n",
            " - image 5 was taken on 2016-05-24 14:51:40\n",
            " - image 6 was taken on 2016-06-13 14:50:55\n",
            " - image 7 was taken on 2016-07-03 14:48:53\n",
            " - image 8 was taken on 2016-07-23 14:49:33\n",
            " - image 9 was taken on 2016-08-12 14:49:22\n",
            " - image 10 was taken on 2016-09-01 14:49:26\n",
            " - image 11 was taken on 2016-09-21 14:49:46\n",
            " - image 12 was taken on 2016-10-11 14:49:22\n",
            " - image 13 was taken on 2016-10-31 14:48:10\n",
            " - image 14 was taken on 2016-11-10 14:52:12\n",
            " - image 15 was taken on 2016-11-30 14:52:15\n",
            " - image 16 was taken on 2016-12-10 14:45:55\n",
            " - image 17 was taken on 2016-12-20 14:51:31\n"
          ],
          "name": "stdout"
        }
      ]
    },
    {
      "cell_type": "markdown",
      "metadata": {
        "id": "paJ7lV64kTXf"
      },
      "source": [
        "### Etiquetar las imágenes con el # de campo y fecha respectiva."
      ]
    },
    {
      "cell_type": "code",
      "metadata": {
        "colab": {
          "base_uri": "https://localhost:8080/"
        },
        "id": "SjT81nlL66DQ",
        "outputId": "861593f5-2542-4226-d818-578ba3b0b73e"
      },
      "source": [
        "#Getting the list of all saved folders.\n",
        "folders2=os.listdir(wms_true_color_request.data_folder)\n",
        "\n",
        "for i in folders1:\n",
        "  for j in folders2:\n",
        "    if i == j:\n",
        "      folders2.remove(j)\n",
        "print(folders1)\n",
        "print(folders2)"
      ],
      "execution_count": null,
      "outputs": [
        {
          "output_type": "stream",
          "text": [
            "['9d9685871c34f94a77b149918ebccc44', 'e9409e738a426ca913bbc7afbfa149ac', 'd5cb79df1531c1794aa4c254feb81aa7', '69c079f1bc473bd05df94d77a3236e12', '9128f6370999bcadac2cf35bc790662a', '45da053f171d6a50b027c2740c1e47ab', 'd181fcd8e2bba6aef6f2717195aa3a92', '9e58f0687da232c0f7659e0d760d55fc', 'deaeaf81dde5deeded9d46445d9eaff5', '01224daefd8c890a7d97db2ec3979df2', '54b89c1ec3b8c2f880ca960cc90fec87', '4c19028f5c84020275a085c8ef59f0fe', '27f79fb928863a48e5f0c3c7680f822e', 'f51d17ef09d3559131d1d772a2052a15', 'ec2e73b61b60a4b45733e740e5f31f07', '8199563785ba6d932724137d20610fce', 'a8fc401338baa2b6f4084687d6bd128b', '97f346b080c7169e0b4d01b64013f974']\n",
            "['6f3e7136d1a62e7ac9bf00bac05a8f5d', '923c0ceea300c7c56821c032588608ea', 'd98989c62358f413291e97b22c4f829d', 'd80a4c5f0f0497013f2641ec0f1b5384', '24d1e75ebff01c3b36a1ee9836db70ab', 'b9e43ffeb8a23ece23033c1a4afabe08', '884a61543636e0481a980464dacffc36', '1e2d36d99346181c76fc9e84092ccf79', 'ac0f8456fd73405c6000d9eed4e41e05', '4b0d3cb4c48fbc58299f00eb318d282f', 'a8ba242454051a91f9e2dd94a57661a4', '7946229921c6e4fc96a5995605271485', '3cba50dda893ca08163524aab9bed950', '53b5a61891117d4aba1f1aef315d7874', '5c5b2d2da5716d7f52a370798c0cb318', '18880d14cc284e0bc521eb7c5f875e9f', '72b31ea5dceae06dc6beeb6d52dc2eb0', '64d966c4bbfe07c46ca5a7deb415ea42']\n"
          ],
          "name": "stdout"
        }
      ]
    },
    {
      "cell_type": "code",
      "metadata": {
        "id": "I9h46sDrkeOl"
      },
      "source": [
        "for folder in folders1:\n",
        "  with open(rootPath+folder+\"/request.json\") as file: #Define the path to the folder and to the json file\n",
        "    dic=json.load(file)\n",
        "  dic1=dic.copy() #For the anotations\n",
        "  url=dic1['url']  #key url where is the date\n",
        "  date=[]\n",
        "  date_str=\"\"\n",
        "  for i in range(len(url)):\n",
        "      if url[i]=='T' and url[i+1]=='I' and url[i+2]=='M' and url[i+3]=='E':\n",
        "          for j in range(10):\n",
        "              date.append(url[i+5+j])\n",
        "  date_str=date_str.join(date)\n",
        "  date_str1=campo1+\"_\"+date_str\n",
        "  image_path=rootPath+folder+\"/response.tiff\"\n",
        "  new_name=rootPath+folder+\"/\"+date_str1+\".tiff\"\n",
        "  os.rename(image_path,new_name)\n",
        "\n",
        "  #Change the name of the folder\n",
        "  folder_name=rootPath+folder\n",
        "  new_folder_name=rootPath+campo1+\"_\"+satellite+\"_\"+date_str\n",
        "  os.rename(folder_name,new_folder_name)\n",
        "\n",
        "   \n"
      ],
      "execution_count": null,
      "outputs": []
    },
    {
      "cell_type": "markdown",
      "metadata": {
        "id": "tpsu8NwC66DQ"
      },
      "source": [
        "### Etiquetar las imágenes con el # de campo y fecha respectiva."
      ]
    },
    {
      "cell_type": "code",
      "metadata": {
        "id": "G5Z3dP6j66DQ"
      },
      "source": [
        "for folder in folders2:\n",
        "  with open(rootPath+folder+\"/request.json\") as file: #Define the path to the folder and to the json file\n",
        "    dic=json.load(file)\n",
        "  dic1=dic.copy() #For the anotations\n",
        "  url=dic1['url']  #key url where is the date\n",
        "  date=[]\n",
        "  date_str=\"\"\n",
        "  for i in range(len(url)):\n",
        "      if url[i]=='T' and url[i+1]=='I' and url[i+2]=='M' and url[i+3]=='E':\n",
        "          for j in range(10):\n",
        "              date.append(url[i+5+j])\n",
        "  date_str=date_str.join(date)\n",
        "  date_str1=campo2+\"_\"+date_str\n",
        "  image_path=rootPath+folder+\"/response.tiff\"\n",
        "  new_name=rootPath+folder+\"/\"+date_str1+\".tiff\"\n",
        "  os.rename(image_path,new_name)\n",
        "\n",
        "  #Change the name of the folder\n",
        "  folder_name=rootPath+folder\n",
        "  new_folder_name=rootPath+campo2+\"_\"+satellite+\"_\"+date_str\n",
        "  os.rename(folder_name,new_folder_name)\n",
        "\n",
        "   \n"
      ],
      "execution_count": null,
      "outputs": []
    },
    {
      "cell_type": "code",
      "metadata": {
        "colab": {
          "base_uri": "https://localhost:8080/"
        },
        "id": "mIRfJg-Bx2e7",
        "outputId": "87f1e93b-3fab-4323-a7f5-3cc8ac168433"
      },
      "source": [
        "numero_carpetas=os.listdir(rootPath)\n",
        "print(len(numero_carpetas))"
      ],
      "execution_count": null,
      "outputs": [
        {
          "output_type": "stream",
          "text": [
            "36\n"
          ],
          "name": "stdout"
        }
      ]
    }
  ]
}