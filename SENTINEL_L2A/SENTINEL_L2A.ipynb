{
  "nbformat": 4,
  "nbformat_minor": 0,
  "metadata": {
    "colab": {
      "name": "SENTINEL_L2A.ipynb",
      "provenance": [],
      "collapsed_sections": []
    },
    "kernelspec": {
      "name": "python3",
      "display_name": "Python 3"
    }
  },
  "cells": [
    {
      "cell_type": "markdown",
      "metadata": {
        "id": "F8cAlLubcTH1"
      },
      "source": [
        "## Install Sentinel-Hub"
      ]
    },
    {
      "cell_type": "code",
      "metadata": {
        "colab": {
          "base_uri": "https://localhost:8080/"
        },
        "id": "7988XRs6q8Xc",
        "outputId": "9fcd0de6-f686-4907-a21d-cd418633a9b6"
      },
      "source": [
        "pip install sentinelhub --upgrade"
      ],
      "execution_count": null,
      "outputs": [
        {
          "output_type": "stream",
          "text": [
            "Collecting sentinelhub\n",
            "\u001b[?25l  Downloading https://files.pythonhosted.org/packages/a8/43/bc002d9d860496c829b2e00f2ddb36dbb51af59c1be1b928e9d59489ed76/sentinelhub-3.1.0.tar.gz (186kB)\n",
            "\r\u001b[K     |█▊                              | 10kB 13.1MB/s eta 0:00:01\r\u001b[K     |███▌                            | 20kB 17.8MB/s eta 0:00:01\r\u001b[K     |█████▎                          | 30kB 11.7MB/s eta 0:00:01\r\u001b[K     |███████                         | 40kB 9.4MB/s eta 0:00:01\r\u001b[K     |████████▉                       | 51kB 4.4MB/s eta 0:00:01\r\u001b[K     |██████████▋                     | 61kB 5.0MB/s eta 0:00:01\r\u001b[K     |████████████▎                   | 71kB 5.0MB/s eta 0:00:01\r\u001b[K     |██████████████                  | 81kB 5.5MB/s eta 0:00:01\r\u001b[K     |███████████████▉                | 92kB 5.8MB/s eta 0:00:01\r\u001b[K     |█████████████████▋              | 102kB 4.3MB/s eta 0:00:01\r\u001b[K     |███████████████████▍            | 112kB 4.3MB/s eta 0:00:01\r\u001b[K     |█████████████████████▏          | 122kB 4.3MB/s eta 0:00:01\r\u001b[K     |███████████████████████         | 133kB 4.3MB/s eta 0:00:01\r\u001b[K     |████████████████████████▋       | 143kB 4.3MB/s eta 0:00:01\r\u001b[K     |██████████████████████████▍     | 153kB 4.3MB/s eta 0:00:01\r\u001b[K     |████████████████████████████▏   | 163kB 4.3MB/s eta 0:00:01\r\u001b[K     |██████████████████████████████  | 174kB 4.3MB/s eta 0:00:01\r\u001b[K     |███████████████████████████████▊| 184kB 4.3MB/s eta 0:00:01\r\u001b[K     |████████████████████████████████| 194kB 4.3MB/s \n",
            "\u001b[?25hRequirement already satisfied, skipping upgrade: wheel in /usr/local/lib/python3.6/dist-packages (from sentinelhub) (0.36.2)\n",
            "Requirement already satisfied, skipping upgrade: requests>=2.5.0 in /usr/local/lib/python3.6/dist-packages (from sentinelhub) (2.23.0)\n",
            "Requirement already satisfied, skipping upgrade: click in /usr/local/lib/python3.6/dist-packages (from sentinelhub) (7.1.2)\n",
            "Requirement already satisfied, skipping upgrade: numpy in /usr/local/lib/python3.6/dist-packages (from sentinelhub) (1.19.5)\n",
            "Requirement already satisfied, skipping upgrade: tifffile in /usr/local/lib/python3.6/dist-packages (from sentinelhub) (2020.9.3)\n",
            "Requirement already satisfied, skipping upgrade: pillow in /usr/local/lib/python3.6/dist-packages (from sentinelhub) (7.0.0)\n",
            "Requirement already satisfied, skipping upgrade: python-dateutil in /usr/local/lib/python3.6/dist-packages (from sentinelhub) (2.8.1)\n",
            "Collecting utm\n",
            "  Downloading https://files.pythonhosted.org/packages/f7/7e/629ddbe63164f71bf2b03e151a69bfbf439692652432af4b2a78f21b0a18/utm-0.7.0.tar.gz\n",
            "Requirement already satisfied, skipping upgrade: shapely in /usr/local/lib/python3.6/dist-packages (from sentinelhub) (1.7.1)\n",
            "Collecting boto3\n",
            "\u001b[?25l  Downloading https://files.pythonhosted.org/packages/65/c4/6a866d878e41d0fc4e29bc7782118e5202f21beee8fc492b10917e138a75/boto3-1.16.55-py2.py3-none-any.whl (130kB)\n",
            "\u001b[K     |████████████████████████████████| 133kB 31.9MB/s \n",
            "\u001b[?25hCollecting botocore\n",
            "\u001b[?25l  Downloading https://files.pythonhosted.org/packages/ed/47/45d58c8a96646acd36b81899d9c6bdc2b3e7fe0aac253f1424e9f7071c00/botocore-1.19.55-py2.py3-none-any.whl (7.2MB)\n",
            "\u001b[K     |████████████████████████████████| 7.2MB 45.1MB/s \n",
            "\u001b[?25hCollecting pyproj>=2.2.0\n",
            "\u001b[?25l  Downloading https://files.pythonhosted.org/packages/e4/ab/280e80a67cfc109d15428c0ec56391fc03a65857b7727cf4e6e6f99a4204/pyproj-3.0.0.post1-cp36-cp36m-manylinux2010_x86_64.whl (6.4MB)\n",
            "\u001b[K     |████████████████████████████████| 6.5MB 44.3MB/s \n",
            "\u001b[?25hRequirement already satisfied, skipping upgrade: oauthlib in /usr/local/lib/python3.6/dist-packages (from sentinelhub) (3.1.0)\n",
            "Requirement already satisfied, skipping upgrade: requests_oauthlib in /usr/local/lib/python3.6/dist-packages (from sentinelhub) (1.3.0)\n",
            "Collecting aenum>=2.1.4\n",
            "\u001b[?25l  Downloading https://files.pythonhosted.org/packages/31/6d/7ed856edfb60d4a4ab22850ed84cb90351af54dea5ee17d605187e3ba640/aenum-2.2.6-py3-none-any.whl (43kB)\n",
            "\u001b[K     |████████████████████████████████| 51kB 5.7MB/s \n",
            "\u001b[?25hRequirement already satisfied, skipping upgrade: dataclasses in /usr/local/lib/python3.6/dist-packages (from sentinelhub) (0.8)\n",
            "Requirement already satisfied, skipping upgrade: urllib3!=1.25.0,!=1.25.1,<1.26,>=1.21.1 in /usr/local/lib/python3.6/dist-packages (from requests>=2.5.0->sentinelhub) (1.24.3)\n",
            "Requirement already satisfied, skipping upgrade: certifi>=2017.4.17 in /usr/local/lib/python3.6/dist-packages (from requests>=2.5.0->sentinelhub) (2020.12.5)\n",
            "Requirement already satisfied, skipping upgrade: idna<3,>=2.5 in /usr/local/lib/python3.6/dist-packages (from requests>=2.5.0->sentinelhub) (2.10)\n",
            "Requirement already satisfied, skipping upgrade: chardet<4,>=3.0.2 in /usr/local/lib/python3.6/dist-packages (from requests>=2.5.0->sentinelhub) (3.0.4)\n",
            "Requirement already satisfied, skipping upgrade: six>=1.5 in /usr/local/lib/python3.6/dist-packages (from python-dateutil->sentinelhub) (1.15.0)\n",
            "Collecting s3transfer<0.4.0,>=0.3.0\n",
            "\u001b[?25l  Downloading https://files.pythonhosted.org/packages/ea/43/4b4a1b26eb03a429a4c37ca7fdf369d938bd60018fc194e94b8379b0c77c/s3transfer-0.3.4-py2.py3-none-any.whl (69kB)\n",
            "\u001b[K     |████████████████████████████████| 71kB 5.9MB/s \n",
            "\u001b[?25hCollecting jmespath<1.0.0,>=0.7.1\n",
            "  Downloading https://files.pythonhosted.org/packages/07/cb/5f001272b6faeb23c1c9e0acc04d48eaaf5c862c17709d20e3469c6e0139/jmespath-0.10.0-py2.py3-none-any.whl\n",
            "Building wheels for collected packages: sentinelhub, utm\n",
            "  Building wheel for sentinelhub (setup.py) ... \u001b[?25l\u001b[?25hdone\n",
            "  Created wheel for sentinelhub: filename=sentinelhub-3.1.0-cp36-none-any.whl size=196404 sha256=0ae8bdef15533db3aa4fa10e38c9f701e59516b3cb000ddb6675778beb207ae5\n",
            "  Stored in directory: /root/.cache/pip/wheels/90/6c/df/be1525ead52f5c2ce49f0880e73587723bf25caac7295f9db2\n",
            "  Building wheel for utm (setup.py) ... \u001b[?25l\u001b[?25hdone\n",
            "  Created wheel for utm: filename=utm-0.7.0-cp36-none-any.whl size=6094 sha256=456de1d2f3a98f00266d62b474e3bae9dca6bbb83c70305f31f4fd8ca903f8fc\n",
            "  Stored in directory: /root/.cache/pip/wheels/d3/a0/c4/93c7535fe705e70d2376505fd2683f91524a50a944a15212d9\n",
            "Successfully built sentinelhub utm\n",
            "\u001b[31mERROR: botocore 1.19.55 has requirement urllib3<1.27,>=1.25.4; python_version != \"3.4\", but you'll have urllib3 1.24.3 which is incompatible.\u001b[0m\n",
            "Installing collected packages: utm, jmespath, botocore, s3transfer, boto3, pyproj, aenum, sentinelhub\n",
            "Successfully installed aenum-2.2.6 boto3-1.16.55 botocore-1.19.55 jmespath-0.10.0 pyproj-3.0.0.post1 s3transfer-0.3.4 sentinelhub-3.1.0 utm-0.7.0\n"
          ],
          "name": "stdout"
        }
      ]
    },
    {
      "cell_type": "code",
      "metadata": {
        "colab": {
          "base_uri": "https://localhost:8080/"
        },
        "id": "325GhGFZuttN",
        "outputId": "33f81690-19a2-48af-8a8e-5f78d2435f30"
      },
      "source": [
        "from google.colab import drive\n",
        "drive.mount('/content/gdrive', force_remount=True)"
      ],
      "execution_count": null,
      "outputs": [
        {
          "output_type": "stream",
          "text": [
            "Mounted at /content/gdrive\n"
          ],
          "name": "stdout"
        }
      ]
    },
    {
      "cell_type": "markdown",
      "metadata": {
        "id": "91LkaMieyDXW"
      },
      "source": [
        "### Put the path to the folder where we want to save the files from Sentinelhub"
      ]
    },
    {
      "cell_type": "code",
      "metadata": {
        "id": "vtUnsk7Z0YU4"
      },
      "source": [
        "#Uncomment depending on the satellite \n",
        "rootPath=\"/content/gdrive/My Drive/WORK/C&T/SENTINEL-HUB/test_dir/SENTINEL_L2A/\"\n"
      ],
      "execution_count": null,
      "outputs": []
    },
    {
      "cell_type": "code",
      "metadata": {
        "id": "X5Z_1obScIBu"
      },
      "source": [
        "from sentinelhub import SHConfig\n",
        "\n",
        "\n",
        "INSTANCE_ID = '82f77578-eb9a-4909-9a28-30f5279ba6a3'  # In case you put instance ID into configuration file you can leave this unchanged\n",
        "\n",
        "if INSTANCE_ID:\n",
        "    config = SHConfig()\n",
        "    config.instance_id = INSTANCE_ID\n",
        "else:\n",
        "    config = None"
      ],
      "execution_count": null,
      "outputs": []
    },
    {
      "cell_type": "markdown",
      "metadata": {
        "id": "g5UmHdO5cIBu"
      },
      "source": [
        "#### Imports "
      ]
    },
    {
      "cell_type": "code",
      "metadata": {
        "id": "n39lh0TVcIBu"
      },
      "source": [
        "%reload_ext autoreload\n",
        "%autoreload 2\n",
        "%matplotlib inline"
      ],
      "execution_count": null,
      "outputs": []
    },
    {
      "cell_type": "markdown",
      "metadata": {
        "id": "OZtK0xWty5Vc"
      },
      "source": [
        "### Import the Libraries"
      ]
    },
    {
      "cell_type": "code",
      "metadata": {
        "id": "YsNjm4gMcIBu"
      },
      "source": [
        "# Please, install all the neccesary libs.\n",
        "import datetime\n",
        "import numpy as np\n",
        "\n",
        "import matplotlib.pyplot as plt\n",
        "import os \n",
        "import json "
      ],
      "execution_count": null,
      "outputs": []
    },
    {
      "cell_type": "code",
      "metadata": {
        "id": "eqUnnU6McIBu"
      },
      "source": [
        "from sentinelhub import WmsRequest, WcsRequest, MimeType, CRS, BBox, DataCollection"
      ],
      "execution_count": null,
      "outputs": []
    },
    {
      "cell_type": "code",
      "metadata": {
        "id": "gI_w2J75cIBu"
      },
      "source": [
        "def plot_image(image, factor=1):\n",
        "    \"\"\"\n",
        "    Utility function for plotting RGB images.\n",
        "    \"\"\"\n",
        "    fig = plt.subplots(nrows=1, ncols=1, figsize=(15, 7))\n",
        "    \n",
        "    if np.issubdtype(image.dtype, np.floating):\n",
        "        plt.imshow(np.minimum(image * factor, 1))\n",
        "    else:\n",
        "        plt.imshow(image)"
      ],
      "execution_count": null,
      "outputs": []
    },
    {
      "cell_type": "markdown",
      "metadata": {
        "id": "7_-k6Ds4A97C"
      },
      "source": [
        "### Setting parameters to rename the folder"
      ]
    },
    {
      "cell_type": "code",
      "metadata": {
        "id": "cXo2sM6oBJO6"
      },
      "source": [
        "satellite='SentinelL2A'\n",
        "campo1='campo1'"
      ],
      "execution_count": null,
      "outputs": []
    },
    {
      "cell_type": "markdown",
      "metadata": {
        "id": "fC9sxLuacIBu"
      },
      "source": [
        "#### Setting area of interest"
      ]
    },
    {
      "cell_type": "code",
      "metadata": {
        "id": "2iFN6TrocIBu"
      },
      "source": [
        "talca_coords_wgs84 = [-71.817933, -35.452880, -71.807166, -35.446550] #TALCA coordinates 1st PART (Parte izquierda del terreno)\n",
        "#FORMAT(LONGITUDE1, LATITUDE1, LONGITUDE2, LATITUDE2) From Google Earth they are lower left and upper rigth corners "
      ],
      "execution_count": null,
      "outputs": []
    },
    {
      "cell_type": "markdown",
      "metadata": {
        "id": "tnueMsAzcIBu"
      },
      "source": [
        "All requests require bounding box to be given as an instance of `sentinelhub.geometry.BBox` with corresponding Coordinate Reference System (`sentinelhub.geometry.CRS`). In our case it is in _WGS84_ and we can use the predefined _WGS84_ coordinate reference system from `sentinelhub.geometry.CRS`."
      ]
    },
    {
      "cell_type": "code",
      "metadata": {
        "id": "oYxP2Ef1cIBu"
      },
      "source": [
        "talca_bbox = BBox(bbox=talca_coords_wgs84, crs=CRS.WGS84)"
      ],
      "execution_count": null,
      "outputs": []
    },
    {
      "cell_type": "code",
      "metadata": {
        "id": "_Q9AML2ZcIBy"
      },
      "source": [
        "wms_true_color_request = WmsRequest(\n",
        "    data_collection=DataCollection.SENTINEL2_L2A,\n",
        "    data_folder=rootPath,\n",
        "    layer='TRUE-COLOR-S2-L2A',\n",
        "    bbox=talca_bbox,\n",
        "    #time='2017-12-10',\n",
        "    time=('2017-01-01','2020-12-31'),\n",
        "    #width=512,\n",
        "    #height=856,\n",
        "    width=600,\n",
        "    #height=600,\n",
        "    image_format=MimeType.TIFF,\n",
        "    time_difference=datetime.timedelta(hours=2),\n",
        "    config=config\n",
        ")"
      ],
      "execution_count": null,
      "outputs": []
    },
    {
      "cell_type": "code",
      "metadata": {
        "colab": {
          "base_uri": "https://localhost:8080/"
        },
        "id": "sYZiGBTYoSw2",
        "outputId": "0f3902c5-bf53-45c1-f553-fe0e84ef8472"
      },
      "source": [
        "#Save data\n",
        "%%time\n",
        "wms_true_color_request.save_data()\n"
      ],
      "execution_count": null,
      "outputs": [
        {
          "output_type": "stream",
          "text": [
            "CPU times: user 3.77 s, sys: 468 ms, total: 4.24 s\n",
            "Wall time: 31.3 s\n"
          ],
          "name": "stdout"
        }
      ]
    },
    {
      "cell_type": "markdown",
      "metadata": {
        "id": "ieGSq0qglwCO"
      },
      "source": [
        "## PRUEBA DE NUMERO DE IMAGENES Q DESCARGA"
      ]
    },
    {
      "cell_type": "code",
      "metadata": {
        "colab": {
          "base_uri": "https://localhost:8080/"
        },
        "id": "PpNUkJogkuo7",
        "outputId": "4780523d-3770-4981-8eb4-b2a582c6d675"
      },
      "source": [
        "wms_bands_img_from_disk = wms_true_color_request .get_data()\n",
        "print('These %d images were taken on the following dates:' % len(wms_bands_img_from_disk))\n",
        "for index, date in enumerate(wms_true_color_request.get_dates()):\n",
        "    print(' - image %d was taken on %s' % (index, date))"
      ],
      "execution_count": null,
      "outputs": [
        {
          "output_type": "stream",
          "text": [
            "These 230 images were taken on the following dates:\n",
            " - image 0 was taken on 2017-01-19 14:45:47\n",
            " - image 1 was taken on 2017-01-29 14:44:58\n",
            " - image 2 was taken on 2017-02-18 14:51:50\n",
            " - image 3 was taken on 2017-02-28 14:45:05\n",
            " - image 4 was taken on 2017-03-20 14:51:59\n",
            " - image 5 was taken on 2017-04-09 14:49:33\n",
            " - image 6 was taken on 2017-04-29 14:49:45\n",
            " - image 7 was taken on 2017-05-19 14:49:48\n",
            " - image 8 was taken on 2017-06-08 14:49:11\n",
            " - image 9 was taken on 2017-06-28 14:49:05\n",
            " - image 10 was taken on 2017-07-13 14:49:43\n",
            " - image 11 was taken on 2017-07-18 14:49:10\n",
            " - image 12 was taken on 2017-08-02 14:49:42\n",
            " - image 13 was taken on 2017-08-27 14:49:09\n",
            " - image 14 was taken on 2017-09-11 14:50:07\n",
            " - image 15 was taken on 2017-09-16 14:51:18\n",
            " - image 16 was taken on 2017-10-01 14:45:37\n",
            " - image 17 was taken on 2017-10-06 14:48:51\n",
            " - image 18 was taken on 2017-10-21 14:49:45\n",
            " - image 19 was taken on 2017-10-26 14:41:12\n",
            " - image 20 was taken on 2017-11-10 14:40:29\n",
            " - image 21 was taken on 2017-11-15 14:47:50\n",
            " - image 22 was taken on 2017-11-20 14:48:05\n",
            " - image 23 was taken on 2017-12-05 14:46:40\n",
            " - image 24 was taken on 2017-12-10 14:46:05\n",
            " - image 25 was taken on 2017-12-20 14:46:55\n",
            " - image 26 was taken on 2017-12-25 14:47:02\n",
            " - image 27 was taken on 2017-12-30 14:52:14\n",
            " - image 28 was taken on 2018-01-09 14:46:59\n",
            " - image 29 was taken on 2018-01-14 14:43:48\n",
            " - image 30 was taken on 2018-01-19 14:48:15\n",
            " - image 31 was taken on 2018-01-29 14:45:30\n",
            " - image 32 was taken on 2018-02-08 14:52:24\n",
            " - image 33 was taken on 2018-02-13 14:43:34\n",
            " - image 34 was taken on 2018-02-18 14:44:50\n",
            " - image 35 was taken on 2018-02-23 14:51:23\n",
            " - image 36 was taken on 2018-02-28 14:48:03\n",
            " - image 37 was taken on 2018-03-05 14:45:48\n",
            " - image 38 was taken on 2018-03-10 14:41:18\n",
            " - image 39 was taken on 2018-03-15 14:44:53\n",
            " - image 40 was taken on 2018-03-20 14:51:02\n",
            " - image 41 was taken on 2018-03-25 14:48:10\n",
            " - image 42 was taken on 2018-03-30 14:44:53\n",
            " - image 43 was taken on 2018-04-04 14:44:57\n",
            " - image 44 was taken on 2018-04-09 14:43:03\n",
            " - image 45 was taken on 2018-04-14 14:45:53\n",
            " - image 46 was taken on 2018-04-19 14:44:56\n",
            " - image 47 was taken on 2018-04-24 14:45:13\n",
            " - image 48 was taken on 2018-05-09 14:44:56\n",
            " - image 49 was taken on 2018-05-14 14:45:00\n",
            " - image 50 was taken on 2018-05-24 14:41:58\n",
            " - image 51 was taken on 2018-06-03 14:44:58\n",
            " - image 52 was taken on 2018-06-13 14:51:07\n",
            " - image 53 was taken on 2018-06-23 14:46:33\n",
            " - image 54 was taken on 2018-07-08 14:49:18\n",
            " - image 55 was taken on 2018-07-18 14:47:43\n",
            " - image 56 was taken on 2018-07-23 14:46:05\n",
            " - image 57 was taken on 2018-07-28 14:45:57\n",
            " - image 58 was taken on 2018-08-02 14:40:29\n",
            " - image 59 was taken on 2018-08-07 14:49:33\n",
            " - image 60 was taken on 2018-08-12 14:51:50\n",
            " - image 61 was taken on 2018-08-27 14:49:49\n",
            " - image 62 was taken on 2018-09-01 14:40:30\n",
            " - image 63 was taken on 2018-09-06 14:52:17\n",
            " - image 64 was taken on 2018-09-11 14:52:48\n",
            " - image 65 was taken on 2018-09-16 14:47:51\n",
            " - image 66 was taken on 2018-09-21 14:51:13\n",
            " - image 67 was taken on 2018-09-26 14:44:57\n",
            " - image 68 was taken on 2018-10-01 14:47:02\n",
            " - image 69 was taken on 2018-10-06 14:45:35\n",
            " - image 70 was taken on 2018-10-11 14:44:55\n",
            " - image 71 was taken on 2018-10-16 14:45:03\n",
            " - image 72 was taken on 2018-10-21 14:44:55\n",
            " - image 73 was taken on 2018-10-26 14:47:26\n",
            " - image 74 was taken on 2018-10-31 14:44:54\n",
            " - image 75 was taken on 2018-11-05 14:49:43\n",
            " - image 76 was taken on 2018-11-15 14:52:48\n",
            " - image 77 was taken on 2018-11-20 14:52:44\n",
            " - image 78 was taken on 2018-11-25 14:52:48\n",
            " - image 79 was taken on 2018-11-30 14:52:43\n",
            " - image 80 was taken on 2018-12-05 14:52:46\n",
            " - image 81 was taken on 2018-12-10 14:52:43\n",
            " - image 82 was taken on 2018-12-15 14:52:45\n",
            " - image 83 was taken on 2018-12-20 14:52:43\n",
            " - image 84 was taken on 2018-12-25 14:52:47\n",
            " - image 85 was taken on 2018-12-30 14:52:45\n",
            " - image 86 was taken on 2019-01-04 14:52:49\n",
            " - image 87 was taken on 2019-01-09 14:52:46\n",
            " - image 88 was taken on 2019-01-14 14:52:51\n",
            " - image 89 was taken on 2019-01-19 14:52:48\n",
            " - image 90 was taken on 2019-01-24 14:52:51\n",
            " - image 91 was taken on 2019-01-29 15:01:38\n",
            " - image 92 was taken on 2019-02-03 14:52:52\n",
            " - image 93 was taken on 2019-02-08 14:52:48\n",
            " - image 94 was taken on 2019-02-13 14:52:51\n",
            " - image 95 was taken on 2019-02-18 14:52:47\n",
            " - image 96 was taken on 2019-02-23 14:54:55\n",
            " - image 97 was taken on 2019-02-28 14:57:32\n",
            " - image 98 was taken on 2019-03-05 14:58:11\n",
            " - image 99 was taken on 2019-03-10 14:54:59\n",
            " - image 100 was taken on 2019-03-15 15:00:36\n",
            " - image 101 was taken on 2019-03-20 15:00:27\n",
            " - image 102 was taken on 2019-03-25 14:53:33\n",
            " - image 103 was taken on 2019-03-30 15:04:03\n",
            " - image 104 was taken on 2019-04-04 14:57:20\n",
            " - image 105 was taken on 2019-04-09 14:54:03\n",
            " - image 106 was taken on 2019-04-14 14:58:06\n",
            " - image 107 was taken on 2019-04-19 15:02:10\n",
            " - image 108 was taken on 2019-04-24 14:53:52\n",
            " - image 109 was taken on 2019-04-29 14:52:55\n",
            " - image 110 was taken on 2019-05-04 14:52:59\n",
            " - image 111 was taken on 2019-05-09 14:52:55\n",
            " - image 112 was taken on 2019-05-14 14:53:00\n",
            " - image 113 was taken on 2019-05-19 14:52:55\n",
            " - image 114 was taken on 2019-05-24 14:53:00\n",
            " - image 115 was taken on 2019-05-29 14:52:54\n",
            " - image 116 was taken on 2019-06-03 14:52:59\n",
            " - image 117 was taken on 2019-06-08 14:52:54\n",
            " - image 118 was taken on 2019-06-13 14:52:58\n",
            " - image 119 was taken on 2019-06-18 14:52:55\n",
            " - image 120 was taken on 2019-06-23 14:52:59\n",
            " - image 121 was taken on 2019-06-28 14:52:56\n",
            " - image 122 was taken on 2019-07-03 14:53:00\n",
            " - image 123 was taken on 2019-07-08 14:52:56\n",
            " - image 124 was taken on 2019-07-13 14:53:00\n",
            " - image 125 was taken on 2019-07-18 14:52:56\n",
            " - image 126 was taken on 2019-07-23 14:53:00\n",
            " - image 127 was taken on 2019-07-28 14:52:56\n",
            " - image 128 was taken on 2019-08-02 14:52:59\n",
            " - image 129 was taken on 2019-08-07 14:52:55\n",
            " - image 130 was taken on 2019-08-12 14:52:58\n",
            " - image 131 was taken on 2019-08-17 14:52:54\n",
            " - image 132 was taken on 2019-08-22 14:52:56\n",
            " - image 133 was taken on 2019-08-27 14:52:49\n",
            " - image 134 was taken on 2019-09-01 14:52:55\n",
            " - image 135 was taken on 2019-09-06 14:52:51\n",
            " - image 136 was taken on 2019-09-11 14:52:52\n",
            " - image 137 was taken on 2019-09-16 14:52:50\n",
            " - image 138 was taken on 2019-09-21 14:52:51\n",
            " - image 139 was taken on 2019-09-26 14:52:52\n",
            " - image 140 was taken on 2019-10-01 14:52:52\n",
            " - image 141 was taken on 2019-10-06 14:52:54\n",
            " - image 142 was taken on 2019-10-11 14:52:52\n",
            " - image 143 was taken on 2019-10-16 14:52:54\n",
            " - image 144 was taken on 2019-10-21 14:52:52\n",
            " - image 145 was taken on 2019-10-26 14:52:54\n",
            " - image 146 was taken on 2019-10-31 14:52:52\n",
            " - image 147 was taken on 2019-11-05 14:52:54\n",
            " - image 148 was taken on 2019-11-10 14:52:51\n",
            " - image 149 was taken on 2019-11-15 14:52:53\n",
            " - image 150 was taken on 2019-11-20 14:52:49\n",
            " - image 151 was taken on 2019-11-25 14:52:51\n",
            " - image 152 was taken on 2019-11-30 14:52:46\n",
            " - image 153 was taken on 2019-12-05 14:52:49\n",
            " - image 154 was taken on 2019-12-10 14:52:45\n",
            " - image 155 was taken on 2019-12-15 14:52:46\n",
            " - image 156 was taken on 2019-12-20 14:52:46\n",
            " - image 157 was taken on 2019-12-25 14:52:46\n",
            " - image 158 was taken on 2019-12-30 14:52:46\n",
            " - image 159 was taken on 2020-01-04 14:52:46\n",
            " - image 160 was taken on 2020-01-09 14:52:46\n",
            " - image 161 was taken on 2020-01-14 14:52:45\n",
            " - image 162 was taken on 2020-01-19 14:52:45\n",
            " - image 163 was taken on 2020-01-24 14:52:44\n",
            " - image 164 was taken on 2020-01-29 14:52:43\n",
            " - image 165 was taken on 2020-02-03 14:52:43\n",
            " - image 166 was taken on 2020-02-08 14:52:46\n",
            " - image 167 was taken on 2020-02-13 14:52:44\n",
            " - image 168 was taken on 2020-02-18 14:52:47\n",
            " - image 169 was taken on 2020-02-23 14:52:46\n",
            " - image 170 was taken on 2020-02-28 14:52:48\n",
            " - image 171 was taken on 2020-03-04 14:52:47\n",
            " - image 172 was taken on 2020-03-09 14:52:49\n",
            " - image 173 was taken on 2020-03-14 14:52:47\n",
            " - image 174 was taken on 2020-03-19 14:52:49\n",
            " - image 175 was taken on 2020-03-24 14:52:47\n",
            " - image 176 was taken on 2020-03-29 14:52:49\n",
            " - image 177 was taken on 2020-04-03 14:52:47\n",
            " - image 178 was taken on 2020-04-08 14:52:48\n",
            " - image 179 was taken on 2020-04-13 14:52:50\n",
            " - image 180 was taken on 2020-04-18 14:52:46\n",
            " - image 181 was taken on 2020-04-23 14:52:53\n",
            " - image 182 was taken on 2020-04-28 14:52:47\n",
            " - image 183 was taken on 2020-05-03 14:52:55\n",
            " - image 184 was taken on 2020-05-08 14:52:49\n",
            " - image 185 was taken on 2020-05-13 14:52:56\n",
            " - image 186 was taken on 2020-05-18 14:52:51\n",
            " - image 187 was taken on 2020-05-23 14:52:57\n",
            " - image 188 was taken on 2020-05-28 14:52:52\n",
            " - image 189 was taken on 2020-06-02 14:52:57\n",
            " - image 190 was taken on 2020-06-07 14:52:53\n",
            " - image 191 was taken on 2020-06-12 14:52:57\n",
            " - image 192 was taken on 2020-06-17 14:52:54\n",
            " - image 193 was taken on 2020-06-22 14:52:57\n",
            " - image 194 was taken on 2020-06-27 14:52:54\n",
            " - image 195 was taken on 2020-07-02 14:52:56\n",
            " - image 196 was taken on 2020-07-07 14:52:53\n",
            " - image 197 was taken on 2020-07-12 14:52:56\n",
            " - image 198 was taken on 2020-07-17 14:52:52\n",
            " - image 199 was taken on 2020-07-22 14:52:57\n",
            " - image 200 was taken on 2020-07-27 14:52:54\n",
            " - image 201 was taken on 2020-08-01 14:52:57\n",
            " - image 202 was taken on 2020-08-06 14:52:54\n",
            " - image 203 was taken on 2020-08-11 14:52:57\n",
            " - image 204 was taken on 2020-08-16 14:52:55\n",
            " - image 205 was taken on 2020-08-21 14:52:57\n",
            " - image 206 was taken on 2020-08-26 14:52:55\n",
            " - image 207 was taken on 2020-08-31 14:52:56\n",
            " - image 208 was taken on 2020-09-05 14:52:54\n",
            " - image 209 was taken on 2020-09-10 14:52:55\n",
            " - image 210 was taken on 2020-09-15 14:52:53\n",
            " - image 211 was taken on 2020-09-20 14:52:56\n",
            " - image 212 was taken on 2020-09-25 14:52:54\n",
            " - image 213 was taken on 2020-09-30 14:52:57\n",
            " - image 214 was taken on 2020-10-05 14:52:55\n",
            " - image 215 was taken on 2020-10-10 14:52:57\n",
            " - image 216 was taken on 2020-10-15 14:52:55\n",
            " - image 217 was taken on 2020-10-20 14:52:57\n",
            " - image 218 was taken on 2020-10-25 14:52:54\n",
            " - image 219 was taken on 2020-10-30 14:52:56\n",
            " - image 220 was taken on 2020-11-09 14:52:55\n",
            " - image 221 was taken on 2020-11-14 14:52:52\n",
            " - image 222 was taken on 2020-11-19 14:52:54\n",
            " - image 223 was taken on 2020-11-24 14:52:51\n",
            " - image 224 was taken on 2020-11-29 14:52:51\n",
            " - image 225 was taken on 2020-12-04 14:52:50\n",
            " - image 226 was taken on 2020-12-09 14:52:48\n",
            " - image 227 was taken on 2020-12-19 14:52:50\n",
            " - image 228 was taken on 2020-12-24 14:52:48\n",
            " - image 229 was taken on 2020-12-29 14:52:51\n"
          ],
          "name": "stdout"
        }
      ]
    },
    {
      "cell_type": "code",
      "metadata": {
        "id": "qiiX1jWDpekG",
        "colab": {
          "base_uri": "https://localhost:8080/"
        },
        "outputId": "0b0ea848-74b8-41e3-f57d-ac9fbd4fddb0"
      },
      "source": [
        "#Getting the list of all saved folders.\n",
        "folders1=os.listdir(wms_true_color_request.data_folder)\n",
        "print(folders1)"
      ],
      "execution_count": null,
      "outputs": [
        {
          "output_type": "stream",
          "text": [
            "['01826a4182f0dd0ad5f2b227da16d7b5', '5974a08ed9aa636328805a58385a2421', '392b536057f6ca7277633967c50cc000', '102e259a81d8e365c21adcdb5715db8e', '0c2d7c6a48939f777d0e3175c10c8c87', 'b05a468a6a7fac7ee4a16de8570594b1', 'd47167168722d2e95207d046583b168f', 'c99bdc6e85fc92fcd49629cbad4317a0', 'a5babdb5a43c76dd26c509284170fdea', '1c8d798f551f4d29a9c7001ed42707ef', 'c11e200cb307a9e886a0ac9725bfc774', '0ba25d5f7b775d5ae0b357d6c5e3f0af', '687fb010c45d11d542398f9c79558abb', '7819fb84ef6295d63b935d871bab3381', '3e5b2473ca6c3e89f2cafbcae3058cff', 'fc8267837687d037e5126580bbc8ecbe', '997d3eaa3c1ec9d92e7adcecd8395260', '5dfdbd103967a5b330c090b5ed90e3cb', '4d167357a63b5ef29a57c6dc2a8f6353', '7924795a452f14cf8775838f92a33a94', '3153aae7362c8ab9f4df492574c3c15a', '863b3cab5a2dc919986f0955dba6fe36', '98c48de9399c31b51793cc1136c561af', 'c821360745506e9c236f9a8986f03882', '7f16d54dcd982d0f4d5a02a704a6bc28', 'ff3823b95f5aa06aba23def884da46fa', '7338e1673e92aa7821a865201b14546c', 'ce2ff77e67569b6a19735d4840eca00d', '561cb0054f70523d9abd4f20062b039e', '907e69dde192721dc2fb42da9b913028', '3c865edd15828dcfbf987bc634562025', '50df1972e9ec6f76f7bf6dfd83f83d4f', '00f23c09808e45d36f984c2da19188cc', 'c1ecf073b26bcb1ecf765b9aea3faf91', '1cfa61bb099e891e40a6ca2eb20aa7fd', 'fa2bb60b8eaa947976b9f58e58ca9db4', '9da932a5744302f607baeef5205b1358', '361ebc934dc52ca623ca57bc26a9b15c', '9064740066f3c99d8273d2ce43608ffb', '2a92e9609afb38e85dec522fa97aa0a0', '96ec930f00df750c2f329cb69a9a299f', 'babf36a7afc6c8de10a25d9cb40a2aaa', '23cbc635ca0fe1dd0a15cfc4bc16b05c', '1d2afe021ee5b3c681d3339c00059dc8', 'd2a29151d194c297d5d45c857ce45bcb', '592b9e93f4504469d07ebb3f67a36f46', '8e612feff7909e237e0c6208e1fb7e94', 'fa8bc2a24d5f854d6fe5e897db9593b5', '1436da49111c8933f235799bd7ca7ae4', '1853e52b4bd4f8c1d04f53d3a496d1ad', 'b308d52be0d3f369a44caba313f6c3b1', 'fb0bad1abefc7e0f06c70dce9a38dcd7', '34868254ac40e3e6a51ad3cb20aa7159', 'ddf57c3eab468a7e64162d6352edd3d1', '5e3b40a5160a21a76c8b730553a90dec', '99f328321af405d95786438c21d6c578', 'e087b8733303f397ac70f00fe981240e', '31f493adacdcd50f04006f0a6b021f61', '1272de5d35e22528b42106c95270ac37', '80af1cc4cb0cd3710d09b979bc30cd87', 'a31533194111fd2b92d2b0e6aa93d90c', '2f3a1a43340f632b9d0040a1e7ae52f2', '7ceb1f7bc9ace7224f2b5632cc787234', '5ff9916e012457e0a5e260bd8e0f0ee1', 'c5368028322683a2af73af0e0d1a4a31', '8f4415b89d06aa36b3f9b5573929147f', 'aa8d608f47035ad0f4a9e33a26ddc834', '66f214a248021a7913504d0fb2552ab6', '3ad2b919b61c49eafc023703c081b404', 'bd2c577bf2ea59276031a7983632dc1a', '6ec84c4e06e90e55da85f0063134ab4a', 'd0d8b7da34a66c69d36232e74088ff6d', '2765a294aec0c48bbfeffe53bee104d3', 'bfb3388d593a76cd976d08f9ea7932ca', '41807675ce045297b0c7cdab9d25f736', 'b80a69ccb6dae8462920fa2ecc57867f', '7db13d43202f29387bebf1ff5487ad95', '226566a04a0441fe54785dd9261bd748', '39b956b0ad076a61344e2cb8cfab1fb3', 'af1822a8dc9495d92b55201d4945017b', '7d6ea9f14ee279e6ef549f4d36db57e6', '977277d46eb50ac6ffd5e892ea3fb8a7', 'c9efbfdd056d3f2b02e28ff11a4d316c', '7f59ff79231692685568a8131b6ce5fe', 'a6a169fefdfbfc5f9599bca459b07bf7', 'f21be8acd6438be6522523a22977df67', 'eb4b302824f18f9f9826ae821755f3fc', '4d9108e7d40ceeeeca13dcfec35da1f8', 'a900f435655dd73151492e061f039ba6', '41982510c4e726f60a94a0d3e14ce216', 'eba1f0b49a8c640acc9f3e4b39a4dff2', '1fe7b3bd36616cdbd76afc2bb0aea691', '66bafa75d34d4868654323cce64d14d8', 'c7ddac0dc7b996bcc9db359c78b4f09b', '8f7b122720f1720996e356e9257de00b', 'd95ce19424dc9b3566152c906e33dafb', '650e0b92fc4c2b8857d4498bcc5c185f', '7c7740652e3cfc477c37253e9608f397', '27312cd23299e23343d0c4ca359550a4', '928c34229b5effc2d322b5b5252172d5', '0c833063ef9758aad1aff0513c811e9f', '64aab14af827d98279807378d7983bb9', '1fea1ade1658d4cc6159f9fbaea94518', 'b54f76da8d5ea2204402cbe8f6e7d2d3', '21fedc52943ad7cfbc3970aaf9753ab4', 'b789768844a67151d4af70c4093b77b0', 'b612d658d7c49cc83f1c449fd72c7da8', 'b39eb5d3f7c2b5727959199ed14ca5b9', '34c3b7f208a0b586432c68cb3e26691c', 'e8f9a45ae336618eafd70ec1233cd03c', '67440268bb93fb2017a99fb645f71f0e', '2ec58ef1eae97c7d3637a256a3e06366', '9c98279a006e3f6ba59dd15b727b450e', 'ccd064be47d3af860bfecb60225b19da', '722c0c5902e440b5aff91a6c07258ee0', '56a50cc85611f7b7825ced0745b07448', 'fc1b1168b65c1b5493bc423294f50cdf', '8286b6656e00371d5faf4ae8f4e40e1d', '55dd3ce3840ee260b16bef0a37d60fdf', '6ac412b8bbfa92182a2d596f9e2f8fa4', '0a835dc18973c047dcbfa352490cfa81', 'c8ecd04c479bf143891bc7c5142443ab', 'f7564c7d97def6980f9c6e0a88e41de2', 'b504c178771c5b7922742793ee7af156', '8d04b55bd93287132d5665d8e2bcbe1b', 'b1f10dc807bf34efb15750a51ca8bbda', '63335b0cd09e667f07e154aee267a7be', 'bb19a62a4ea2ad8ebae748f5840dfffa', '324aa8f4631c2e87e0e3d8b0b7468bb7', 'b963a54a2bb214c3113c15718bb78bab', '80a7d6e519d453536059bd9dcebe031d', 'fc24eeb576cf3f511757e08b8546fd70', '17829668b5bfeb59895955f65ff7e6af', '0d7ea0f46410e876fd187543ed83022c', 'e35064ac1eb4b33a79533b306f6871fe', 'c29f6ec42f51a7679dddbc173318b025', '58bea99d69d2149069297274b6bf5bc9', '27f52372afe70c43a5278e144c3c5f10', '88c7fb2bf395572192b1c54e71c4e209', 'd25dc733cbe2d0f36b432129ebdbfb27', '97e752700f72d1b8f43289a17f81ca72', 'ab00b5f7c9c681e8d03fe3c91fc95e14', '4a95aee2177c7d88b0ce04fa38e37b22', '2ab84f53a1673b4a2e0b13d0e7c513d3', '8e702452f752c558c30d4cab40a1f683', '13eca34f65b0cfaf143d9afd891ee8db', '5e58d1ab49482278ac469bb232c5301f', '3aa2f021df16173695e584a674915056', '5cf9577321de47c76d4d1e733b62f0a7', 'd4deca95acf2ccba2eafbcbbd76f4823', '6c1404b17d7f143f27db8744298905ea', '7ca00f7dd42e0cda81a8e514455ec8df', 'ebf44204d83bceabc6f97fb3ab4b69fa', '25cb0cc94d98f2fca3cf9e85ccb80a00', 'b59cd9dd2f9aae07653d1e26894ecc73', 'e11e07fe10828c2cd2c33cab08030120', '7679846fa08e7b6be23db0d095125541', '4384eefa7a73806d0a759716ea1e9d05', '00f3defece33f98fb802443b3e0e8342', '4199ef9c6471a7e90f9cb623cf3ed668', '7f209f84f7320ba759d27deacc210351', '91e55ec560877f54f8a7c516dba88699', 'b66af3f62b07023ea669d052d79bcb7e', 'c20e645b0a95f9859be1c6fa0a21444e', '549439e886712ec2550087e6d63bed12', 'a71698d1e1808b11a791a6722ba9b895', '6289ab9ed80b299afe5e3dea12dc5f9c', '6b910b86db36543dd0d007c2f9a16f96', '85a0b47b9db0b5478035f8963c46e0e2', 'eb127be04c9c8651e582235e608b2831', '56809b0f6af1546c16030ed19eae3129', '98a167d49bc7dc1055d61ef06a6fc02c', 'ac599de96bc71d7c25ec84f7b1414407', '5f5bda2695d7c7eefa5e5492e50b6f6e', 'bfcb20e2f33be861868f07ce2db16a08', 'b8372d3f5e8a9e6c3dd68ba4fc0515d8', '874bde38fa2b84aa1bc7f1534244b15f', '202abc8afb6a9417c5a07f55c25565fd', 'ff7238b1b55b6b625c789c9c2a25fc2a', 'dac39d0affe202454f826175bb3cd177', 'b34ed4536bac5d749aeb4eae3bb379f7', 'f97715677e662674844078af6153c1f3', '7b21377c6ac9d8c21d384ed45c1bd9df', '71871b4da7af07359ab07feb5879c4b4', '57192e7500e026697a70a46c578ffbc9', '98fef0d706710d6f125dff971bf8b8a9', '4822b29ab109945f99f207c4b46ea525', '010b4c3d0ca8e2f459d4f3a41b97cfb0', '340f9031f800382d8f48d6d4800491eb', '8cb1d83e37c51ad59b8433f9fd23282f', 'b61251c209b5b4dbb0191f064fbbae7d', '789dfdd0b76bfbff5c4c80bcfce682f3', 'fc2fa9b78d19e130ab94fbd429461ba1', 'ae1946dc2d7a670a557af32952d3d049', '8908529c34db65f1be093eb8d1658940', '79c789d20ac13ebd366b50a63cb2551f', 'ac980ecf91773dc630fd02418aa0cd1e', 'f40b70fc0a195095681af9a99b4bdc53', '7a47a691c519da427b19aab6d7c87b27', '4360a9df178b7b5772a70abb2e30da90', '59659d6b0f9b5449d0ec2f7a7a179e5f', '6daeacd050dbf3daaf2da3d75e0016b1', 'bcdc28e82be7374d7aedd49ab139144c', '7cb35c5608c2d42c257926ac37f63686', 'fe5d6df4209e750f9b591f7e69409e21', 'aefc0e7328ef54ca5d68adafcf374b70', '1f74087d1a2a9767e753920dace94c47', '42882d7eb0c71638e439073b2bfe4bb1', 'e6f294ffa03c4b3a4e1f346757cdd40c', '75e3dc2d812267b23b3690757609a6a7', '53134cbd395d77ff6933887100ca2771', '7df8be416fb080c758a479d09c38fc3c', '651216d3c0a7ee54ac614051462b5e2d', '1c9b278df77f93ede5fd4073e94418ec', 'fb309b16019c0b145b825205b513c58c', '09e13128b1e58dc40a20fdf91ab63775', '42beda0afca264f3d3938ffe63b598c0', 'bdb802a978e2d0df17362583220be928', '099903423ac3e38b6905a348b3626acd', '77784939d931db7bd800ac0033ec0513', 'af9657199be88d7429479269ab6f80b7', '2ad752bd05715956c3d0177b31da0a54', 'aa7aab56b896dbee4c11a449359a9a49', '24110b3180585283131f8ba4221a641e', '15aa5b3a46cc02fb21328ee6ac5e9bc0', 'e3e27f94b3a2b58fb0ad590741a73428', '3a8c68832cf7797f7b2fd84cb48420e1', '3860c96165556932ae1f9108eacbdf17', 'd474c03968e204c92c6314c7aea65976', 'cf7b469fb2d01771efaf2f2385af48c9']\n"
          ],
          "name": "stdout"
        }
      ]
    },
    {
      "cell_type": "markdown",
      "metadata": {
        "id": "bEOVlj5GzqfS"
      },
      "source": [
        "### Setting parameters to rename the folder"
      ]
    },
    {
      "cell_type": "code",
      "metadata": {
        "id": "053947h_zqfT"
      },
      "source": [
        "satellite='SentinelL2A'\n",
        "campo2='campo2'"
      ],
      "execution_count": null,
      "outputs": []
    },
    {
      "cell_type": "markdown",
      "metadata": {
        "id": "HycEKCGNzqfU"
      },
      "source": [
        "#### Setting area of interest"
      ]
    },
    {
      "cell_type": "code",
      "metadata": {
        "id": "idWYV6inzqfU"
      },
      "source": [
        "talca_coords_wgs84 = [-71.800228, -35.457577, -71.786453, -35.449821] #TALCA coordinates 2nd PART (Parte derecha del terreno)\n",
        "#FORMAT(LONGITUDE1, LATITUDE1, LONGITUDE2, LATITUDE2) From Google Earth they are lower left and upper rigth corners "
      ],
      "execution_count": null,
      "outputs": []
    },
    {
      "cell_type": "markdown",
      "metadata": {
        "id": "yivVwjNEzqfU"
      },
      "source": [
        "All requests require bounding box to be given as an instance of `sentinelhub.geometry.BBox` with corresponding Coordinate Reference System (`sentinelhub.geometry.CRS`). In our case it is in _WGS84_ and we can use the predefined _WGS84_ coordinate reference system from `sentinelhub.geometry.CRS`."
      ]
    },
    {
      "cell_type": "code",
      "metadata": {
        "id": "vCXDpDqTzqfU"
      },
      "source": [
        "talca_bbox = BBox(bbox=talca_coords_wgs84, crs=CRS.WGS84)"
      ],
      "execution_count": null,
      "outputs": []
    },
    {
      "cell_type": "code",
      "metadata": {
        "id": "bqcEXTg3zqfU"
      },
      "source": [
        "wms_true_color_request = WmsRequest(\n",
        "    data_collection=DataCollection.SENTINEL2_L2A,\n",
        "    data_folder=rootPath,\n",
        "    layer='TRUE-COLOR-S2-L2A',\n",
        "    bbox=talca_bbox,\n",
        "    #time='2017-12-10',\n",
        "    time=('2017-01-01','2020-12-31'),\n",
        "    #width=512,\n",
        "    #height=856,\n",
        "    width=600,\n",
        "    #height=600,\n",
        "    image_format=MimeType.TIFF,\n",
        "    time_difference=datetime.timedelta(hours=2),\n",
        "    config=config\n",
        ")"
      ],
      "execution_count": null,
      "outputs": []
    },
    {
      "cell_type": "code",
      "metadata": {
        "colab": {
          "base_uri": "https://localhost:8080/"
        },
        "id": "KFWBD2bJzqfU",
        "outputId": "d496bc4e-45a5-4146-9287-26319069c4cd"
      },
      "source": [
        "#Save data\n",
        "%%time\n",
        "wms_true_color_request.save_data()\n"
      ],
      "execution_count": null,
      "outputs": [
        {
          "output_type": "stream",
          "text": [
            "CPU times: user 3.85 s, sys: 479 ms, total: 4.33 s\n",
            "Wall time: 28.1 s\n"
          ],
          "name": "stdout"
        }
      ]
    },
    {
      "cell_type": "markdown",
      "metadata": {
        "id": "QP8AmiikmDKh"
      },
      "source": [
        "## PRUEBA DE NUMERO DE IMAGENES Q DESCARGA"
      ]
    },
    {
      "cell_type": "code",
      "metadata": {
        "colab": {
          "base_uri": "https://localhost:8080/"
        },
        "id": "f4m_aoytmDK7",
        "outputId": "5269bcda-773d-4a3c-fce2-c2112f6b84a6"
      },
      "source": [
        "wms_bands_img_from_disk = wms_true_color_request .get_data()\n",
        "print('These %d images were taken on the following dates:' % len(wms_bands_img_from_disk))\n",
        "for index, date in enumerate(wms_true_color_request.get_dates()):\n",
        "    print(' - image %d was taken on %s' % (index, date))"
      ],
      "execution_count": null,
      "outputs": [
        {
          "output_type": "stream",
          "text": [
            "These 230 images were taken on the following dates:\n",
            " - image 0 was taken on 2017-01-19 14:45:47\n",
            " - image 1 was taken on 2017-01-29 14:44:58\n",
            " - image 2 was taken on 2017-02-18 14:51:50\n",
            " - image 3 was taken on 2017-02-28 14:45:05\n",
            " - image 4 was taken on 2017-03-20 14:51:59\n",
            " - image 5 was taken on 2017-04-09 14:49:33\n",
            " - image 6 was taken on 2017-04-29 14:49:45\n",
            " - image 7 was taken on 2017-05-19 14:49:48\n",
            " - image 8 was taken on 2017-06-08 14:49:11\n",
            " - image 9 was taken on 2017-06-28 14:49:05\n",
            " - image 10 was taken on 2017-07-13 14:49:43\n",
            " - image 11 was taken on 2017-07-18 14:49:10\n",
            " - image 12 was taken on 2017-08-02 14:49:42\n",
            " - image 13 was taken on 2017-08-27 14:49:09\n",
            " - image 14 was taken on 2017-09-11 14:50:07\n",
            " - image 15 was taken on 2017-09-16 14:51:18\n",
            " - image 16 was taken on 2017-10-01 14:45:37\n",
            " - image 17 was taken on 2017-10-06 14:48:51\n",
            " - image 18 was taken on 2017-10-21 14:49:45\n",
            " - image 19 was taken on 2017-10-26 14:41:12\n",
            " - image 20 was taken on 2017-11-10 14:40:29\n",
            " - image 21 was taken on 2017-11-15 14:47:50\n",
            " - image 22 was taken on 2017-11-20 14:48:05\n",
            " - image 23 was taken on 2017-12-05 14:46:40\n",
            " - image 24 was taken on 2017-12-10 14:46:05\n",
            " - image 25 was taken on 2017-12-20 14:46:55\n",
            " - image 26 was taken on 2017-12-25 14:47:02\n",
            " - image 27 was taken on 2017-12-30 14:52:14\n",
            " - image 28 was taken on 2018-01-09 14:46:59\n",
            " - image 29 was taken on 2018-01-14 14:43:48\n",
            " - image 30 was taken on 2018-01-19 14:48:15\n",
            " - image 31 was taken on 2018-01-29 14:45:30\n",
            " - image 32 was taken on 2018-02-08 14:52:24\n",
            " - image 33 was taken on 2018-02-13 14:43:34\n",
            " - image 34 was taken on 2018-02-18 14:44:50\n",
            " - image 35 was taken on 2018-02-23 14:51:23\n",
            " - image 36 was taken on 2018-02-28 14:48:03\n",
            " - image 37 was taken on 2018-03-05 14:45:48\n",
            " - image 38 was taken on 2018-03-10 14:41:18\n",
            " - image 39 was taken on 2018-03-15 14:44:53\n",
            " - image 40 was taken on 2018-03-20 14:51:02\n",
            " - image 41 was taken on 2018-03-25 14:48:10\n",
            " - image 42 was taken on 2018-03-30 14:44:53\n",
            " - image 43 was taken on 2018-04-04 14:44:57\n",
            " - image 44 was taken on 2018-04-09 14:43:03\n",
            " - image 45 was taken on 2018-04-14 14:45:53\n",
            " - image 46 was taken on 2018-04-19 14:44:56\n",
            " - image 47 was taken on 2018-04-24 14:45:13\n",
            " - image 48 was taken on 2018-05-09 14:44:56\n",
            " - image 49 was taken on 2018-05-14 14:45:00\n",
            " - image 50 was taken on 2018-05-24 14:41:58\n",
            " - image 51 was taken on 2018-06-03 14:44:58\n",
            " - image 52 was taken on 2018-06-13 14:51:07\n",
            " - image 53 was taken on 2018-06-23 14:46:33\n",
            " - image 54 was taken on 2018-07-08 14:49:18\n",
            " - image 55 was taken on 2018-07-18 14:47:43\n",
            " - image 56 was taken on 2018-07-23 14:46:05\n",
            " - image 57 was taken on 2018-07-28 14:45:57\n",
            " - image 58 was taken on 2018-08-02 14:40:29\n",
            " - image 59 was taken on 2018-08-07 14:49:33\n",
            " - image 60 was taken on 2018-08-12 14:51:50\n",
            " - image 61 was taken on 2018-08-27 14:49:49\n",
            " - image 62 was taken on 2018-09-01 14:40:30\n",
            " - image 63 was taken on 2018-09-06 14:52:17\n",
            " - image 64 was taken on 2018-09-11 14:52:48\n",
            " - image 65 was taken on 2018-09-16 14:47:51\n",
            " - image 66 was taken on 2018-09-21 14:51:13\n",
            " - image 67 was taken on 2018-09-26 14:44:57\n",
            " - image 68 was taken on 2018-10-01 14:47:02\n",
            " - image 69 was taken on 2018-10-06 14:45:35\n",
            " - image 70 was taken on 2018-10-11 14:44:55\n",
            " - image 71 was taken on 2018-10-16 14:45:03\n",
            " - image 72 was taken on 2018-10-21 14:44:55\n",
            " - image 73 was taken on 2018-10-26 14:47:26\n",
            " - image 74 was taken on 2018-10-31 14:44:54\n",
            " - image 75 was taken on 2018-11-05 14:49:43\n",
            " - image 76 was taken on 2018-11-15 14:52:48\n",
            " - image 77 was taken on 2018-11-20 14:52:44\n",
            " - image 78 was taken on 2018-11-25 14:52:48\n",
            " - image 79 was taken on 2018-11-30 14:52:43\n",
            " - image 80 was taken on 2018-12-05 14:52:46\n",
            " - image 81 was taken on 2018-12-10 14:52:43\n",
            " - image 82 was taken on 2018-12-15 14:52:45\n",
            " - image 83 was taken on 2018-12-20 14:52:43\n",
            " - image 84 was taken on 2018-12-25 14:52:47\n",
            " - image 85 was taken on 2018-12-30 14:52:45\n",
            " - image 86 was taken on 2019-01-04 14:52:49\n",
            " - image 87 was taken on 2019-01-09 14:52:46\n",
            " - image 88 was taken on 2019-01-14 14:52:51\n",
            " - image 89 was taken on 2019-01-19 14:52:48\n",
            " - image 90 was taken on 2019-01-24 14:52:51\n",
            " - image 91 was taken on 2019-01-29 15:01:38\n",
            " - image 92 was taken on 2019-02-03 14:52:52\n",
            " - image 93 was taken on 2019-02-08 14:52:48\n",
            " - image 94 was taken on 2019-02-13 14:52:51\n",
            " - image 95 was taken on 2019-02-18 14:52:47\n",
            " - image 96 was taken on 2019-02-23 14:54:55\n",
            " - image 97 was taken on 2019-02-28 14:57:32\n",
            " - image 98 was taken on 2019-03-05 14:58:11\n",
            " - image 99 was taken on 2019-03-10 14:54:59\n",
            " - image 100 was taken on 2019-03-15 15:00:36\n",
            " - image 101 was taken on 2019-03-20 15:00:27\n",
            " - image 102 was taken on 2019-03-25 14:53:33\n",
            " - image 103 was taken on 2019-03-30 15:04:03\n",
            " - image 104 was taken on 2019-04-04 14:57:20\n",
            " - image 105 was taken on 2019-04-09 14:54:03\n",
            " - image 106 was taken on 2019-04-14 14:58:06\n",
            " - image 107 was taken on 2019-04-19 15:02:10\n",
            " - image 108 was taken on 2019-04-24 14:53:52\n",
            " - image 109 was taken on 2019-04-29 14:52:55\n",
            " - image 110 was taken on 2019-05-04 14:52:59\n",
            " - image 111 was taken on 2019-05-09 14:52:55\n",
            " - image 112 was taken on 2019-05-14 14:53:00\n",
            " - image 113 was taken on 2019-05-19 14:52:55\n",
            " - image 114 was taken on 2019-05-24 14:53:00\n",
            " - image 115 was taken on 2019-05-29 14:52:54\n",
            " - image 116 was taken on 2019-06-03 14:52:59\n",
            " - image 117 was taken on 2019-06-08 14:52:54\n",
            " - image 118 was taken on 2019-06-13 14:52:58\n",
            " - image 119 was taken on 2019-06-18 14:52:55\n",
            " - image 120 was taken on 2019-06-23 14:52:59\n",
            " - image 121 was taken on 2019-06-28 14:52:56\n",
            " - image 122 was taken on 2019-07-03 14:53:00\n",
            " - image 123 was taken on 2019-07-08 14:52:56\n",
            " - image 124 was taken on 2019-07-13 14:53:00\n",
            " - image 125 was taken on 2019-07-18 14:52:56\n",
            " - image 126 was taken on 2019-07-23 14:53:00\n",
            " - image 127 was taken on 2019-07-28 14:52:56\n",
            " - image 128 was taken on 2019-08-02 14:52:59\n",
            " - image 129 was taken on 2019-08-07 14:52:55\n",
            " - image 130 was taken on 2019-08-12 14:52:58\n",
            " - image 131 was taken on 2019-08-17 14:52:54\n",
            " - image 132 was taken on 2019-08-22 14:52:56\n",
            " - image 133 was taken on 2019-08-27 14:52:49\n",
            " - image 134 was taken on 2019-09-01 14:52:55\n",
            " - image 135 was taken on 2019-09-06 14:52:51\n",
            " - image 136 was taken on 2019-09-11 14:52:52\n",
            " - image 137 was taken on 2019-09-16 14:52:50\n",
            " - image 138 was taken on 2019-09-21 14:52:51\n",
            " - image 139 was taken on 2019-09-26 14:52:52\n",
            " - image 140 was taken on 2019-10-01 14:52:52\n",
            " - image 141 was taken on 2019-10-06 14:52:54\n",
            " - image 142 was taken on 2019-10-11 14:52:52\n",
            " - image 143 was taken on 2019-10-16 14:52:54\n",
            " - image 144 was taken on 2019-10-21 14:52:52\n",
            " - image 145 was taken on 2019-10-26 14:52:54\n",
            " - image 146 was taken on 2019-10-31 14:52:52\n",
            " - image 147 was taken on 2019-11-05 14:52:54\n",
            " - image 148 was taken on 2019-11-10 14:52:51\n",
            " - image 149 was taken on 2019-11-15 14:52:53\n",
            " - image 150 was taken on 2019-11-20 14:52:49\n",
            " - image 151 was taken on 2019-11-25 14:52:51\n",
            " - image 152 was taken on 2019-11-30 14:52:46\n",
            " - image 153 was taken on 2019-12-05 14:52:49\n",
            " - image 154 was taken on 2019-12-10 14:52:45\n",
            " - image 155 was taken on 2019-12-15 14:52:46\n",
            " - image 156 was taken on 2019-12-20 14:52:46\n",
            " - image 157 was taken on 2019-12-25 14:52:46\n",
            " - image 158 was taken on 2019-12-30 14:52:46\n",
            " - image 159 was taken on 2020-01-04 14:52:46\n",
            " - image 160 was taken on 2020-01-09 14:52:46\n",
            " - image 161 was taken on 2020-01-14 14:52:45\n",
            " - image 162 was taken on 2020-01-19 14:52:45\n",
            " - image 163 was taken on 2020-01-24 14:52:44\n",
            " - image 164 was taken on 2020-01-29 14:52:43\n",
            " - image 165 was taken on 2020-02-03 14:52:43\n",
            " - image 166 was taken on 2020-02-08 14:52:46\n",
            " - image 167 was taken on 2020-02-13 14:52:44\n",
            " - image 168 was taken on 2020-02-18 14:52:47\n",
            " - image 169 was taken on 2020-02-23 14:52:46\n",
            " - image 170 was taken on 2020-02-28 14:52:48\n",
            " - image 171 was taken on 2020-03-04 14:52:47\n",
            " - image 172 was taken on 2020-03-09 14:52:49\n",
            " - image 173 was taken on 2020-03-14 14:52:47\n",
            " - image 174 was taken on 2020-03-19 14:52:49\n",
            " - image 175 was taken on 2020-03-24 14:52:47\n",
            " - image 176 was taken on 2020-03-29 14:52:49\n",
            " - image 177 was taken on 2020-04-03 14:52:47\n",
            " - image 178 was taken on 2020-04-08 14:52:48\n",
            " - image 179 was taken on 2020-04-13 14:52:50\n",
            " - image 180 was taken on 2020-04-18 14:52:46\n",
            " - image 181 was taken on 2020-04-23 14:52:53\n",
            " - image 182 was taken on 2020-04-28 14:52:47\n",
            " - image 183 was taken on 2020-05-03 14:52:55\n",
            " - image 184 was taken on 2020-05-08 14:52:49\n",
            " - image 185 was taken on 2020-05-13 14:52:56\n",
            " - image 186 was taken on 2020-05-18 14:52:51\n",
            " - image 187 was taken on 2020-05-23 14:52:57\n",
            " - image 188 was taken on 2020-05-28 14:52:52\n",
            " - image 189 was taken on 2020-06-02 14:52:57\n",
            " - image 190 was taken on 2020-06-07 14:52:53\n",
            " - image 191 was taken on 2020-06-12 14:52:57\n",
            " - image 192 was taken on 2020-06-17 14:52:54\n",
            " - image 193 was taken on 2020-06-22 14:52:57\n",
            " - image 194 was taken on 2020-06-27 14:52:54\n",
            " - image 195 was taken on 2020-07-02 14:52:56\n",
            " - image 196 was taken on 2020-07-07 14:52:53\n",
            " - image 197 was taken on 2020-07-12 14:52:56\n",
            " - image 198 was taken on 2020-07-17 14:52:52\n",
            " - image 199 was taken on 2020-07-22 14:52:57\n",
            " - image 200 was taken on 2020-07-27 14:52:54\n",
            " - image 201 was taken on 2020-08-01 14:52:57\n",
            " - image 202 was taken on 2020-08-06 14:52:54\n",
            " - image 203 was taken on 2020-08-11 14:52:57\n",
            " - image 204 was taken on 2020-08-16 14:52:55\n",
            " - image 205 was taken on 2020-08-21 14:52:57\n",
            " - image 206 was taken on 2020-08-26 14:52:55\n",
            " - image 207 was taken on 2020-08-31 14:52:56\n",
            " - image 208 was taken on 2020-09-05 14:52:54\n",
            " - image 209 was taken on 2020-09-10 14:52:55\n",
            " - image 210 was taken on 2020-09-15 14:52:53\n",
            " - image 211 was taken on 2020-09-20 14:52:56\n",
            " - image 212 was taken on 2020-09-25 14:52:54\n",
            " - image 213 was taken on 2020-09-30 14:52:57\n",
            " - image 214 was taken on 2020-10-05 14:52:55\n",
            " - image 215 was taken on 2020-10-10 14:52:57\n",
            " - image 216 was taken on 2020-10-15 14:52:55\n",
            " - image 217 was taken on 2020-10-20 14:52:57\n",
            " - image 218 was taken on 2020-10-25 14:52:54\n",
            " - image 219 was taken on 2020-10-30 14:52:56\n",
            " - image 220 was taken on 2020-11-09 14:52:55\n",
            " - image 221 was taken on 2020-11-14 14:52:52\n",
            " - image 222 was taken on 2020-11-19 14:52:54\n",
            " - image 223 was taken on 2020-11-24 14:52:51\n",
            " - image 224 was taken on 2020-11-29 14:52:51\n",
            " - image 225 was taken on 2020-12-04 14:52:50\n",
            " - image 226 was taken on 2020-12-09 14:52:48\n",
            " - image 227 was taken on 2020-12-19 14:52:50\n",
            " - image 228 was taken on 2020-12-24 14:52:48\n",
            " - image 229 was taken on 2020-12-29 14:52:51\n"
          ],
          "name": "stdout"
        }
      ]
    },
    {
      "cell_type": "code",
      "metadata": {
        "colab": {
          "base_uri": "https://localhost:8080/"
        },
        "id": "-XasgpOIzqfX",
        "outputId": "ef202347-af50-4f6f-99e7-37136c722ece"
      },
      "source": [
        "#Getting the list of all saved folders.\n",
        "folders2=os.listdir(wms_true_color_request.data_folder)\n",
        "\n",
        "for i in folders1:\n",
        "  for j in folders2:\n",
        "    if i == j:\n",
        "      folders2.remove(j)\n",
        "print(folders1)\n",
        "print(folders2)"
      ],
      "execution_count": null,
      "outputs": [
        {
          "output_type": "stream",
          "text": [
            "['01826a4182f0dd0ad5f2b227da16d7b5', '5974a08ed9aa636328805a58385a2421', '392b536057f6ca7277633967c50cc000', '102e259a81d8e365c21adcdb5715db8e', '0c2d7c6a48939f777d0e3175c10c8c87', 'b05a468a6a7fac7ee4a16de8570594b1', 'd47167168722d2e95207d046583b168f', 'c99bdc6e85fc92fcd49629cbad4317a0', 'a5babdb5a43c76dd26c509284170fdea', '1c8d798f551f4d29a9c7001ed42707ef', 'c11e200cb307a9e886a0ac9725bfc774', '0ba25d5f7b775d5ae0b357d6c5e3f0af', '687fb010c45d11d542398f9c79558abb', '7819fb84ef6295d63b935d871bab3381', '3e5b2473ca6c3e89f2cafbcae3058cff', 'fc8267837687d037e5126580bbc8ecbe', '997d3eaa3c1ec9d92e7adcecd8395260', '5dfdbd103967a5b330c090b5ed90e3cb', '4d167357a63b5ef29a57c6dc2a8f6353', '7924795a452f14cf8775838f92a33a94', '3153aae7362c8ab9f4df492574c3c15a', '863b3cab5a2dc919986f0955dba6fe36', '98c48de9399c31b51793cc1136c561af', 'c821360745506e9c236f9a8986f03882', '7f16d54dcd982d0f4d5a02a704a6bc28', 'ff3823b95f5aa06aba23def884da46fa', '7338e1673e92aa7821a865201b14546c', 'ce2ff77e67569b6a19735d4840eca00d', '561cb0054f70523d9abd4f20062b039e', '907e69dde192721dc2fb42da9b913028', '3c865edd15828dcfbf987bc634562025', '50df1972e9ec6f76f7bf6dfd83f83d4f', '00f23c09808e45d36f984c2da19188cc', 'c1ecf073b26bcb1ecf765b9aea3faf91', '1cfa61bb099e891e40a6ca2eb20aa7fd', 'fa2bb60b8eaa947976b9f58e58ca9db4', '9da932a5744302f607baeef5205b1358', '361ebc934dc52ca623ca57bc26a9b15c', '9064740066f3c99d8273d2ce43608ffb', '2a92e9609afb38e85dec522fa97aa0a0', '96ec930f00df750c2f329cb69a9a299f', 'babf36a7afc6c8de10a25d9cb40a2aaa', '23cbc635ca0fe1dd0a15cfc4bc16b05c', '1d2afe021ee5b3c681d3339c00059dc8', 'd2a29151d194c297d5d45c857ce45bcb', '592b9e93f4504469d07ebb3f67a36f46', '8e612feff7909e237e0c6208e1fb7e94', 'fa8bc2a24d5f854d6fe5e897db9593b5', '1436da49111c8933f235799bd7ca7ae4', '1853e52b4bd4f8c1d04f53d3a496d1ad', 'b308d52be0d3f369a44caba313f6c3b1', 'fb0bad1abefc7e0f06c70dce9a38dcd7', '34868254ac40e3e6a51ad3cb20aa7159', 'ddf57c3eab468a7e64162d6352edd3d1', '5e3b40a5160a21a76c8b730553a90dec', '99f328321af405d95786438c21d6c578', 'e087b8733303f397ac70f00fe981240e', '31f493adacdcd50f04006f0a6b021f61', '1272de5d35e22528b42106c95270ac37', '80af1cc4cb0cd3710d09b979bc30cd87', 'a31533194111fd2b92d2b0e6aa93d90c', '2f3a1a43340f632b9d0040a1e7ae52f2', '7ceb1f7bc9ace7224f2b5632cc787234', '5ff9916e012457e0a5e260bd8e0f0ee1', 'c5368028322683a2af73af0e0d1a4a31', '8f4415b89d06aa36b3f9b5573929147f', 'aa8d608f47035ad0f4a9e33a26ddc834', '66f214a248021a7913504d0fb2552ab6', '3ad2b919b61c49eafc023703c081b404', 'bd2c577bf2ea59276031a7983632dc1a', '6ec84c4e06e90e55da85f0063134ab4a', 'd0d8b7da34a66c69d36232e74088ff6d', '2765a294aec0c48bbfeffe53bee104d3', 'bfb3388d593a76cd976d08f9ea7932ca', '41807675ce045297b0c7cdab9d25f736', 'b80a69ccb6dae8462920fa2ecc57867f', '7db13d43202f29387bebf1ff5487ad95', '226566a04a0441fe54785dd9261bd748', '39b956b0ad076a61344e2cb8cfab1fb3', 'af1822a8dc9495d92b55201d4945017b', '7d6ea9f14ee279e6ef549f4d36db57e6', '977277d46eb50ac6ffd5e892ea3fb8a7', 'c9efbfdd056d3f2b02e28ff11a4d316c', '7f59ff79231692685568a8131b6ce5fe', 'a6a169fefdfbfc5f9599bca459b07bf7', 'f21be8acd6438be6522523a22977df67', 'eb4b302824f18f9f9826ae821755f3fc', '4d9108e7d40ceeeeca13dcfec35da1f8', 'a900f435655dd73151492e061f039ba6', '41982510c4e726f60a94a0d3e14ce216', 'eba1f0b49a8c640acc9f3e4b39a4dff2', '1fe7b3bd36616cdbd76afc2bb0aea691', '66bafa75d34d4868654323cce64d14d8', 'c7ddac0dc7b996bcc9db359c78b4f09b', '8f7b122720f1720996e356e9257de00b', 'd95ce19424dc9b3566152c906e33dafb', '650e0b92fc4c2b8857d4498bcc5c185f', '7c7740652e3cfc477c37253e9608f397', '27312cd23299e23343d0c4ca359550a4', '928c34229b5effc2d322b5b5252172d5', '0c833063ef9758aad1aff0513c811e9f', '64aab14af827d98279807378d7983bb9', '1fea1ade1658d4cc6159f9fbaea94518', 'b54f76da8d5ea2204402cbe8f6e7d2d3', '21fedc52943ad7cfbc3970aaf9753ab4', 'b789768844a67151d4af70c4093b77b0', 'b612d658d7c49cc83f1c449fd72c7da8', 'b39eb5d3f7c2b5727959199ed14ca5b9', '34c3b7f208a0b586432c68cb3e26691c', 'e8f9a45ae336618eafd70ec1233cd03c', '67440268bb93fb2017a99fb645f71f0e', '2ec58ef1eae97c7d3637a256a3e06366', '9c98279a006e3f6ba59dd15b727b450e', 'ccd064be47d3af860bfecb60225b19da', '722c0c5902e440b5aff91a6c07258ee0', '56a50cc85611f7b7825ced0745b07448', 'fc1b1168b65c1b5493bc423294f50cdf', '8286b6656e00371d5faf4ae8f4e40e1d', '55dd3ce3840ee260b16bef0a37d60fdf', '6ac412b8bbfa92182a2d596f9e2f8fa4', '0a835dc18973c047dcbfa352490cfa81', 'c8ecd04c479bf143891bc7c5142443ab', 'f7564c7d97def6980f9c6e0a88e41de2', 'b504c178771c5b7922742793ee7af156', '8d04b55bd93287132d5665d8e2bcbe1b', 'b1f10dc807bf34efb15750a51ca8bbda', '63335b0cd09e667f07e154aee267a7be', 'bb19a62a4ea2ad8ebae748f5840dfffa', '324aa8f4631c2e87e0e3d8b0b7468bb7', 'b963a54a2bb214c3113c15718bb78bab', '80a7d6e519d453536059bd9dcebe031d', 'fc24eeb576cf3f511757e08b8546fd70', '17829668b5bfeb59895955f65ff7e6af', '0d7ea0f46410e876fd187543ed83022c', 'e35064ac1eb4b33a79533b306f6871fe', 'c29f6ec42f51a7679dddbc173318b025', '58bea99d69d2149069297274b6bf5bc9', '27f52372afe70c43a5278e144c3c5f10', '88c7fb2bf395572192b1c54e71c4e209', 'd25dc733cbe2d0f36b432129ebdbfb27', '97e752700f72d1b8f43289a17f81ca72', 'ab00b5f7c9c681e8d03fe3c91fc95e14', '4a95aee2177c7d88b0ce04fa38e37b22', '2ab84f53a1673b4a2e0b13d0e7c513d3', '8e702452f752c558c30d4cab40a1f683', '13eca34f65b0cfaf143d9afd891ee8db', '5e58d1ab49482278ac469bb232c5301f', '3aa2f021df16173695e584a674915056', '5cf9577321de47c76d4d1e733b62f0a7', 'd4deca95acf2ccba2eafbcbbd76f4823', '6c1404b17d7f143f27db8744298905ea', '7ca00f7dd42e0cda81a8e514455ec8df', 'ebf44204d83bceabc6f97fb3ab4b69fa', '25cb0cc94d98f2fca3cf9e85ccb80a00', 'b59cd9dd2f9aae07653d1e26894ecc73', 'e11e07fe10828c2cd2c33cab08030120', '7679846fa08e7b6be23db0d095125541', '4384eefa7a73806d0a759716ea1e9d05', '00f3defece33f98fb802443b3e0e8342', '4199ef9c6471a7e90f9cb623cf3ed668', '7f209f84f7320ba759d27deacc210351', '91e55ec560877f54f8a7c516dba88699', 'b66af3f62b07023ea669d052d79bcb7e', 'c20e645b0a95f9859be1c6fa0a21444e', '549439e886712ec2550087e6d63bed12', 'a71698d1e1808b11a791a6722ba9b895', '6289ab9ed80b299afe5e3dea12dc5f9c', '6b910b86db36543dd0d007c2f9a16f96', '85a0b47b9db0b5478035f8963c46e0e2', 'eb127be04c9c8651e582235e608b2831', '56809b0f6af1546c16030ed19eae3129', '98a167d49bc7dc1055d61ef06a6fc02c', 'ac599de96bc71d7c25ec84f7b1414407', '5f5bda2695d7c7eefa5e5492e50b6f6e', 'bfcb20e2f33be861868f07ce2db16a08', 'b8372d3f5e8a9e6c3dd68ba4fc0515d8', '874bde38fa2b84aa1bc7f1534244b15f', '202abc8afb6a9417c5a07f55c25565fd', 'ff7238b1b55b6b625c789c9c2a25fc2a', 'dac39d0affe202454f826175bb3cd177', 'b34ed4536bac5d749aeb4eae3bb379f7', 'f97715677e662674844078af6153c1f3', '7b21377c6ac9d8c21d384ed45c1bd9df', '71871b4da7af07359ab07feb5879c4b4', '57192e7500e026697a70a46c578ffbc9', '98fef0d706710d6f125dff971bf8b8a9', '4822b29ab109945f99f207c4b46ea525', '010b4c3d0ca8e2f459d4f3a41b97cfb0', '340f9031f800382d8f48d6d4800491eb', '8cb1d83e37c51ad59b8433f9fd23282f', 'b61251c209b5b4dbb0191f064fbbae7d', '789dfdd0b76bfbff5c4c80bcfce682f3', 'fc2fa9b78d19e130ab94fbd429461ba1', 'ae1946dc2d7a670a557af32952d3d049', '8908529c34db65f1be093eb8d1658940', '79c789d20ac13ebd366b50a63cb2551f', 'ac980ecf91773dc630fd02418aa0cd1e', 'f40b70fc0a195095681af9a99b4bdc53', '7a47a691c519da427b19aab6d7c87b27', '4360a9df178b7b5772a70abb2e30da90', '59659d6b0f9b5449d0ec2f7a7a179e5f', '6daeacd050dbf3daaf2da3d75e0016b1', 'bcdc28e82be7374d7aedd49ab139144c', '7cb35c5608c2d42c257926ac37f63686', 'fe5d6df4209e750f9b591f7e69409e21', 'aefc0e7328ef54ca5d68adafcf374b70', '1f74087d1a2a9767e753920dace94c47', '42882d7eb0c71638e439073b2bfe4bb1', 'e6f294ffa03c4b3a4e1f346757cdd40c', '75e3dc2d812267b23b3690757609a6a7', '53134cbd395d77ff6933887100ca2771', '7df8be416fb080c758a479d09c38fc3c', '651216d3c0a7ee54ac614051462b5e2d', '1c9b278df77f93ede5fd4073e94418ec', 'fb309b16019c0b145b825205b513c58c', '09e13128b1e58dc40a20fdf91ab63775', '42beda0afca264f3d3938ffe63b598c0', 'bdb802a978e2d0df17362583220be928', '099903423ac3e38b6905a348b3626acd', '77784939d931db7bd800ac0033ec0513', 'af9657199be88d7429479269ab6f80b7', '2ad752bd05715956c3d0177b31da0a54', 'aa7aab56b896dbee4c11a449359a9a49', '24110b3180585283131f8ba4221a641e', '15aa5b3a46cc02fb21328ee6ac5e9bc0', 'e3e27f94b3a2b58fb0ad590741a73428', '3a8c68832cf7797f7b2fd84cb48420e1', '3860c96165556932ae1f9108eacbdf17', 'd474c03968e204c92c6314c7aea65976', 'cf7b469fb2d01771efaf2f2385af48c9']\n",
            "['567ce44a0a91248d10c059a8fc3e1a73', '994dada46622883ab08b2e4de0c040c1', '43d10057225d2f8e3bca48142bf9d64d', '69440769a0acf51e55531f47d102f492', '266dadf12907c7ec3cd1961225172346', '7109c32d6ff82ace31051af36dfa5401', '45790ba16d4d1aaeef73a7316567f6b2', '693fd0d2bb254e2e20ae16246ca004b0', 'acf435e0eb6fb6216167b55870fb87c3', '82a5e7ffe704b2c5f38305c7ffc70385', '8058b40af918c30747eefb9a3cab0814', '39aee708dea4a2dfe8bb078fbf66e70e', 'f68685a77e322bc48b51e021ceb1bfc0', '54814a77913c6373bd333abb94f1bbd3', '4ebae6331aa672829a14f27e2d1713a2', '428565b3c5a78f20b9d51eb6c827e94a', '83db843322b0e47722a7588714f01e72', '9b39b2b3ffa9771de4c7401a0130354b', 'a031728dc5de1a9d86152db51d7f39db', '3f91e165a4223a761d602287e0cae3ad', 'ba4c91bf099080f244987c4c35a5a605', '8264e5001b803bd5cf5c6da90b8abdce', '52b6c1225d2adc18bbac7f11b2d11edd', 'e73b97de10d10246fb800303361d7076', '3e99b6e034bbd8e78f6d016580bbb633', 'f4ffe0d436157d93bdf83d6bd2b29a20', '7c98fc4ffa815ee08228ce595075886b', '095d02c8ccbd29c1047e404543253160', '601ee5173a0d46a570a6248867abb133', '11bf650326eb9fa3127c8c1d5a33a1b9', 'de05cb6426b98a16c3d13dec1c41d605', '02677cfe5cd894bd499cf494240274de', '0275003510fb00cd49ca459e3d94528b', '71fe81123c96996e023fcfd07d997e09', '8dd9fa5b44426dea87e111a0791df5e7', 'b720f59705ba1d9835158c24f7fdf4fd', '19f30092a70cf1767a23dc254c20318b', '81cce36c585761d93bb44b4444e41f18', '50f212d2791e025f70ee45632d543aff', '18035cb8063ca6c90fd685fcc0f7a2bf', '43751af5e09afb25a663608fd31a7d8b', '23d1c6f81cb2e726f631e38ab4752429', 'c934b5f43c528e293dd2b6677562f7dc', '6a3eec0db56201e464656da3b14d49a1', 'f9f1220cfb66522524ae3375e4b23a3b', '861a66ed2b2b6738c6843ef6436cb1b5', '7e5cb946e6f37c3a89fd1ab29d3188a4', '69c738e3909d7d84fcd0214910df5530', '10eb068760b55feed9a1772f945b9e28', 'a89580985bf26fb37606997a0f067c94', '326bd558e8ca38f74e366220d8d8ebcf', '9a6399142724ed6cec1a37e9e81a810b', '50ceedfdb00ed4989b1cd784430e6b6f', '051c07dcb7449be25cc4aaf3c1155428', '1b3dde45f74cabe40201aea9be5032e4', 'd73015e2581a7379723a42b794914025', 'f67582f4c39796ecb025cb0eff53ed71', 'a27a5ec60796e98c9723c9c2937dff3b', 'd175332ed589b0f0bbde4105ebc31979', 'cc340afa342f56774b6bd52dca5a939a', '249cab1d9f3ce486070cb542436c8303', '7140393ecfb7461c198a2b00fd0929ee', 'd33b26460379e7aedf45b2cb3bfd5f86', 'a664432f037c3a0d4ed7cfa896379386', '1a12c3fed1500e8964551072d267c7e9', '22a0deb20458bc87168fcb94be638695', '437150d841f881d02a7ad01d64761bac', 'a73e4a9b8413cf167059f6f2feb864ac', 'b39418a64c1065175cb31d5f2142aaa9', '183f675966a2d79b142506fbabcbcd37', '69aa62db1a5cdc4b7ea2a12a2bdaec53', 'd7c87eed6f086379e1901d5737c11a28', '2a5aaedb511c16f69a49527c3cd17ebd', '52dd7be175dbc879d43bf4dc0e66bc79', 'ee9a22bcae2f6f1574d59c45ef99df7c', '0d8b66e4e9f68778853e4c7d70c248e9', 'ebe26007e1194a17be1ea35c9bf3dea0', 'f3eed351c3d31a6789ea4c4955ff8a18', 'cc3bcd348d9861be4d0533e92f0d4d75', '14c0dc519462cf038c4bf0be1bc2ab59', '54312b0516e83268ceaf334da3756d82', '69b58b991149827141072f94e2eb5e7a', '85ef5afc3106f10ffe3ed59231422dd8', '7a99d766c1bc6825a289d614d7078043', 'd2742051d9710e693b22cf00f3f7797e', 'dce1eced8cb2898d2f5a681a914b8616', 'fcd16162b49b94c041da7b19ff99b951', 'ba8c86d164945681b79cf74ee13953a7', '19d5a967c1528cce86a04fbaa3f4fd01', '54aeefb23886bf5999afa6d323005d9c', 'fd822af470302a2a6caaac6fdd830766', '84de17b0c562d5b2df5bd5730cd888d8', 'f5cdecb8731e2e35961815fca64de197', '3c52aa992b87a9b4d4a9ceee24fd523f', '4cddada34ce5f9622a1b8793f91fc704', '9147c416517263c599f9c167e45808f4', 'd6f7c81cb99d56c0ad4eb1f26a9ed495', 'df756872823ee5641235b4f3597ce68e', 'c7e3153abd093fef6128b8ab2354fa4a', 'ea31214543efd7ee175c966f6e79ed10', '2b53a33c2fba813d2a58d04d310f960c', '2e6fe411d1ba794ad2121ef527eb58db', 'e664b34f0088df87a992e28a45ad87fa', 'eba01c6d377fff6524b0a328e3323729', '75b58a1c78de7066fc52f0eceaf1ab71', '372d5a51c3b6f666eca24a061e9e0ab3', '318bdd3aa39cb4f9aa187ad9cbe902c1', 'c2ebf105ae32f5b168c48c6657b77afe', '6861485b24dc6bf6e04d00fd6a54b8a9', '01d19d4800e93a36aa1d132389a6616f', 'e1e39e8d7330e849bccabebadf2be893', 'c4c6f0110dfe21f52a8c8c5b2c76c8d8', '3e7ed48c6c7eef8c868be9d7b889273b', 'b62e3ea314ad541697872ba3e9cb0bd5', 'e40d85e5cf22da99e3150dd450b09153', 'feb7525a8ce7c1612f208a9b10ff7e9c', 'aeaef3ae3900bf21b8b77ee138592fb5', 'f1fc26354c0dade72c334e838f8fb934', '02e2f4b5b7cc84cb39c7d9f7d92c5a2f', 'debbc85743a379ab7f990617c1e7f329', 'b461a9151c47a07e22534e16d61ef29d', '669524280f343f266b3fb8bbe80b3ac4', '7b704f1aa55dc0780489af0ff2c2b762', '087661f9b11e9cc591f98b22446011de', '96dc856074d9f61ba31632ce785fb3d3', 'b5506428b3c62aee9230f249c62b3a72', '4053acdd40fff4b151da3918f77b2c82', '9000b45b00414a2ae50740c8d0ab6e92', '037c171297a333baa774355aa22d47ab', '39a055dc74ff13bd7a2fb2a2ca618050', '4ad4c8cfbc19688efafee8bb5b436504', '38052b7c53fd2415f90a660e2b44ba8a', '8c821765177d98f8451cdbc0eb82b84c', '8c10f4766e2e15377ac0791ed1dd2db8', 'dbc0809ed0dfb2c86335838ec9d0029e', 'f279a017f752c00a59c8df64d61e4934', '212767252242f68c3b7dac7fc03a074a', '431348678f9922a50bf9ee8208d4bdfb', 'ae55b155b91a392b1f735b17250fb09f', 'a8bd2d6ac8fe0ddea24898772a6b6929', 'ad0d14c0c90b0ba487b7938527272398', '27ebd79a9639de7f93ff004aa8a50b85', 'e997439cc352fda8406a5d35967a6ce7', 'fdc9b6721666f3e208139e593d55170d', 'a40fc8b39fdcf9a84a6b68041d51279a', '03a2492619c6c8cad1aab59d87e2f322', '7811fbcbe45ec73a7df9eaed25c73729', 'a79cb34f66cd264144335d4e6184c29f', '89aff9720b0ef9e64bbfd187959e061a', '60decbaa38ab007c89706c36f78644bd', '2cd1426e2c41c8511d1bca6cd2a8573f', '5bfb971db9ac887c1e6d166398e27b4c', 'c1a0d3504eff6c98d67dccb742f5bd25', '5680bfa3600eff0bc9e51aa7aa6c0c89', '4f98374827f3e38e607f351577d40386', '47a4eb20733f84ac2fed2f7b3de0b66f', '8ff10dee7029a0fdf4c593e8f57bbaab', 'da5efc6e79a471aab1bc2803dbe33869', '098aefe673bedfdaba78d69ef32f0452', '688bb948850eb97146fec8142aa08154', 'e4d4dddecd0d6189ab29ca9f4de69c5e', 'b2658eb05c23a5bdd0a9ce6239532b20', '0a2a86782ee1fa52b4bf2257a7c9c37a', 'b59f955123f6ed6c8777df43b0fc13d5', '4508bb696191933f2ce15702435051bf', '6dcfa4faa1875ef6d0917848e463bad7', '0a054870314c808d925364689cfa82f1', '15d36e80eb3a5362bb85f776c23d03c9', 'ba1433d6305ca1d213d6886f1c2a586b', 'e4b4ca4e3590cf73d7e0dcf27ae5c27c', '64638c45200b44942e8ecc6522299a92', '1e1ada5cee9030947a463c961b4c60b0', '387ce49ca1f9cdcab647900f5d82be72', 'bd07f8f8ae7e8b3a27d5f394b3bf4aeb', '48e593f973e1539fbc3a36fff8204b18', 'b02aacc5ca1e6679a9715e39afc48f59', '71449738d592457f37848971bbbe3ece', 'e449915b9801a0aab913ccaeac7f657a', '66bc03a87afba512c18e3200a5ba2078', '927af9095017933c5df329bd5689317a', '5f7ed038cfa1efbc65e9f94c1d13a957', '5f17c6fb51038d8822d9278df0ab114b', '420adc8b61cbdb0ef6257f4b7197f465', '1fc64a8a09ddd6734b46b41c625bef2e', '2e1ef965ca06e41072ae117eb55a9bbc', '77fac75e5b60d1c128099a6ea5984942', '4acc3092f4ab6fd552d99e5422336385', '20b4827d5fee9bb7e0d2994e251af984', '217bf09a0e8912dfa06bbecaf7b724b9', 'b7788c77e0323446111ef54c5977e3ed', '7c597a8a9146038333bbe1787c387215', 'b7946ed4238c6fda86d4427755247ed2', '2dc1266944b77f2eba335ba3596d7654', 'f31b16bf5a8fa53ccadd59a75e7881ee', '67f1fd40cc9b95f623017b45be3cec4c', '86a060103ad59fb9f90c8f8e542fb1a4', 'c234aad8917fd372c14d2edcf86948c5', '28321ceabb0c44c2b5dc33ba35c2634e', 'a3f46a64329f274b02f297f13c10fec0', 'fe412d7cad258105ab4f05d75868e64f', 'c83cb3594b4e4bef20b775e1f696b2a6', 'f858e596fd34e823e95869aa94c4a37b', '9fe8846b1a4fae09ac0580b5e204da52', '2690d30875be63c387d0a2c831594cad', '8c98aaf189d0af0bfb07881ca1a3aeb3', 'e1d894f8ab0accc0868b8b5202a3a16a', '3154b2aaac2136372cc70db838a03c17', '5b31764ccdfd8d5d9bb1c723f91a5f18', '303b45d0d79c28a151d89af28b480a24', 'e3cb0e4fd69b958754b552a9f08a0bf6', '641ea4c7b97cd988009f30646e7fbb05', '186889226726410d26143795861e76a8', '81651c80ee44f43d8b1eb1dab6317f3a', '92c1688aa08485e4519fcecf593c55ef', '520b3185c2f67992ddbe2e00e19e8df4', '548f8918aa581a37d6fe5f8b1a026c25', '33a932a0a2464bfd9760395c26b62755', '0097c720aec9eb6c80775240ce3db81f', 'f3c3bca552c209222b1a9ccbf3af712e', '3ee223869e382dbc1b9424dd4285be3d', '0207f4945e7579caa7fab5ca3e606e0f', 'af87b6002ea7407e45c897062a5c5845', '7ddb8a6e6f652dc693762ac5a6f92a21', 'bf24c1c63b299b7920488d74a25e4dbd', '4f37ddcedb5801c0d5f422f736e8272f', '4a8409d4a48660de3d014e338511341d', '74f0729b0e10a05c03ccb274b94954cf', '58b39703c3eb89ec6858fd23e9f8b74a', '07c1e214f5d64559aba12a1340ef132e', '279bc5c417a2b7b36c3094eb790c2e13']\n"
          ],
          "name": "stdout"
        }
      ]
    },
    {
      "cell_type": "markdown",
      "metadata": {
        "id": "paJ7lV64kTXf"
      },
      "source": [
        "### Etiquetar las imágenes con el # de campo y fecha respectiva."
      ]
    },
    {
      "cell_type": "code",
      "metadata": {
        "id": "I9h46sDrkeOl"
      },
      "source": [
        "for folder in folders1:\n",
        "  with open(rootPath+folder+\"/request.json\") as file: #Define the path to the folder and to the json file\n",
        "    dic=json.load(file)\n",
        "  dic1=dic.copy() #For the anotations\n",
        "  url=dic1['url']  #key url where is the date\n",
        "  date=[]\n",
        "  date_str=\"\"\n",
        "  for i in range(len(url)):\n",
        "      if url[i]=='T' and url[i+1]=='I' and url[i+2]=='M' and url[i+3]=='E':\n",
        "          for j in range(10):\n",
        "              date.append(url[i+5+j])\n",
        "  date_str=date_str.join(date)\n",
        "  date_str1=campo1+\"_\"+date_str\n",
        "  image_path=rootPath+folder+\"/response.tiff\"\n",
        "  new_name=rootPath+folder+\"/\"+date_str1+\".tiff\"\n",
        "  os.rename(image_path,new_name)\n",
        "\n",
        "  #Change the name of the folder\n",
        "  folder_name=rootPath+folder\n",
        "  new_folder_name=rootPath+campo1+\"_\"+satellite+\"_\"+date_str\n",
        "  os.rename(folder_name,new_folder_name)\n",
        "\n",
        "   \n"
      ],
      "execution_count": null,
      "outputs": []
    },
    {
      "cell_type": "markdown",
      "metadata": {
        "id": "1FDVFbhf2rNP"
      },
      "source": [
        "### Etiquetar las imágenes con el # de campo y fecha respectiva."
      ]
    },
    {
      "cell_type": "code",
      "metadata": {
        "id": "nEeogCd32rNP"
      },
      "source": [
        "for folder in folders2:\n",
        "  with open(rootPath+folder+\"/request.json\") as file: #Define the path to the folder and to the json file\n",
        "    dic=json.load(file)\n",
        "  dic1=dic.copy() #For the anotations\n",
        "  url=dic1['url']  #key url where is the date\n",
        "  date=[]\n",
        "  date_str=\"\"\n",
        "  for i in range(len(url)):\n",
        "      if url[i]=='T' and url[i+1]=='I' and url[i+2]=='M' and url[i+3]=='E':\n",
        "          for j in range(10):\n",
        "              date.append(url[i+5+j])\n",
        "  date_str=date_str.join(date)\n",
        "  date_str1=campo2+\"_\"+date_str\n",
        "  image_path=rootPath+folder+\"/response.tiff\"\n",
        "  new_name=rootPath+folder+\"/\"+date_str1+\".tiff\"\n",
        "  os.rename(image_path,new_name)\n",
        "\n",
        "  #Change the name of the folder\n",
        "  folder_name=rootPath+folder\n",
        "  new_folder_name=rootPath+campo2+\"_\"+satellite+\"_\"+date_str\n",
        "  os.rename(folder_name,new_folder_name)\n",
        "\n",
        "   \n"
      ],
      "execution_count": null,
      "outputs": []
    }
  ]
}