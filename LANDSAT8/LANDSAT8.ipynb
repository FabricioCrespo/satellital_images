{
  "nbformat": 4,
  "nbformat_minor": 0,
  "metadata": {
    "colab": {
      "name": "LANDSAT8.ipynb",
      "provenance": [],
      "collapsed_sections": []
    },
    "kernelspec": {
      "name": "python3",
      "display_name": "Python 3"
    }
  },
  "cells": [
    {
      "cell_type": "markdown",
      "metadata": {
        "id": "F8cAlLubcTH1"
      },
      "source": [
        "## Install Sentinel-Hub"
      ]
    },
    {
      "cell_type": "code",
      "metadata": {
        "colab": {
          "base_uri": "https://localhost:8080/"
        },
        "id": "7988XRs6q8Xc",
        "outputId": "1c9ea588-ce8f-46a2-9a9f-3b97ee4bc13e"
      },
      "source": [
        "pip install sentinelhub --upgrade"
      ],
      "execution_count": null,
      "outputs": [
        {
          "output_type": "stream",
          "text": [
            "Collecting sentinelhub\n",
            "\u001b[?25l  Downloading https://files.pythonhosted.org/packages/a8/43/bc002d9d860496c829b2e00f2ddb36dbb51af59c1be1b928e9d59489ed76/sentinelhub-3.1.0.tar.gz (186kB)\n",
            "\r\u001b[K     |█▊                              | 10kB 12.6MB/s eta 0:00:01\r\u001b[K     |███▌                            | 20kB 10.0MB/s eta 0:00:01\r\u001b[K     |█████▎                          | 30kB 6.2MB/s eta 0:00:01\r\u001b[K     |███████                         | 40kB 7.1MB/s eta 0:00:01\r\u001b[K     |████████▉                       | 51kB 4.3MB/s eta 0:00:01\r\u001b[K     |██████████▋                     | 61kB 4.9MB/s eta 0:00:01\r\u001b[K     |████████████▎                   | 71kB 5.0MB/s eta 0:00:01\r\u001b[K     |██████████████                  | 81kB 5.2MB/s eta 0:00:01\r\u001b[K     |███████████████▉                | 92kB 5.2MB/s eta 0:00:01\r\u001b[K     |█████████████████▋              | 102kB 5.4MB/s eta 0:00:01\r\u001b[K     |███████████████████▍            | 112kB 5.4MB/s eta 0:00:01\r\u001b[K     |█████████████████████▏          | 122kB 5.4MB/s eta 0:00:01\r\u001b[K     |███████████████████████         | 133kB 5.4MB/s eta 0:00:01\r\u001b[K     |████████████████████████▋       | 143kB 5.4MB/s eta 0:00:01\r\u001b[K     |██████████████████████████▍     | 153kB 5.4MB/s eta 0:00:01\r\u001b[K     |████████████████████████████▏   | 163kB 5.4MB/s eta 0:00:01\r\u001b[K     |██████████████████████████████  | 174kB 5.4MB/s eta 0:00:01\r\u001b[K     |███████████████████████████████▊| 184kB 5.4MB/s eta 0:00:01\r\u001b[K     |████████████████████████████████| 194kB 5.4MB/s \n",
            "\u001b[?25hRequirement already satisfied, skipping upgrade: wheel in /usr/local/lib/python3.6/dist-packages (from sentinelhub) (0.35.1)\n",
            "Requirement already satisfied, skipping upgrade: requests>=2.5.0 in /usr/local/lib/python3.6/dist-packages (from sentinelhub) (2.23.0)\n",
            "Requirement already satisfied, skipping upgrade: click in /usr/local/lib/python3.6/dist-packages (from sentinelhub) (7.1.2)\n",
            "Requirement already satisfied, skipping upgrade: numpy in /usr/local/lib/python3.6/dist-packages (from sentinelhub) (1.18.5)\n",
            "Requirement already satisfied, skipping upgrade: tifffile in /usr/local/lib/python3.6/dist-packages (from sentinelhub) (2020.9.3)\n",
            "Requirement already satisfied, skipping upgrade: pillow in /usr/local/lib/python3.6/dist-packages (from sentinelhub) (7.0.0)\n",
            "Requirement already satisfied, skipping upgrade: python-dateutil in /usr/local/lib/python3.6/dist-packages (from sentinelhub) (2.8.1)\n",
            "Collecting utm\n",
            "  Downloading https://files.pythonhosted.org/packages/f7/7e/629ddbe63164f71bf2b03e151a69bfbf439692652432af4b2a78f21b0a18/utm-0.7.0.tar.gz\n",
            "Requirement already satisfied, skipping upgrade: shapely in /usr/local/lib/python3.6/dist-packages (from sentinelhub) (1.7.1)\n",
            "Collecting boto3\n",
            "\u001b[?25l  Downloading https://files.pythonhosted.org/packages/50/9c/544396572c05841b7a2482c88be5dd54dcd18ba97abeb1e8d34daf921a54/boto3-1.16.30-py2.py3-none-any.whl (129kB)\n",
            "\u001b[K     |████████████████████████████████| 133kB 6.2MB/s \n",
            "\u001b[?25hCollecting botocore\n",
            "\u001b[?25l  Downloading https://files.pythonhosted.org/packages/9c/a3/1ee497faf994d180df5d14d456eef1ef46ca1ffce617816faa4ff8164608/botocore-1.19.30-py2.py3-none-any.whl (7.0MB)\n",
            "\u001b[K     |████████████████████████████████| 7.0MB 6.9MB/s \n",
            "\u001b[?25hCollecting pyproj>=2.2.0\n",
            "\u001b[?25l  Downloading https://files.pythonhosted.org/packages/e4/ab/280e80a67cfc109d15428c0ec56391fc03a65857b7727cf4e6e6f99a4204/pyproj-3.0.0.post1-cp36-cp36m-manylinux2010_x86_64.whl (6.4MB)\n",
            "\u001b[K     |████████████████████████████████| 6.5MB 47.2MB/s \n",
            "\u001b[?25hRequirement already satisfied, skipping upgrade: oauthlib in /usr/local/lib/python3.6/dist-packages (from sentinelhub) (3.1.0)\n",
            "Requirement already satisfied, skipping upgrade: requests_oauthlib in /usr/local/lib/python3.6/dist-packages (from sentinelhub) (1.3.0)\n",
            "Collecting aenum>=2.1.4\n",
            "\u001b[?25l  Downloading https://files.pythonhosted.org/packages/5b/58/1007ed4a287c6dd3dc953ae478145bab28e8abc529627b2ee797f84b201e/aenum-2.2.4-py3-none-any.whl (41kB)\n",
            "\u001b[K     |████████████████████████████████| 51kB 6.4MB/s \n",
            "\u001b[?25hRequirement already satisfied, skipping upgrade: dataclasses in /usr/local/lib/python3.6/dist-packages (from sentinelhub) (0.8)\n",
            "Requirement already satisfied, skipping upgrade: chardet<4,>=3.0.2 in /usr/local/lib/python3.6/dist-packages (from requests>=2.5.0->sentinelhub) (3.0.4)\n",
            "Requirement already satisfied, skipping upgrade: certifi>=2017.4.17 in /usr/local/lib/python3.6/dist-packages (from requests>=2.5.0->sentinelhub) (2020.11.8)\n",
            "Requirement already satisfied, skipping upgrade: idna<3,>=2.5 in /usr/local/lib/python3.6/dist-packages (from requests>=2.5.0->sentinelhub) (2.10)\n",
            "Requirement already satisfied, skipping upgrade: urllib3!=1.25.0,!=1.25.1,<1.26,>=1.21.1 in /usr/local/lib/python3.6/dist-packages (from requests>=2.5.0->sentinelhub) (1.24.3)\n",
            "Requirement already satisfied, skipping upgrade: six>=1.5 in /usr/local/lib/python3.6/dist-packages (from python-dateutil->sentinelhub) (1.15.0)\n",
            "Collecting jmespath<1.0.0,>=0.7.1\n",
            "  Downloading https://files.pythonhosted.org/packages/07/cb/5f001272b6faeb23c1c9e0acc04d48eaaf5c862c17709d20e3469c6e0139/jmespath-0.10.0-py2.py3-none-any.whl\n",
            "Collecting s3transfer<0.4.0,>=0.3.0\n",
            "\u001b[?25l  Downloading https://files.pythonhosted.org/packages/69/79/e6afb3d8b0b4e96cefbdc690f741d7dd24547ff1f94240c997a26fa908d3/s3transfer-0.3.3-py2.py3-none-any.whl (69kB)\n",
            "\u001b[K     |████████████████████████████████| 71kB 7.9MB/s \n",
            "\u001b[?25hBuilding wheels for collected packages: sentinelhub, utm\n",
            "  Building wheel for sentinelhub (setup.py) ... \u001b[?25l\u001b[?25hdone\n",
            "  Created wheel for sentinelhub: filename=sentinelhub-3.1.0-cp36-none-any.whl size=196404 sha256=22baff4e6283648a89c43459644a91addc06906a7d7b84ef0e5bf5d060ae1706\n",
            "  Stored in directory: /root/.cache/pip/wheels/90/6c/df/be1525ead52f5c2ce49f0880e73587723bf25caac7295f9db2\n",
            "  Building wheel for utm (setup.py) ... \u001b[?25l\u001b[?25hdone\n",
            "  Created wheel for utm: filename=utm-0.7.0-cp36-none-any.whl size=6095 sha256=45fa04550eec6718b7648dff2042ef9c74c00ec6bb81b6a4ce183f9d9b8b7a9f\n",
            "  Stored in directory: /root/.cache/pip/wheels/d3/a0/c4/93c7535fe705e70d2376505fd2683f91524a50a944a15212d9\n",
            "Successfully built sentinelhub utm\n",
            "\u001b[31mERROR: botocore 1.19.30 has requirement urllib3<1.27,>=1.25.4; python_version != \"3.4\", but you'll have urllib3 1.24.3 which is incompatible.\u001b[0m\n",
            "Installing collected packages: utm, jmespath, botocore, s3transfer, boto3, pyproj, aenum, sentinelhub\n",
            "Successfully installed aenum-2.2.4 boto3-1.16.30 botocore-1.19.30 jmespath-0.10.0 pyproj-3.0.0.post1 s3transfer-0.3.3 sentinelhub-3.1.0 utm-0.7.0\n"
          ],
          "name": "stdout"
        }
      ]
    },
    {
      "cell_type": "markdown",
      "metadata": {
        "id": "YyadgkCRoiS8"
      },
      "source": [
        "## Mount the drive unit."
      ]
    },
    {
      "cell_type": "code",
      "metadata": {
        "colab": {
          "base_uri": "https://localhost:8080/"
        },
        "id": "325GhGFZuttN",
        "outputId": "daded6cc-7628-4b69-ac0c-fe2425fc8253"
      },
      "source": [
        "from google.colab import drive\n",
        "drive.mount('/content/gdrive', force_remount=True)"
      ],
      "execution_count": null,
      "outputs": [
        {
          "output_type": "stream",
          "text": [
            "Mounted at /content/gdrive\n"
          ],
          "name": "stdout"
        }
      ]
    },
    {
      "cell_type": "markdown",
      "metadata": {
        "id": "91LkaMieyDXW"
      },
      "source": [
        "### Put the path to the folder where we want to save the files from Sentinelhub"
      ]
    },
    {
      "cell_type": "code",
      "metadata": {
        "id": "vtUnsk7Z0YU4"
      },
      "source": [
        "rootPath=\"/content/gdrive/My Drive/WORK/C&T/SENTINEL-HUB/test_dir/LANDSAT8/\""
      ],
      "execution_count": null,
      "outputs": []
    },
    {
      "cell_type": "code",
      "metadata": {
        "id": "X5Z_1obScIBu"
      },
      "source": [
        "from sentinelhub import SHConfig\n",
        "\n",
        "\n",
        "INSTANCE_ID = 'ec425561-c50f-4445-b18a-f99cfe3f6ce2'  # In case you put instance ID into configuration file you can leave this unchanged\n",
        "\n",
        "if INSTANCE_ID:\n",
        "    config = SHConfig()\n",
        "    config.instance_id = INSTANCE_ID\n",
        "else:\n",
        "    config = None"
      ],
      "execution_count": null,
      "outputs": []
    },
    {
      "cell_type": "markdown",
      "metadata": {
        "id": "g5UmHdO5cIBu"
      },
      "source": [
        "#### Imports "
      ]
    },
    {
      "cell_type": "code",
      "metadata": {
        "id": "n39lh0TVcIBu"
      },
      "source": [
        "%reload_ext autoreload\n",
        "%autoreload 2\n",
        "%matplotlib inline"
      ],
      "execution_count": null,
      "outputs": []
    },
    {
      "cell_type": "markdown",
      "metadata": {
        "id": "OZtK0xWty5Vc"
      },
      "source": [
        "### Import the Libraries"
      ]
    },
    {
      "cell_type": "code",
      "metadata": {
        "id": "YsNjm4gMcIBu"
      },
      "source": [
        "# Please, install all the neccesary libs.\n",
        "import datetime\n",
        "import numpy as np\n",
        "\n",
        "import matplotlib.pyplot as plt\n",
        "import os \n",
        "import json "
      ],
      "execution_count": null,
      "outputs": []
    },
    {
      "cell_type": "code",
      "metadata": {
        "id": "eqUnnU6McIBu"
      },
      "source": [
        "from sentinelhub import WmsRequest, WcsRequest, MimeType, CRS, BBox, DataCollection"
      ],
      "execution_count": null,
      "outputs": []
    },
    {
      "cell_type": "code",
      "metadata": {
        "id": "gI_w2J75cIBu"
      },
      "source": [
        "def plot_image(image, factor=1):\n",
        "    \"\"\"\n",
        "    Utility function for plotting RGB images.\n",
        "    \"\"\"\n",
        "    fig = plt.subplots(nrows=1, ncols=1, figsize=(15, 7))\n",
        "    \n",
        "    if np.issubdtype(image.dtype, np.floating):\n",
        "        plt.imshow(np.minimum(image * factor, 1))\n",
        "    else:\n",
        "        plt.imshow(image)"
      ],
      "execution_count": null,
      "outputs": []
    },
    {
      "cell_type": "markdown",
      "metadata": {
        "id": "7_-k6Ds4A97C"
      },
      "source": [
        "### Setting parameters to rename the folder"
      ]
    },
    {
      "cell_type": "code",
      "metadata": {
        "id": "cXo2sM6oBJO6"
      },
      "source": [
        "satellite='Lansat8'\n",
        "campo1='campo1'"
      ],
      "execution_count": null,
      "outputs": []
    },
    {
      "cell_type": "markdown",
      "metadata": {
        "id": "fC9sxLuacIBu"
      },
      "source": [
        "#### Setting area of interest"
      ]
    },
    {
      "cell_type": "code",
      "metadata": {
        "id": "2iFN6TrocIBu"
      },
      "source": [
        "talca_coords_wgs84 = [-71.817933, -35.452880, -71.807166, -35.446550] #TALCA coordinates 1st PART (Parte izquierda del terreno)\n",
        "#FORMAT(LONGITUDE1, LATITUDE1, LONGITUDE2, LATITUDE2) From Google Earth they are lower left and upper rigth corners "
      ],
      "execution_count": null,
      "outputs": []
    },
    {
      "cell_type": "markdown",
      "metadata": {
        "id": "tnueMsAzcIBu"
      },
      "source": [
        "All requests require bounding box to be given as an instance of `sentinelhub.geometry.BBox` with corresponding Coordinate Reference System (`sentinelhub.geometry.CRS`). In our case it is in _WGS84_ and we can use the predefined _WGS84_ coordinate reference system from `sentinelhub.geometry.CRS`."
      ]
    },
    {
      "cell_type": "code",
      "metadata": {
        "id": "oYxP2Ef1cIBu"
      },
      "source": [
        "talca_bbox = BBox(bbox=talca_coords_wgs84, crs=CRS.WGS84)"
      ],
      "execution_count": null,
      "outputs": []
    },
    {
      "cell_type": "code",
      "metadata": {
        "id": "_Q9AML2ZcIBy"
      },
      "source": [
        "wms_true_color_request = WmsRequest(\n",
        "    data_collection=DataCollection.LANDSAT8,\n",
        "    data_folder=rootPath,\n",
        "    layer='TRUE-COLOR-L8',\n",
        "    bbox=talca_bbox,\n",
        "    #time='2017-12-10',\n",
        "    time=('2017-12-01','2017-12-31'),\n",
        "    #width=512,\n",
        "    #height=856,\n",
        "    width=600,\n",
        "    #height=600,\n",
        "    image_format=MimeType.TIFF,\n",
        "    time_difference=datetime.timedelta(hours=2),\n",
        "    config=config\n",
        ")"
      ],
      "execution_count": null,
      "outputs": []
    },
    {
      "cell_type": "code",
      "metadata": {
        "colab": {
          "base_uri": "https://localhost:8080/"
        },
        "id": "sYZiGBTYoSw2",
        "outputId": "5958faca-9bfc-4797-9c23-4ad3a549b3aa"
      },
      "source": [
        "#Save data\n",
        "%%time\n",
        "wms_true_color_request.save_data()\n"
      ],
      "execution_count": null,
      "outputs": [
        {
          "output_type": "stream",
          "text": [
            "CPU times: user 88 ms, sys: 16.6 ms, total: 105 ms\n",
            "Wall time: 5.15 s\n"
          ],
          "name": "stdout"
        }
      ]
    },
    {
      "cell_type": "code",
      "metadata": {
        "id": "qiiX1jWDpekG",
        "colab": {
          "base_uri": "https://localhost:8080/"
        },
        "outputId": "cba0b520-4b9b-4051-d37d-11c44d06a7e5"
      },
      "source": [
        "#Getting the list of all saved folders.\n",
        "folders1=os.listdir(wms_true_color_request.data_folder)\n",
        "print(folders1)"
      ],
      "execution_count": null,
      "outputs": [
        {
          "output_type": "stream",
          "text": [
            "['a97795cef194b9066fd7427a23e95331', '76997b46942e2885afa6ad95735722f5', '9a2a3e4f8334cb0270055766e918579a', 'cc82b1fbe98a12c881309a26a42d4850', '2490dcdfb31538e2ee031e5481cea56a', '5afa57ec8d06d01a9558acda71c1216c']\n"
          ],
          "name": "stdout"
        }
      ]
    },
    {
      "cell_type": "markdown",
      "metadata": {
        "id": "oiMp9On6VhBY"
      },
      "source": [
        "### Setting parameters to rename the folder"
      ]
    },
    {
      "cell_type": "code",
      "metadata": {
        "id": "5qDAr0I5VhBY"
      },
      "source": [
        "satellite='Lansat8'\n",
        "campo2='campo2'"
      ],
      "execution_count": null,
      "outputs": []
    },
    {
      "cell_type": "markdown",
      "metadata": {
        "id": "GOMwqFe1VhBZ"
      },
      "source": [
        "#### Setting area of interest"
      ]
    },
    {
      "cell_type": "code",
      "metadata": {
        "id": "S5Pa0SHpVhBZ"
      },
      "source": [
        "talca_coords_wgs84 = [-71.800228, -35.457577, -71.786453, -35.449821] #TALCA coordinates 2nd PART (Parte derecha del terreno)\n",
        "#FORMAT(LONGITUDE1, LATITUDE1, LONGITUDE2, LATITUDE2) From Google Earth they are lower left and upper rigth corners "
      ],
      "execution_count": null,
      "outputs": []
    },
    {
      "cell_type": "markdown",
      "metadata": {
        "id": "qsmuNoE4VhBZ"
      },
      "source": [
        "All requests require bounding box to be given as an instance of `sentinelhub.geometry.BBox` with corresponding Coordinate Reference System (`sentinelhub.geometry.CRS`). In our case it is in _WGS84_ and we can use the predefined _WGS84_ coordinate reference system from `sentinelhub.geometry.CRS`."
      ]
    },
    {
      "cell_type": "code",
      "metadata": {
        "id": "nWStsa7iVhBZ"
      },
      "source": [
        "talca_bbox = BBox(bbox=talca_coords_wgs84, crs=CRS.WGS84)"
      ],
      "execution_count": null,
      "outputs": []
    },
    {
      "cell_type": "code",
      "metadata": {
        "id": "jfClcIHSVhBZ"
      },
      "source": [
        "wms_true_color_request = WmsRequest(\n",
        "    data_collection=DataCollection.LANDSAT8,\n",
        "    data_folder=rootPath,\n",
        "    layer='TRUE-COLOR-L8',\n",
        "    bbox=talca_bbox,\n",
        "    #time='2017-12-10',\n",
        "    time=('2017-12-01','2017-12-31'),\n",
        "    #width=512,\n",
        "    #height=856,\n",
        "    width=600,\n",
        "    #height=600,\n",
        "    image_format=MimeType.TIFF,\n",
        "    time_difference=datetime.timedelta(hours=2),\n",
        "    config=config\n",
        ")"
      ],
      "execution_count": null,
      "outputs": []
    },
    {
      "cell_type": "code",
      "metadata": {
        "colab": {
          "base_uri": "https://localhost:8080/"
        },
        "id": "7vp4KkCSVhBZ",
        "outputId": "550d5066-fcae-4f31-e4d9-3864a903eae3"
      },
      "source": [
        "#Save data\n",
        "%%time\n",
        "wms_true_color_request.save_data()\n"
      ],
      "execution_count": null,
      "outputs": [
        {
          "output_type": "stream",
          "text": [
            "CPU times: user 60.6 ms, sys: 7.66 ms, total: 68.3 ms\n",
            "Wall time: 1.48 s\n"
          ],
          "name": "stdout"
        }
      ]
    },
    {
      "cell_type": "code",
      "metadata": {
        "colab": {
          "base_uri": "https://localhost:8080/"
        },
        "id": "Y_iBiA92VhBl",
        "outputId": "34818e28-8622-4ece-dbc6-c918609bb6ac"
      },
      "source": [
        "#Getting the list of all saved folders.\n",
        "folders2=os.listdir(wms_true_color_request.data_folder)\n",
        "\n",
        "for i in folders1:\n",
        "  for j in folders2:\n",
        "    if i == j:\n",
        "      folders2.remove(j)\n",
        "print(folders1)\n",
        "print(folders2)"
      ],
      "execution_count": null,
      "outputs": [
        {
          "output_type": "stream",
          "text": [
            "['a97795cef194b9066fd7427a23e95331', '76997b46942e2885afa6ad95735722f5', '9a2a3e4f8334cb0270055766e918579a', 'cc82b1fbe98a12c881309a26a42d4850', '2490dcdfb31538e2ee031e5481cea56a', '5afa57ec8d06d01a9558acda71c1216c']\n",
            "['039d95b77c3506979f7a34039bac4c5b', 'cb29da98d46dffd15259f6c690a9d7c4', 'f74eb9f270da9e6ceb871d90d3814900', '10bc5d49570bb0fe31308da2de6f0e32']\n"
          ],
          "name": "stdout"
        }
      ]
    },
    {
      "cell_type": "markdown",
      "metadata": {
        "id": "paJ7lV64kTXf"
      },
      "source": [
        "### Etiquetar las imágenes con el # de campo y fecha respectiva."
      ]
    },
    {
      "cell_type": "code",
      "metadata": {
        "id": "I9h46sDrkeOl"
      },
      "source": [
        "for folder in folders1:\n",
        "  with open(rootPath+folder+\"/request.json\") as file: #Define the path to the folder and to the json file\n",
        "    dic=json.load(file)\n",
        "  dic1=dic.copy() #For the anotations\n",
        "  url=dic1['url']  #key url where is the date\n",
        "  date=[]\n",
        "  date_str=\"\"\n",
        "  for i in range(len(url)):\n",
        "      if url[i]=='T' and url[i+1]=='I' and url[i+2]=='M' and url[i+3]=='E':\n",
        "          for j in range(10):\n",
        "              date.append(url[i+5+j])\n",
        "  date_str=date_str.join(date)\n",
        "  date_str1=campo1+\"_\"+date_str\n",
        "  image_path=rootPath+folder+\"/response.tiff\"\n",
        "  new_name=rootPath+folder+\"/\"+date_str1+\".tiff\"\n",
        "  os.rename(image_path,new_name)\n",
        "\n",
        "  #Change the name of the folder\n",
        "  folder_name=rootPath+folder\n",
        "  new_folder_name=rootPath+campo1+\"_\"+satellite+\"_\"+date_str\n",
        "  os.rename(folder_name,new_folder_name)\n",
        "\n",
        "   \n"
      ],
      "execution_count": null,
      "outputs": []
    },
    {
      "cell_type": "markdown",
      "metadata": {
        "id": "tpsu8NwC66DQ"
      },
      "source": [
        "### Etiquetar las imágenes con el # de campo y fecha respectiva."
      ]
    },
    {
      "cell_type": "code",
      "metadata": {
        "id": "G5Z3dP6j66DQ"
      },
      "source": [
        "for folder in folders2:\n",
        "  with open(rootPath+folder+\"/request.json\") as file: #Define the path to the folder and to the json file\n",
        "    dic=json.load(file)\n",
        "  dic1=dic.copy() #For the anotations\n",
        "  url=dic1['url']  #key url where is the date\n",
        "  date=[]\n",
        "  date_str=\"\"\n",
        "  for i in range(len(url)):\n",
        "      if url[i]=='T' and url[i+1]=='I' and url[i+2]=='M' and url[i+3]=='E':\n",
        "          for j in range(10):\n",
        "              date.append(url[i+5+j])\n",
        "  date_str=date_str.join(date)\n",
        "  date_str1=campo2+\"_\"+date_str\n",
        "  image_path=rootPath+folder+\"/response.tiff\"\n",
        "  new_name=rootPath+folder+\"/\"+date_str1+\".tiff\"\n",
        "  os.rename(image_path,new_name)\n",
        "\n",
        "  #Change the name of the folder\n",
        "  folder_name=rootPath+folder\n",
        "  new_folder_name=rootPath+campo2+\"_\"+satellite+\"_\"+date_str\n",
        "  os.rename(folder_name,new_folder_name)\n",
        "\n",
        "   \n"
      ],
      "execution_count": null,
      "outputs": []
    }
  ]
}