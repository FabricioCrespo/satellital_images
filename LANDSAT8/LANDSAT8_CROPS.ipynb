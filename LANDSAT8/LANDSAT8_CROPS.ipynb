{
  "nbformat": 4,
  "nbformat_minor": 0,
  "metadata": {
    "colab": {
      "name": "LANDSAT8_CROPS.ipynb",
      "provenance": [],
      "collapsed_sections": []
    },
    "kernelspec": {
      "name": "python3",
      "display_name": "Python 3"
    }
  },
  "cells": [
    {
      "cell_type": "markdown",
      "metadata": {
        "id": "F8cAlLubcTH1"
      },
      "source": [
        "## Install Sentinel-Hub"
      ]
    },
    {
      "cell_type": "code",
      "metadata": {
        "colab": {
          "base_uri": "https://localhost:8080/"
        },
        "id": "7988XRs6q8Xc",
        "outputId": "35bd76c3-61d5-4c36-ce8a-7f1f049ddfce"
      },
      "source": [
        "pip install sentinelhub --upgrade"
      ],
      "execution_count": null,
      "outputs": [
        {
          "output_type": "stream",
          "text": [
            "Collecting sentinelhub\n",
            "\u001b[?25l  Downloading https://files.pythonhosted.org/packages/a8/43/bc002d9d860496c829b2e00f2ddb36dbb51af59c1be1b928e9d59489ed76/sentinelhub-3.1.0.tar.gz (186kB)\n",
            "\r\u001b[K     |█▊                              | 10kB 16.3MB/s eta 0:00:01\r\u001b[K     |███▌                            | 20kB 16.5MB/s eta 0:00:01\r\u001b[K     |█████▎                          | 30kB 10.3MB/s eta 0:00:01\r\u001b[K     |███████                         | 40kB 8.1MB/s eta 0:00:01\r\u001b[K     |████████▉                       | 51kB 4.3MB/s eta 0:00:01\r\u001b[K     |██████████▋                     | 61kB 4.3MB/s eta 0:00:01\r\u001b[K     |████████████▎                   | 71kB 4.8MB/s eta 0:00:01\r\u001b[K     |██████████████                  | 81kB 5.0MB/s eta 0:00:01\r\u001b[K     |███████████████▉                | 92kB 5.2MB/s eta 0:00:01\r\u001b[K     |█████████████████▋              | 102kB 5.6MB/s eta 0:00:01\r\u001b[K     |███████████████████▍            | 112kB 5.6MB/s eta 0:00:01\r\u001b[K     |█████████████████████▏          | 122kB 5.6MB/s eta 0:00:01\r\u001b[K     |███████████████████████         | 133kB 5.6MB/s eta 0:00:01\r\u001b[K     |████████████████████████▋       | 143kB 5.6MB/s eta 0:00:01\r\u001b[K     |██████████████████████████▍     | 153kB 5.6MB/s eta 0:00:01\r\u001b[K     |████████████████████████████▏   | 163kB 5.6MB/s eta 0:00:01\r\u001b[K     |██████████████████████████████  | 174kB 5.6MB/s eta 0:00:01\r\u001b[K     |███████████████████████████████▊| 184kB 5.6MB/s eta 0:00:01\r\u001b[K     |████████████████████████████████| 194kB 5.6MB/s \n",
            "\u001b[?25hRequirement already satisfied, skipping upgrade: wheel in /usr/local/lib/python3.6/dist-packages (from sentinelhub) (0.35.1)\n",
            "Requirement already satisfied, skipping upgrade: requests>=2.5.0 in /usr/local/lib/python3.6/dist-packages (from sentinelhub) (2.23.0)\n",
            "Requirement already satisfied, skipping upgrade: click in /usr/local/lib/python3.6/dist-packages (from sentinelhub) (7.1.2)\n",
            "Requirement already satisfied, skipping upgrade: numpy in /usr/local/lib/python3.6/dist-packages (from sentinelhub) (1.18.5)\n",
            "Requirement already satisfied, skipping upgrade: tifffile in /usr/local/lib/python3.6/dist-packages (from sentinelhub) (2020.9.3)\n",
            "Requirement already satisfied, skipping upgrade: pillow in /usr/local/lib/python3.6/dist-packages (from sentinelhub) (7.0.0)\n",
            "Requirement already satisfied, skipping upgrade: python-dateutil in /usr/local/lib/python3.6/dist-packages (from sentinelhub) (2.8.1)\n",
            "Collecting utm\n",
            "  Downloading https://files.pythonhosted.org/packages/f7/7e/629ddbe63164f71bf2b03e151a69bfbf439692652432af4b2a78f21b0a18/utm-0.7.0.tar.gz\n",
            "Requirement already satisfied, skipping upgrade: shapely in /usr/local/lib/python3.6/dist-packages (from sentinelhub) (1.7.1)\n",
            "Collecting boto3\n",
            "\u001b[?25l  Downloading https://files.pythonhosted.org/packages/50/9c/544396572c05841b7a2482c88be5dd54dcd18ba97abeb1e8d34daf921a54/boto3-1.16.30-py2.py3-none-any.whl (129kB)\n",
            "\u001b[K     |████████████████████████████████| 133kB 15.6MB/s \n",
            "\u001b[?25hCollecting botocore\n",
            "\u001b[?25l  Downloading https://files.pythonhosted.org/packages/9c/a3/1ee497faf994d180df5d14d456eef1ef46ca1ffce617816faa4ff8164608/botocore-1.19.30-py2.py3-none-any.whl (7.0MB)\n",
            "\u001b[K     |████████████████████████████████| 7.0MB 10.4MB/s \n",
            "\u001b[?25hCollecting pyproj>=2.2.0\n",
            "\u001b[?25l  Downloading https://files.pythonhosted.org/packages/e4/ab/280e80a67cfc109d15428c0ec56391fc03a65857b7727cf4e6e6f99a4204/pyproj-3.0.0.post1-cp36-cp36m-manylinux2010_x86_64.whl (6.4MB)\n",
            "\u001b[K     |████████████████████████████████| 6.5MB 44.8MB/s \n",
            "\u001b[?25hRequirement already satisfied, skipping upgrade: oauthlib in /usr/local/lib/python3.6/dist-packages (from sentinelhub) (3.1.0)\n",
            "Requirement already satisfied, skipping upgrade: requests_oauthlib in /usr/local/lib/python3.6/dist-packages (from sentinelhub) (1.3.0)\n",
            "Collecting aenum>=2.1.4\n",
            "\u001b[?25l  Downloading https://files.pythonhosted.org/packages/5b/58/1007ed4a287c6dd3dc953ae478145bab28e8abc529627b2ee797f84b201e/aenum-2.2.4-py3-none-any.whl (41kB)\n",
            "\u001b[K     |████████████████████████████████| 51kB 6.9MB/s \n",
            "\u001b[?25hRequirement already satisfied, skipping upgrade: dataclasses in /usr/local/lib/python3.6/dist-packages (from sentinelhub) (0.8)\n",
            "Requirement already satisfied, skipping upgrade: chardet<4,>=3.0.2 in /usr/local/lib/python3.6/dist-packages (from requests>=2.5.0->sentinelhub) (3.0.4)\n",
            "Requirement already satisfied, skipping upgrade: certifi>=2017.4.17 in /usr/local/lib/python3.6/dist-packages (from requests>=2.5.0->sentinelhub) (2020.11.8)\n",
            "Requirement already satisfied, skipping upgrade: idna<3,>=2.5 in /usr/local/lib/python3.6/dist-packages (from requests>=2.5.0->sentinelhub) (2.10)\n",
            "Requirement already satisfied, skipping upgrade: urllib3!=1.25.0,!=1.25.1,<1.26,>=1.21.1 in /usr/local/lib/python3.6/dist-packages (from requests>=2.5.0->sentinelhub) (1.24.3)\n",
            "Requirement already satisfied, skipping upgrade: six>=1.5 in /usr/local/lib/python3.6/dist-packages (from python-dateutil->sentinelhub) (1.15.0)\n",
            "Collecting jmespath<1.0.0,>=0.7.1\n",
            "  Downloading https://files.pythonhosted.org/packages/07/cb/5f001272b6faeb23c1c9e0acc04d48eaaf5c862c17709d20e3469c6e0139/jmespath-0.10.0-py2.py3-none-any.whl\n",
            "Collecting s3transfer<0.4.0,>=0.3.0\n",
            "\u001b[?25l  Downloading https://files.pythonhosted.org/packages/69/79/e6afb3d8b0b4e96cefbdc690f741d7dd24547ff1f94240c997a26fa908d3/s3transfer-0.3.3-py2.py3-none-any.whl (69kB)\n",
            "\u001b[K     |████████████████████████████████| 71kB 8.1MB/s \n",
            "\u001b[?25hBuilding wheels for collected packages: sentinelhub, utm\n",
            "  Building wheel for sentinelhub (setup.py) ... \u001b[?25l\u001b[?25hdone\n",
            "  Created wheel for sentinelhub: filename=sentinelhub-3.1.0-cp36-none-any.whl size=196404 sha256=9f087b2a437283d5326e8e45a1019e5a3ae9e0196e96b89f886722e959399bbe\n",
            "  Stored in directory: /root/.cache/pip/wheels/90/6c/df/be1525ead52f5c2ce49f0880e73587723bf25caac7295f9db2\n",
            "  Building wheel for utm (setup.py) ... \u001b[?25l\u001b[?25hdone\n",
            "  Created wheel for utm: filename=utm-0.7.0-cp36-none-any.whl size=6095 sha256=10fcf31e26eef4c67d7a75b806813288b6f4420e8bcf4a6f3d537c1cf7bb4e93\n",
            "  Stored in directory: /root/.cache/pip/wheels/d3/a0/c4/93c7535fe705e70d2376505fd2683f91524a50a944a15212d9\n",
            "Successfully built sentinelhub utm\n",
            "\u001b[31mERROR: botocore 1.19.30 has requirement urllib3<1.27,>=1.25.4; python_version != \"3.4\", but you'll have urllib3 1.24.3 which is incompatible.\u001b[0m\n",
            "Installing collected packages: utm, jmespath, botocore, s3transfer, boto3, pyproj, aenum, sentinelhub\n",
            "Successfully installed aenum-2.2.4 boto3-1.16.30 botocore-1.19.30 jmespath-0.10.0 pyproj-3.0.0.post1 s3transfer-0.3.3 sentinelhub-3.1.0 utm-0.7.0\n"
          ],
          "name": "stdout"
        }
      ]
    },
    {
      "cell_type": "code",
      "metadata": {
        "colab": {
          "base_uri": "https://localhost:8080/"
        },
        "id": "325GhGFZuttN",
        "outputId": "db977521-e8b8-42bd-8f9a-becb408d0853"
      },
      "source": [
        "from google.colab import drive\n",
        "drive.mount('/content/gdrive', force_remount=True)"
      ],
      "execution_count": null,
      "outputs": [
        {
          "output_type": "stream",
          "text": [
            "Mounted at /content/gdrive\n"
          ],
          "name": "stdout"
        }
      ]
    },
    {
      "cell_type": "markdown",
      "metadata": {
        "id": "91LkaMieyDXW"
      },
      "source": [
        "### Put the path to the folder where we want to save the files from Sentinelhub"
      ]
    },
    {
      "cell_type": "code",
      "metadata": {
        "id": "vtUnsk7Z0YU4"
      },
      "source": [
        "rootPath=\"/content/gdrive/My Drive/WORK/C&T/SENTINEL-HUB/test_dir/LANDSAT8/\"\n"
      ],
      "execution_count": null,
      "outputs": []
    },
    {
      "cell_type": "markdown",
      "metadata": {
        "id": "IwN37sI3nZl3"
      },
      "source": [
        "### SENTINEL-HUB for python configuration."
      ]
    },
    {
      "cell_type": "code",
      "metadata": {
        "id": "X5Z_1obScIBu"
      },
      "source": [
        "from sentinelhub import SHConfig\n",
        "\n",
        "\n",
        "INSTANCE_ID = 'ec425561-c50f-4445-b18a-f99cfe3f6ce2'  # In case you put instance ID into configuration file you can leave this unchanged\n",
        "\n",
        "if INSTANCE_ID:\n",
        "    config = SHConfig()\n",
        "    config.instance_id = INSTANCE_ID\n",
        "else:\n",
        "    config = None"
      ],
      "execution_count": null,
      "outputs": []
    },
    {
      "cell_type": "markdown",
      "metadata": {
        "id": "g5UmHdO5cIBu"
      },
      "source": [
        "#### Imports "
      ]
    },
    {
      "cell_type": "code",
      "metadata": {
        "id": "n39lh0TVcIBu"
      },
      "source": [
        "%reload_ext autoreload\n",
        "%autoreload 2\n",
        "%matplotlib inline"
      ],
      "execution_count": null,
      "outputs": []
    },
    {
      "cell_type": "markdown",
      "metadata": {
        "id": "OZtK0xWty5Vc"
      },
      "source": [
        "### Import the Libraries"
      ]
    },
    {
      "cell_type": "code",
      "metadata": {
        "id": "YsNjm4gMcIBu"
      },
      "source": [
        "# Please, install all the neccesary libs.\n",
        "import datetime\n",
        "import numpy as np\n",
        "\n",
        "import matplotlib.pyplot as plt\n",
        "import os \n",
        "import json "
      ],
      "execution_count": null,
      "outputs": []
    },
    {
      "cell_type": "code",
      "metadata": {
        "id": "eqUnnU6McIBu"
      },
      "source": [
        "from sentinelhub import WmsRequest, WcsRequest, MimeType, CRS, BBox, DataCollection"
      ],
      "execution_count": null,
      "outputs": []
    },
    {
      "cell_type": "code",
      "metadata": {
        "id": "gI_w2J75cIBu"
      },
      "source": [
        "def plot_image(image, factor=1):\n",
        "    \"\"\"\n",
        "    Utility function for plotting RGB images.\n",
        "    \"\"\"\n",
        "    fig = plt.subplots(nrows=1, ncols=1, figsize=(15, 7))\n",
        "    \n",
        "    if np.issubdtype(image.dtype, np.floating):\n",
        "        plt.imshow(np.minimum(image * factor, 1))\n",
        "    else:\n",
        "        plt.imshow(image)"
      ],
      "execution_count": null,
      "outputs": []
    },
    {
      "cell_type": "markdown",
      "metadata": {
        "id": "jM-Mbo7ejvY7"
      },
      "source": [
        "### Definir el numero del campo de Talca: \n",
        "#### Comentar primero uno de los dos campos y ejecutar el código. Realizar lo mismo con el otro campo. "
      ]
    },
    {
      "cell_type": "code",
      "metadata": {
        "id": "zYTveAuDj25I"
      },
      "source": [
        "\"\"\"num_campo=1\n",
        "talca_campo='campo1' \"\"\"\n",
        "\n",
        "num_campo=2\n",
        "talca_campo='campo2' "
      ],
      "execution_count": null,
      "outputs": []
    },
    {
      "cell_type": "code",
      "metadata": {
        "id": "baCTcxtC5tX0"
      },
      "source": [
        "if num_campo==1:\n",
        "  talca_coords_wgs84 = [-71.817933, -35.452880, -71.807166, -35.446550] #TALCA coordinates 1st PART (Parte izquierda del terreno)\n",
        "else:\n",
        "  talca_coords_wgs84 = [-71.800228, -35.457577, -71.786453, -35.449821] #TALCA coordinates 2nd PART (Parte derecha del terreno)\n",
        "\n",
        "#FORMAT(LONGITUDE1, LATITUDE1, LONGITUDE2, LATITUDE2) From Google Earth they are lower left and upper rigth corners "
      ],
      "execution_count": null,
      "outputs": []
    },
    {
      "cell_type": "code",
      "metadata": {
        "id": "oYxP2Ef1cIBu"
      },
      "source": [
        "talca_bbox = BBox(bbox=talca_coords_wgs84, crs=CRS.WGS84)"
      ],
      "execution_count": null,
      "outputs": []
    },
    {
      "cell_type": "markdown",
      "metadata": {
        "id": "K4damUVLcIBy"
      },
      "source": [
        "Since data has been already downloaded the next request will read the data from disk instead of downloading it. That will be much faster."
      ]
    },
    {
      "cell_type": "code",
      "metadata": {
        "id": "nEKrwPB2q9a2"
      },
      "source": [
        "wms_bands_request_from_disk = WmsRequest(\n",
        "    data_collection=DataCollection.LANDSAT8,\n",
        "    data_folder=rootPath,\n",
        "    layer='BANDS-L8',\n",
        "    bbox=talca_bbox,\n",
        "    time=('2017-12-01','2017-12-31'),\n",
        "    width=600,\n",
        "    image_format=MimeType.TIFF,\n",
        "    time_difference=datetime.timedelta(hours=2),\n",
        "    config=config\n",
        ")"
      ],
      "execution_count": null,
      "outputs": []
    },
    {
      "cell_type": "code",
      "metadata": {
        "colab": {
          "base_uri": "https://localhost:8080/"
        },
        "id": "qZFaL83Cs7rm",
        "outputId": "4ebe5497-5e48-4ef5-dfda-5c8e8d1064df"
      },
      "source": [
        "#A list to save the image names and another one to the folders names\n",
        "image_names=[]\n",
        "folder_paths=[]\n",
        "for folder, _, filenames in os.walk(wms_bands_request_from_disk.data_folder):\n",
        "    for filename in filenames:\n",
        "        if filename[-1] != 'n':\n",
        "          if filename[:6]==talca_campo:\n",
        "            image_names.append(filename)\n",
        "            folder_paths.append(folder)\n",
        "            print(os.path.join(folder, filename))\n",
        "print(image_names)\n",
        "print(\"-----------------\")\n",
        "print(folder_paths)\n",
        "print(\"-----------------\")\n",
        "print(len(image_names))\n",
        "print(\"-----------------\")\n",
        "print(len(folder_paths))"
      ],
      "execution_count": null,
      "outputs": [
        {
          "output_type": "stream",
          "text": [
            "/content/gdrive/My Drive/WORK/C&T/SENTINEL-HUB/test_dir/LANDSAT8/campo2_Lansat8_2017-12-10/campo2_2017-12-10.tiff\n",
            "/content/gdrive/My Drive/WORK/C&T/SENTINEL-HUB/test_dir/LANDSAT8/campo2_Lansat8_2017-12-03/campo2_2017-12-03.tiff\n",
            "/content/gdrive/My Drive/WORK/C&T/SENTINEL-HUB/test_dir/LANDSAT8/campo2_Lansat8_2017-12-19/campo2_2017-12-19.tiff\n",
            "['campo2_2017-12-10.tiff', 'campo2_2017-12-03.tiff', 'campo2_2017-12-19.tiff']\n",
            "-----------------\n",
            "['/content/gdrive/My Drive/WORK/C&T/SENTINEL-HUB/test_dir/LANDSAT8/campo2_Lansat8_2017-12-10', '/content/gdrive/My Drive/WORK/C&T/SENTINEL-HUB/test_dir/LANDSAT8/campo2_Lansat8_2017-12-03', '/content/gdrive/My Drive/WORK/C&T/SENTINEL-HUB/test_dir/LANDSAT8/campo2_Lansat8_2017-12-19']\n",
            "-----------------\n",
            "3\n",
            "-----------------\n",
            "3\n"
          ],
          "name": "stdout"
        }
      ]
    },
    {
      "cell_type": "code",
      "metadata": {
        "id": "rPyINCXTrfWG",
        "colab": {
          "base_uri": "https://localhost:8080/"
        },
        "outputId": "c31871e0-8591-420d-c1a4-878f2ea228f2"
      },
      "source": [
        "wms_bands_img_from_disk = wms_bands_request_from_disk.get_data()\n",
        "print(type(wms_bands_img_from_disk))"
      ],
      "execution_count": null,
      "outputs": [
        {
          "output_type": "stream",
          "text": [
            "<class 'list'>\n"
          ],
          "name": "stdout"
        }
      ]
    },
    {
      "cell_type": "code",
      "metadata": {
        "colab": {
          "base_uri": "https://localhost:8080/",
          "height": 450
        },
        "id": "wFE1fs6acIBx",
        "outputId": "779cdf40-0fef-495f-ce8d-945ba799d663"
      },
      "source": [
        "plot_image(wms_bands_img_from_disk[0][:, :, 8])\n",
        "print((wms_bands_img_from_disk[0].shape))"
      ],
      "execution_count": null,
      "outputs": [
        {
          "output_type": "stream",
          "text": [
            "(438, 600, 12)\n"
          ],
          "name": "stdout"
        },
        {
          "output_type": "display_data",
          "data": {
            "image/png": "[encoded data removed]",
            "text/plain": [
              "<Figure size 1080x504 with 1 Axes>"
            ]
          },
          "metadata": {
            "tags": [],
            "needs_background": "light"
          }
        }
      ]
    },
    {
      "cell_type": "markdown",
      "metadata": {
        "id": "IHjhxEybdemd"
      },
      "source": [
        "### Import OpenCV "
      ]
    },
    {
      "cell_type": "code",
      "metadata": {
        "id": "L8aLH2q7BaVv"
      },
      "source": [
        "import cv2\n",
        "import subprocess\n",
        "import tifffile as tiff\n",
        "from google.colab.patches import cv2_imshow"
      ],
      "execution_count": null,
      "outputs": []
    },
    {
      "cell_type": "markdown",
      "metadata": {
        "id": "03W1GbczdkH0"
      },
      "source": [
        "### Get one image per channel and then save it"
      ]
    },
    {
      "cell_type": "code",
      "metadata": {
        "colab": {
          "base_uri": "https://localhost:8080/"
        },
        "id": "K4l1NYrzBiwg",
        "outputId": "7a9dee1b-1ae6-4384-d4b6-ae4dbceb9555"
      },
      "source": [
        "#Define a list to save the paths to each channel image of every folder\n",
        "channels_paths=[]\n",
        "if talca_campo=='campo1':  \n",
        "  for i in range(len(image_names)):\n",
        "    for j in range(9):\n",
        "      img=wms_bands_img_from_disk[i][:, :, j]\n",
        "      #pathToEachFolder=''\n",
        "      name=\"channel\"+str(j+1)+\"_\"+image_names[i]\n",
        "      path=folder_paths[i]+\"/channels\"\n",
        "      mkdircommand=['mkdir', path]\n",
        "      subprocess.run(mkdircommand).stdout\n",
        "      channels_paths.append(path+\"/\"+name)\n",
        "      cv2.imwrite(path+\"/\"+name, img )\n",
        "      print(path+\"/\"+name)\n",
        "\n",
        "else:  \n",
        "  for i in range(len(image_names)):\n",
        "    for j in range(9):\n",
        "      img=wms_bands_img_from_disk[i][:, :, j]\n",
        "      #pathToEachFolder=''\n",
        "      name=\"channel\"+str(j+1)+\"_\"+image_names[i]\n",
        "      path=folder_paths[i]+\"/channels\"\n",
        "      mkdircommand=['mkdir', path]\n",
        "      subprocess.run(mkdircommand).stdout\n",
        "      channels_paths.append(path+\"/\"+name)\n",
        "      cv2.imwrite(path+\"/\"+name, img )\n",
        "      print(path+\"/\"+name)\n",
        "print(channels_paths)"
      ],
      "execution_count": null,
      "outputs": [
        {
          "output_type": "stream",
          "text": [
            "/content/gdrive/My Drive/WORK/C&T/SENTINEL-HUB/test_dir/LANDSAT8/campo2_Lansat8_2017-12-10/channels/channel1_campo2_2017-12-10.tiff\n",
            "/content/gdrive/My Drive/WORK/C&T/SENTINEL-HUB/test_dir/LANDSAT8/campo2_Lansat8_2017-12-10/channels/channel2_campo2_2017-12-10.tiff\n",
            "/content/gdrive/My Drive/WORK/C&T/SENTINEL-HUB/test_dir/LANDSAT8/campo2_Lansat8_2017-12-10/channels/channel3_campo2_2017-12-10.tiff\n",
            "/content/gdrive/My Drive/WORK/C&T/SENTINEL-HUB/test_dir/LANDSAT8/campo2_Lansat8_2017-12-10/channels/channel4_campo2_2017-12-10.tiff\n",
            "/content/gdrive/My Drive/WORK/C&T/SENTINEL-HUB/test_dir/LANDSAT8/campo2_Lansat8_2017-12-10/channels/channel5_campo2_2017-12-10.tiff\n",
            "/content/gdrive/My Drive/WORK/C&T/SENTINEL-HUB/test_dir/LANDSAT8/campo2_Lansat8_2017-12-10/channels/channel6_campo2_2017-12-10.tiff\n",
            "/content/gdrive/My Drive/WORK/C&T/SENTINEL-HUB/test_dir/LANDSAT8/campo2_Lansat8_2017-12-10/channels/channel7_campo2_2017-12-10.tiff\n",
            "/content/gdrive/My Drive/WORK/C&T/SENTINEL-HUB/test_dir/LANDSAT8/campo2_Lansat8_2017-12-10/channels/channel8_campo2_2017-12-10.tiff\n",
            "/content/gdrive/My Drive/WORK/C&T/SENTINEL-HUB/test_dir/LANDSAT8/campo2_Lansat8_2017-12-10/channels/channel9_campo2_2017-12-10.tiff\n",
            "/content/gdrive/My Drive/WORK/C&T/SENTINEL-HUB/test_dir/LANDSAT8/campo2_Lansat8_2017-12-03/channels/channel1_campo2_2017-12-03.tiff\n",
            "/content/gdrive/My Drive/WORK/C&T/SENTINEL-HUB/test_dir/LANDSAT8/campo2_Lansat8_2017-12-03/channels/channel2_campo2_2017-12-03.tiff\n",
            "/content/gdrive/My Drive/WORK/C&T/SENTINEL-HUB/test_dir/LANDSAT8/campo2_Lansat8_2017-12-03/channels/channel3_campo2_2017-12-03.tiff\n",
            "/content/gdrive/My Drive/WORK/C&T/SENTINEL-HUB/test_dir/LANDSAT8/campo2_Lansat8_2017-12-03/channels/channel4_campo2_2017-12-03.tiff\n",
            "/content/gdrive/My Drive/WORK/C&T/SENTINEL-HUB/test_dir/LANDSAT8/campo2_Lansat8_2017-12-03/channels/channel5_campo2_2017-12-03.tiff\n",
            "/content/gdrive/My Drive/WORK/C&T/SENTINEL-HUB/test_dir/LANDSAT8/campo2_Lansat8_2017-12-03/channels/channel6_campo2_2017-12-03.tiff\n",
            "/content/gdrive/My Drive/WORK/C&T/SENTINEL-HUB/test_dir/LANDSAT8/campo2_Lansat8_2017-12-03/channels/channel7_campo2_2017-12-03.tiff\n",
            "/content/gdrive/My Drive/WORK/C&T/SENTINEL-HUB/test_dir/LANDSAT8/campo2_Lansat8_2017-12-03/channels/channel8_campo2_2017-12-03.tiff\n",
            "/content/gdrive/My Drive/WORK/C&T/SENTINEL-HUB/test_dir/LANDSAT8/campo2_Lansat8_2017-12-03/channels/channel9_campo2_2017-12-03.tiff\n",
            "/content/gdrive/My Drive/WORK/C&T/SENTINEL-HUB/test_dir/LANDSAT8/campo2_Lansat8_2017-12-19/channels/channel1_campo2_2017-12-19.tiff\n",
            "/content/gdrive/My Drive/WORK/C&T/SENTINEL-HUB/test_dir/LANDSAT8/campo2_Lansat8_2017-12-19/channels/channel2_campo2_2017-12-19.tiff\n",
            "/content/gdrive/My Drive/WORK/C&T/SENTINEL-HUB/test_dir/LANDSAT8/campo2_Lansat8_2017-12-19/channels/channel3_campo2_2017-12-19.tiff\n",
            "/content/gdrive/My Drive/WORK/C&T/SENTINEL-HUB/test_dir/LANDSAT8/campo2_Lansat8_2017-12-19/channels/channel4_campo2_2017-12-19.tiff\n",
            "/content/gdrive/My Drive/WORK/C&T/SENTINEL-HUB/test_dir/LANDSAT8/campo2_Lansat8_2017-12-19/channels/channel5_campo2_2017-12-19.tiff\n",
            "/content/gdrive/My Drive/WORK/C&T/SENTINEL-HUB/test_dir/LANDSAT8/campo2_Lansat8_2017-12-19/channels/channel6_campo2_2017-12-19.tiff\n",
            "/content/gdrive/My Drive/WORK/C&T/SENTINEL-HUB/test_dir/LANDSAT8/campo2_Lansat8_2017-12-19/channels/channel7_campo2_2017-12-19.tiff\n",
            "/content/gdrive/My Drive/WORK/C&T/SENTINEL-HUB/test_dir/LANDSAT8/campo2_Lansat8_2017-12-19/channels/channel8_campo2_2017-12-19.tiff\n",
            "/content/gdrive/My Drive/WORK/C&T/SENTINEL-HUB/test_dir/LANDSAT8/campo2_Lansat8_2017-12-19/channels/channel9_campo2_2017-12-19.tiff\n",
            "['/content/gdrive/My Drive/WORK/C&T/SENTINEL-HUB/test_dir/LANDSAT8/campo2_Lansat8_2017-12-10/channels/channel1_campo2_2017-12-10.tiff', '/content/gdrive/My Drive/WORK/C&T/SENTINEL-HUB/test_dir/LANDSAT8/campo2_Lansat8_2017-12-10/channels/channel2_campo2_2017-12-10.tiff', '/content/gdrive/My Drive/WORK/C&T/SENTINEL-HUB/test_dir/LANDSAT8/campo2_Lansat8_2017-12-10/channels/channel3_campo2_2017-12-10.tiff', '/content/gdrive/My Drive/WORK/C&T/SENTINEL-HUB/test_dir/LANDSAT8/campo2_Lansat8_2017-12-10/channels/channel4_campo2_2017-12-10.tiff', '/content/gdrive/My Drive/WORK/C&T/SENTINEL-HUB/test_dir/LANDSAT8/campo2_Lansat8_2017-12-10/channels/channel5_campo2_2017-12-10.tiff', '/content/gdrive/My Drive/WORK/C&T/SENTINEL-HUB/test_dir/LANDSAT8/campo2_Lansat8_2017-12-10/channels/channel6_campo2_2017-12-10.tiff', '/content/gdrive/My Drive/WORK/C&T/SENTINEL-HUB/test_dir/LANDSAT8/campo2_Lansat8_2017-12-10/channels/channel7_campo2_2017-12-10.tiff', '/content/gdrive/My Drive/WORK/C&T/SENTINEL-HUB/test_dir/LANDSAT8/campo2_Lansat8_2017-12-10/channels/channel8_campo2_2017-12-10.tiff', '/content/gdrive/My Drive/WORK/C&T/SENTINEL-HUB/test_dir/LANDSAT8/campo2_Lansat8_2017-12-10/channels/channel9_campo2_2017-12-10.tiff', '/content/gdrive/My Drive/WORK/C&T/SENTINEL-HUB/test_dir/LANDSAT8/campo2_Lansat8_2017-12-03/channels/channel1_campo2_2017-12-03.tiff', '/content/gdrive/My Drive/WORK/C&T/SENTINEL-HUB/test_dir/LANDSAT8/campo2_Lansat8_2017-12-03/channels/channel2_campo2_2017-12-03.tiff', '/content/gdrive/My Drive/WORK/C&T/SENTINEL-HUB/test_dir/LANDSAT8/campo2_Lansat8_2017-12-03/channels/channel3_campo2_2017-12-03.tiff', '/content/gdrive/My Drive/WORK/C&T/SENTINEL-HUB/test_dir/LANDSAT8/campo2_Lansat8_2017-12-03/channels/channel4_campo2_2017-12-03.tiff', '/content/gdrive/My Drive/WORK/C&T/SENTINEL-HUB/test_dir/LANDSAT8/campo2_Lansat8_2017-12-03/channels/channel5_campo2_2017-12-03.tiff', '/content/gdrive/My Drive/WORK/C&T/SENTINEL-HUB/test_dir/LANDSAT8/campo2_Lansat8_2017-12-03/channels/channel6_campo2_2017-12-03.tiff', '/content/gdrive/My Drive/WORK/C&T/SENTINEL-HUB/test_dir/LANDSAT8/campo2_Lansat8_2017-12-03/channels/channel7_campo2_2017-12-03.tiff', '/content/gdrive/My Drive/WORK/C&T/SENTINEL-HUB/test_dir/LANDSAT8/campo2_Lansat8_2017-12-03/channels/channel8_campo2_2017-12-03.tiff', '/content/gdrive/My Drive/WORK/C&T/SENTINEL-HUB/test_dir/LANDSAT8/campo2_Lansat8_2017-12-03/channels/channel9_campo2_2017-12-03.tiff', '/content/gdrive/My Drive/WORK/C&T/SENTINEL-HUB/test_dir/LANDSAT8/campo2_Lansat8_2017-12-19/channels/channel1_campo2_2017-12-19.tiff', '/content/gdrive/My Drive/WORK/C&T/SENTINEL-HUB/test_dir/LANDSAT8/campo2_Lansat8_2017-12-19/channels/channel2_campo2_2017-12-19.tiff', '/content/gdrive/My Drive/WORK/C&T/SENTINEL-HUB/test_dir/LANDSAT8/campo2_Lansat8_2017-12-19/channels/channel3_campo2_2017-12-19.tiff', '/content/gdrive/My Drive/WORK/C&T/SENTINEL-HUB/test_dir/LANDSAT8/campo2_Lansat8_2017-12-19/channels/channel4_campo2_2017-12-19.tiff', '/content/gdrive/My Drive/WORK/C&T/SENTINEL-HUB/test_dir/LANDSAT8/campo2_Lansat8_2017-12-19/channels/channel5_campo2_2017-12-19.tiff', '/content/gdrive/My Drive/WORK/C&T/SENTINEL-HUB/test_dir/LANDSAT8/campo2_Lansat8_2017-12-19/channels/channel6_campo2_2017-12-19.tiff', '/content/gdrive/My Drive/WORK/C&T/SENTINEL-HUB/test_dir/LANDSAT8/campo2_Lansat8_2017-12-19/channels/channel7_campo2_2017-12-19.tiff', '/content/gdrive/My Drive/WORK/C&T/SENTINEL-HUB/test_dir/LANDSAT8/campo2_Lansat8_2017-12-19/channels/channel8_campo2_2017-12-19.tiff', '/content/gdrive/My Drive/WORK/C&T/SENTINEL-HUB/test_dir/LANDSAT8/campo2_Lansat8_2017-12-19/channels/channel9_campo2_2017-12-19.tiff']\n"
          ],
          "name": "stdout"
        }
      ]
    },
    {
      "cell_type": "markdown",
      "metadata": {
        "id": "ati6fbqzeX2z"
      },
      "source": [
        "### Define the function to crop the image"
      ]
    },
    {
      "cell_type": "code",
      "metadata": {
        "id": "2UX2b024ebyu"
      },
      "source": [
        "def crop_image(img, path,name, num_campo):\n",
        "  #Tratar de cropear la imagen\n",
        "  mask = np.zeros(img.shape[0:2], dtype=np.uint8)\n",
        "  if num_campo == 1:\n",
        "    points = np.array([[[191,39],[110,412],[221,402],[283,421],[311,315],[394,333],[443,117],[276,38]]]) #Talca first part\n",
        "  else:\n",
        "    points = np.array([[[118,22],[93,35],[79,52],[51,85],[233,304],[285,340],[452,380],[569,51]]])  #Talca second part\n",
        "  #method 1 smooth region\n",
        "  cv2.drawContours(mask, [points], -1, (255, 255, 255), -1, cv2.LINE_AA)\n",
        "  #method 2 not so smooth region\n",
        "  res = cv2.bitwise_and(img,img,mask = mask)\n",
        "  rect = cv2.boundingRect(points) # returns (x,y,w,h) of the rect\n",
        "  cropped = res[rect[1]: rect[1] + rect[3], rect[0]: rect[0] + rect[2]]\n",
        "  ## crate the white background of the same size of original image\n",
        "  wbg = np.ones_like(img, np.uint8)*255\n",
        "  cv2.bitwise_not(wbg,wbg, mask=mask)\n",
        "  # overlap the resulted cropped image on the white background\n",
        "  definitive_path=path+\"/crop_\"+name\n",
        "  cv2.imwrite(definitive_path, res)\n",
        "  return definitive_path\n"
      ],
      "execution_count": null,
      "outputs": []
    },
    {
      "cell_type": "code",
      "metadata": {
        "colab": {
          "base_uri": "https://localhost:8080/"
        },
        "id": "s0zkZDX30cKj",
        "outputId": "3642284f-89de-48b1-9742-f1e7d6b1cd25"
      },
      "source": [
        "print(len(channels_paths))"
      ],
      "execution_count": null,
      "outputs": [
        {
          "output_type": "stream",
          "text": [
            "27\n"
          ],
          "name": "stdout"
        }
      ]
    },
    {
      "cell_type": "code",
      "metadata": {
        "colab": {
          "base_uri": "https://localhost:8080/"
        },
        "id": "ua5dmE3fl9WZ",
        "outputId": "da386505-9783-4bdb-bca8-363e6282dc83"
      },
      "source": [
        "print(len(folder_paths))"
      ],
      "execution_count": null,
      "outputs": [
        {
          "output_type": "stream",
          "text": [
            "3\n"
          ],
          "name": "stdout"
        }
      ]
    },
    {
      "cell_type": "markdown",
      "metadata": {
        "id": "k7abxFKOs_Tm"
      },
      "source": [
        "### Crop the images per channel"
      ]
    },
    {
      "cell_type": "code",
      "metadata": {
        "colab": {
          "base_uri": "https://localhost:8080/"
        },
        "id": "Sqc9sgNdtE-Q",
        "outputId": "ed972bb9-1c0a-44c7-ba88-f6a68494caa5"
      },
      "source": [
        "#Array to save the paths to the crop images\n",
        "crop_folders=[]\n",
        "\n",
        "#make the directories for crop images\n",
        "for i in range(len(folder_paths)):\n",
        "  #pathToEachFolder=''\n",
        "  path=folder_paths[i]+\"/crop_channels\"\n",
        "  mkdircommand=['mkdir', path]\n",
        "  subprocess.run(mkdircommand).stdout\n",
        "  crop_folders.append(path)\n",
        "print(crop_folders)"
      ],
      "execution_count": null,
      "outputs": [
        {
          "output_type": "stream",
          "text": [
            "['/content/gdrive/My Drive/WORK/C&T/SENTINEL-HUB/test_dir/LANDSAT8/campo2_Lansat8_2017-12-10/crop_channels', '/content/gdrive/My Drive/WORK/C&T/SENTINEL-HUB/test_dir/LANDSAT8/campo2_Lansat8_2017-12-03/crop_channels', '/content/gdrive/My Drive/WORK/C&T/SENTINEL-HUB/test_dir/LANDSAT8/campo2_Lansat8_2017-12-19/crop_channels']\n"
          ],
          "name": "stdout"
        }
      ]
    },
    {
      "cell_type": "code",
      "metadata": {
        "colab": {
          "base_uri": "https://localhost:8080/"
        },
        "id": "iAaeekmdxn5T",
        "outputId": "8df409a0-3020-4771-8feb-75f7d774817b"
      },
      "source": [
        "print((channels_paths[1][100:]))\n",
        "print(type(channels_paths[-1:-33]))\n",
        "#/content/gdrive/My Drive/WORK/C&T/SENTINEL-HUB/test_dir/e67a54e5351acd9bb4c014421fb67895/channels/channel2_campo2_2017-12-10.tiff"
      ],
      "execution_count": null,
      "outputs": [
        {
          "output_type": "stream",
          "text": [
            "channel2_campo2_2017-12-10.tiff\n",
            "<class 'list'>\n"
          ],
          "name": "stdout"
        }
      ]
    },
    {
      "cell_type": "code",
      "metadata": {
        "colab": {
          "base_uri": "https://localhost:8080/"
        },
        "id": "rTTfFpsAzkBd",
        "outputId": "d127fc50-c634-43df-8963-68be76d81481"
      },
      "source": [
        "#Crop the images\n",
        "\n",
        "#Array to save the path to each channel crop\n",
        "channel_crops=[]\n",
        "aux=-1\n",
        "for i in range(len(channels_paths)):\n",
        "  img=cv2.imread(channels_paths[i],cv2.IMREAD_UNCHANGED)\n",
        "  print(img)\n",
        "  if i%9!=0:\n",
        "    crop_folder=crop_folders[aux]\n",
        "  else:\n",
        "    aux+=1\n",
        "    crop_folder=crop_folders[aux]\n",
        "  #Call to the function crop_image\n",
        "  name=channels_paths[i][100:]\n",
        "  channel_crops.append(crop_image(img,crop_folder,str(name), num_campo))\n",
        "\n",
        "print(channel_crops)"
      ],
      "execution_count": null,
      "outputs": [
        {
          "output_type": "stream",
          "text": [
            "[[0.1257 0.1257 0.1257 ... 0.1455 0.1455 0.1501]\n",
            " [0.1226 0.1226 0.1257 ... 0.1455 0.1455 0.1501]\n",
            " [0.1226 0.1226 0.1226 ... 0.1455 0.1455 0.1501]\n",
            " ...\n",
            " [0.1411 0.1411 0.1411 ... 0.129  0.129  0.129 ]\n",
            " [0.1411 0.1411 0.1411 ... 0.129  0.129  0.129 ]\n",
            " [0.1411 0.1411 0.1411 ... 0.129  0.129  0.129 ]]\n",
            "[[0.1058 0.1058 0.1058 ... 0.1261 0.1261 0.1346]\n",
            " [0.0986 0.0986 0.1058 ... 0.1261 0.1261 0.1346]\n",
            " [0.0986 0.0986 0.0986 ... 0.1261 0.1261 0.1346]\n",
            " ...\n",
            " [0.1279 0.1279 0.1279 ... 0.1099 0.1099 0.1099]\n",
            " [0.1279 0.1279 0.1279 ... 0.1099 0.1099 0.1099]\n",
            " [0.1279 0.1279 0.1279 ... 0.1099 0.1099 0.1099]]\n",
            "[[0.0956 0.0956 0.0956 ... 0.1232 0.1232 0.1336]\n",
            " [0.0851 0.0851 0.0956 ... 0.1232 0.1232 0.1336]\n",
            " [0.0851 0.0851 0.0851 ... 0.1232 0.1232 0.1336]\n",
            " ...\n",
            " [0.1143 0.1143 0.1143 ... 0.1006 0.1006 0.1006]\n",
            " [0.1143 0.1143 0.1143 ... 0.1006 0.1006 0.1006]\n",
            " [0.1143 0.1143 0.1143 ... 0.1006 0.1006 0.1006]]\n",
            "[[0.0781 0.0781 0.0781 ... 0.1362 0.1362 0.143 ]\n",
            " [0.0612 0.0612 0.0781 ... 0.1362 0.1362 0.143 ]\n",
            " [0.0612 0.0612 0.0612 ... 0.1362 0.1362 0.143 ]\n",
            " ...\n",
            " [0.1313 0.1313 0.1313 ... 0.09   0.09   0.09  ]\n",
            " [0.1313 0.1313 0.1313 ... 0.09   0.09   0.09  ]\n",
            " [0.1313 0.1313 0.1313 ... 0.09   0.09   0.09  ]]\n",
            "[[0.3604 0.3604 0.3604 ... 0.2734 0.2734 0.2653]\n",
            " [0.33   0.33   0.3604 ... 0.2734 0.2734 0.2653]\n",
            " [0.33   0.33   0.33   ... 0.2734 0.2734 0.2653]\n",
            " ...\n",
            " [0.2247 0.2247 0.2247 ... 0.3308 0.3308 0.3308]\n",
            " [0.2247 0.2247 0.2247 ... 0.3308 0.3308 0.3308]\n",
            " [0.2247 0.2247 0.2247 ... 0.3308 0.3308 0.3308]]\n",
            "[[0.1648 0.1648 0.1648 ... 0.2484 0.2484 0.2402]\n",
            " [0.1374 0.1374 0.1648 ... 0.2484 0.2484 0.2402]\n",
            " [0.1374 0.1374 0.1374 ... 0.2484 0.2484 0.2402]\n",
            " ...\n",
            " [0.2049 0.2049 0.2049 ... 0.2017 0.2017 0.2017]\n",
            " [0.2049 0.2049 0.2049 ... 0.2017 0.2017 0.2017]\n",
            " [0.2049 0.2049 0.2049 ... 0.2017 0.2017 0.2017]]\n",
            "[[0.0815 0.0815 0.0815 ... 0.1648 0.1648 0.1747]\n",
            " [0.0699 0.0699 0.0815 ... 0.1648 0.1648 0.1747]\n",
            " [0.0699 0.0699 0.0699 ... 0.1648 0.1648 0.1747]\n",
            " ...\n",
            " [0.1402 0.1402 0.1402 ... 0.1281 0.1281 0.1281]\n",
            " [0.1402 0.1402 0.1402 ... 0.1281 0.1281 0.1281]\n",
            " [0.1402 0.1402 0.1402 ... 0.1281 0.1281 0.1281]]\n",
            "[[0.0768 0.0768 0.0768 ... 0.1217 0.1217 0.1217]\n",
            " [0.0768 0.0768 0.0768 ... 0.1217 0.1217 0.1217]\n",
            " [0.0768 0.0768 0.0768 ... 0.1217 0.1217 0.1217]\n",
            " ...\n",
            " [0.1312 0.1312 0.1312 ... 0.0966 0.0954 0.0954]\n",
            " [0.1312 0.1312 0.1312 ... 0.0957 0.0976 0.0976]\n",
            " [0.1312 0.1312 0.1312 ... 0.0957 0.0976 0.0976]]\n",
            "[[0.0009 0.0009 0.0009 ... 0.0017 0.0017 0.0013]\n",
            " [0.0009 0.0009 0.0009 ... 0.0017 0.0017 0.0013]\n",
            " [0.0009 0.0009 0.0009 ... 0.0017 0.0017 0.0013]\n",
            " ...\n",
            " [0.001  0.001  0.001  ... 0.0011 0.0011 0.0011]\n",
            " [0.001  0.001  0.001  ... 0.0011 0.0011 0.0011]\n",
            " [0.001  0.001  0.001  ... 0.0011 0.0011 0.0011]]\n",
            "[[0.1082 0.1082 0.1082 ... 0.     0.     0.    ]\n",
            " [0.1082 0.1082 0.1082 ... 0.     0.     0.    ]\n",
            " [0.1082 0.1082 0.1082 ... 0.     0.     0.    ]\n",
            " ...\n",
            " [0.1223 0.1223 0.1223 ... 0.     0.     0.    ]\n",
            " [0.1223 0.1223 0.1223 ... 0.     0.     0.    ]\n",
            " [0.1223 0.1223 0.1223 ... 0.     0.     0.    ]]\n",
            "[[0.0902 0.0902 0.0902 ... 0.     0.     0.    ]\n",
            " [0.0902 0.0902 0.0902 ... 0.     0.     0.    ]\n",
            " [0.0902 0.0902 0.0902 ... 0.     0.     0.    ]\n",
            " ...\n",
            " [0.1086 0.1086 0.1086 ... 0.     0.     0.    ]\n",
            " [0.1086 0.1086 0.1086 ... 0.     0.     0.    ]\n",
            " [0.1086 0.1086 0.1086 ... 0.     0.     0.    ]]\n",
            "[[0.0844 0.0844 0.0844 ... 0.     0.     0.    ]\n",
            " [0.0844 0.0844 0.0844 ... 0.     0.     0.    ]\n",
            " [0.0844 0.0844 0.0844 ... 0.     0.     0.    ]\n",
            " ...\n",
            " [0.0993 0.0993 0.0993 ... 0.     0.     0.    ]\n",
            " [0.0993 0.0993 0.0993 ... 0.     0.     0.    ]\n",
            " [0.0993 0.0993 0.0993 ... 0.     0.     0.    ]]\n",
            "[[0.0683 0.0683 0.0683 ... 0.     0.     0.    ]\n",
            " [0.0683 0.0683 0.0683 ... 0.     0.     0.    ]\n",
            " [0.0683 0.0683 0.0683 ... 0.     0.     0.    ]\n",
            " ...\n",
            " [0.1097 0.1097 0.1097 ... 0.     0.     0.    ]\n",
            " [0.1097 0.1097 0.1097 ... 0.     0.     0.    ]\n",
            " [0.1097 0.1097 0.1097 ... 0.     0.     0.    ]]\n",
            "[[0.3294 0.3294 0.3294 ... 0.     0.     0.    ]\n",
            " [0.3294 0.3294 0.3294 ... 0.     0.     0.    ]\n",
            " [0.3294 0.3294 0.3294 ... 0.     0.     0.    ]\n",
            " ...\n",
            " [0.198  0.198  0.198  ... 0.     0.     0.    ]\n",
            " [0.198  0.198  0.198  ... 0.     0.     0.    ]\n",
            " [0.198  0.198  0.198  ... 0.     0.     0.    ]]\n",
            "[[0.1659 0.1659 0.1659 ... 0.     0.     0.    ]\n",
            " [0.1659 0.1659 0.1659 ... 0.     0.     0.    ]\n",
            " [0.1659 0.1659 0.1659 ... 0.     0.     0.    ]\n",
            " ...\n",
            " [0.1954 0.1954 0.1954 ... 0.     0.     0.    ]\n",
            " [0.1954 0.1954 0.1954 ... 0.     0.     0.    ]\n",
            " [0.1954 0.1954 0.1954 ... 0.     0.     0.    ]]\n",
            "[[0.0819 0.0819 0.0819 ... 0.     0.     0.    ]\n",
            " [0.0819 0.0819 0.0819 ... 0.     0.     0.    ]\n",
            " [0.0819 0.0819 0.0819 ... 0.     0.     0.    ]\n",
            " ...\n",
            " [0.1195 0.1195 0.1195 ... 0.     0.     0.    ]\n",
            " [0.1195 0.1195 0.1195 ... 0.     0.     0.    ]\n",
            " [0.1195 0.1195 0.1195 ... 0.     0.     0.    ]]\n",
            "[[0.0761 0.0761 0.0701 ... 0.     0.     0.    ]\n",
            " [0.0645 0.0645 0.0635 ... 0.     0.     0.    ]\n",
            " [0.0645 0.0645 0.0645 ... 0.     0.     0.    ]\n",
            " ...\n",
            " [0.1136 0.1159 0.1159 ... 0.     0.     0.    ]\n",
            " [0.1136 0.109  0.109  ... 0.     0.     0.    ]\n",
            " [0.1037 0.109  0.109  ... 0.     0.     0.    ]]\n",
            "[[0.0013 0.0013 0.0013 ... 0.     0.     0.    ]\n",
            " [0.0013 0.0013 0.0013 ... 0.     0.     0.    ]\n",
            " [0.0013 0.0013 0.0013 ... 0.     0.     0.    ]\n",
            " ...\n",
            " [0.0011 0.0011 0.0011 ... 0.     0.     0.    ]\n",
            " [0.0011 0.0011 0.0011 ... 0.     0.     0.    ]\n",
            " [0.0011 0.0011 0.0011 ... 0.     0.     0.    ]]\n",
            "[[0.1093 0.1093 0.1093 ... 0.     0.     0.    ]\n",
            " [0.1093 0.1093 0.1093 ... 0.     0.     0.    ]\n",
            " [0.1093 0.1093 0.1093 ... 0.     0.     0.    ]\n",
            " ...\n",
            " [0.123  0.123  0.123  ... 0.     0.     0.    ]\n",
            " [0.123  0.123  0.123  ... 0.     0.     0.    ]\n",
            " [0.123  0.123  0.123  ... 0.     0.     0.    ]]\n",
            "[[0.0916 0.0916 0.0916 ... 0.     0.     0.    ]\n",
            " [0.0916 0.0916 0.0916 ... 0.     0.     0.    ]\n",
            " [0.0916 0.0916 0.0916 ... 0.     0.     0.    ]\n",
            " ...\n",
            " [0.109  0.109  0.109  ... 0.     0.     0.    ]\n",
            " [0.109  0.109  0.109  ... 0.     0.     0.    ]\n",
            " [0.109  0.109  0.109  ... 0.     0.     0.    ]]\n",
            "[[0.0849 0.0849 0.0849 ... 0.     0.     0.    ]\n",
            " [0.0849 0.0849 0.0849 ... 0.     0.     0.    ]\n",
            " [0.0849 0.0849 0.0849 ... 0.     0.     0.    ]\n",
            " ...\n",
            " [0.0995 0.0995 0.0995 ... 0.     0.     0.    ]\n",
            " [0.0995 0.0995 0.0995 ... 0.     0.     0.    ]\n",
            " [0.0995 0.0995 0.0995 ... 0.     0.     0.    ]]\n",
            "[[0.0703 0.0703 0.0703 ... 0.     0.     0.    ]\n",
            " [0.0703 0.0703 0.0703 ... 0.     0.     0.    ]\n",
            " [0.0703 0.0703 0.0703 ... 0.     0.     0.    ]\n",
            " ...\n",
            " [0.1098 0.1098 0.1098 ... 0.     0.     0.    ]\n",
            " [0.1098 0.1098 0.1098 ... 0.     0.     0.    ]\n",
            " [0.1098 0.1098 0.1098 ... 0.     0.     0.    ]]\n",
            "[[0.3321 0.3321 0.3321 ... 0.     0.     0.    ]\n",
            " [0.3321 0.3321 0.3321 ... 0.     0.     0.    ]\n",
            " [0.3321 0.3321 0.3321 ... 0.     0.     0.    ]\n",
            " ...\n",
            " [0.1974 0.1974 0.1974 ... 0.     0.     0.    ]\n",
            " [0.1974 0.1974 0.1974 ... 0.     0.     0.    ]\n",
            " [0.1974 0.1974 0.1974 ... 0.     0.     0.    ]]\n",
            "[[0.1667 0.1667 0.1667 ... 0.     0.     0.    ]\n",
            " [0.1667 0.1667 0.1667 ... 0.     0.     0.    ]\n",
            " [0.1667 0.1667 0.1667 ... 0.     0.     0.    ]\n",
            " ...\n",
            " [0.1953 0.1953 0.1953 ... 0.     0.     0.    ]\n",
            " [0.1953 0.1953 0.1953 ... 0.     0.     0.    ]\n",
            " [0.1953 0.1953 0.1953 ... 0.     0.     0.    ]]\n",
            "[[0.0826 0.0826 0.0826 ... 0.     0.     0.    ]\n",
            " [0.0826 0.0826 0.0826 ... 0.     0.     0.    ]\n",
            " [0.0826 0.0826 0.0826 ... 0.     0.     0.    ]\n",
            " ...\n",
            " [0.1197 0.1197 0.1197 ... 0.     0.     0.    ]\n",
            " [0.1197 0.1197 0.1197 ... 0.     0.     0.    ]\n",
            " [0.1197 0.1197 0.1197 ... 0.     0.     0.    ]]\n",
            "[[0.0727 0.0727 0.072  ... 0.     0.     0.    ]\n",
            " [0.0607 0.0607 0.0674 ... 0.     0.     0.    ]\n",
            " [0.0607 0.0607 0.0607 ... 0.     0.     0.    ]\n",
            " ...\n",
            " [0.1178 0.1141 0.1141 ... 0.     0.     0.    ]\n",
            " [0.1178 0.1094 0.1094 ... 0.     0.     0.    ]\n",
            " [0.1069 0.1094 0.1094 ... 0.     0.     0.    ]]\n",
            "[[0.0012 0.0012 0.0012 ... 0.     0.     0.    ]\n",
            " [0.0012 0.0012 0.0012 ... 0.     0.     0.    ]\n",
            " [0.0012 0.0012 0.0012 ... 0.     0.     0.    ]\n",
            " ...\n",
            " [0.0011 0.0011 0.0011 ... 0.     0.     0.    ]\n",
            " [0.0011 0.0011 0.0011 ... 0.     0.     0.    ]\n",
            " [0.0011 0.0011 0.0011 ... 0.     0.     0.    ]]\n",
            "['/content/gdrive/My Drive/WORK/C&T/SENTINEL-HUB/test_dir/LANDSAT8/campo2_Lansat8_2017-12-10/crop_channels/crop_channel1_campo2_2017-12-10.tiff', '/content/gdrive/My Drive/WORK/C&T/SENTINEL-HUB/test_dir/LANDSAT8/campo2_Lansat8_2017-12-10/crop_channels/crop_channel2_campo2_2017-12-10.tiff', '/content/gdrive/My Drive/WORK/C&T/SENTINEL-HUB/test_dir/LANDSAT8/campo2_Lansat8_2017-12-10/crop_channels/crop_channel3_campo2_2017-12-10.tiff', '/content/gdrive/My Drive/WORK/C&T/SENTINEL-HUB/test_dir/LANDSAT8/campo2_Lansat8_2017-12-10/crop_channels/crop_channel4_campo2_2017-12-10.tiff', '/content/gdrive/My Drive/WORK/C&T/SENTINEL-HUB/test_dir/LANDSAT8/campo2_Lansat8_2017-12-10/crop_channels/crop_channel5_campo2_2017-12-10.tiff', '/content/gdrive/My Drive/WORK/C&T/SENTINEL-HUB/test_dir/LANDSAT8/campo2_Lansat8_2017-12-10/crop_channels/crop_channel6_campo2_2017-12-10.tiff', '/content/gdrive/My Drive/WORK/C&T/SENTINEL-HUB/test_dir/LANDSAT8/campo2_Lansat8_2017-12-10/crop_channels/crop_channel7_campo2_2017-12-10.tiff', '/content/gdrive/My Drive/WORK/C&T/SENTINEL-HUB/test_dir/LANDSAT8/campo2_Lansat8_2017-12-10/crop_channels/crop_channel8_campo2_2017-12-10.tiff', '/content/gdrive/My Drive/WORK/C&T/SENTINEL-HUB/test_dir/LANDSAT8/campo2_Lansat8_2017-12-10/crop_channels/crop_channel9_campo2_2017-12-10.tiff', '/content/gdrive/My Drive/WORK/C&T/SENTINEL-HUB/test_dir/LANDSAT8/campo2_Lansat8_2017-12-03/crop_channels/crop_channel1_campo2_2017-12-03.tiff', '/content/gdrive/My Drive/WORK/C&T/SENTINEL-HUB/test_dir/LANDSAT8/campo2_Lansat8_2017-12-03/crop_channels/crop_channel2_campo2_2017-12-03.tiff', '/content/gdrive/My Drive/WORK/C&T/SENTINEL-HUB/test_dir/LANDSAT8/campo2_Lansat8_2017-12-03/crop_channels/crop_channel3_campo2_2017-12-03.tiff', '/content/gdrive/My Drive/WORK/C&T/SENTINEL-HUB/test_dir/LANDSAT8/campo2_Lansat8_2017-12-03/crop_channels/crop_channel4_campo2_2017-12-03.tiff', '/content/gdrive/My Drive/WORK/C&T/SENTINEL-HUB/test_dir/LANDSAT8/campo2_Lansat8_2017-12-03/crop_channels/crop_channel5_campo2_2017-12-03.tiff', '/content/gdrive/My Drive/WORK/C&T/SENTINEL-HUB/test_dir/LANDSAT8/campo2_Lansat8_2017-12-03/crop_channels/crop_channel6_campo2_2017-12-03.tiff', '/content/gdrive/My Drive/WORK/C&T/SENTINEL-HUB/test_dir/LANDSAT8/campo2_Lansat8_2017-12-03/crop_channels/crop_channel7_campo2_2017-12-03.tiff', '/content/gdrive/My Drive/WORK/C&T/SENTINEL-HUB/test_dir/LANDSAT8/campo2_Lansat8_2017-12-03/crop_channels/crop_channel8_campo2_2017-12-03.tiff', '/content/gdrive/My Drive/WORK/C&T/SENTINEL-HUB/test_dir/LANDSAT8/campo2_Lansat8_2017-12-03/crop_channels/crop_channel9_campo2_2017-12-03.tiff', '/content/gdrive/My Drive/WORK/C&T/SENTINEL-HUB/test_dir/LANDSAT8/campo2_Lansat8_2017-12-19/crop_channels/crop_channel1_campo2_2017-12-19.tiff', '/content/gdrive/My Drive/WORK/C&T/SENTINEL-HUB/test_dir/LANDSAT8/campo2_Lansat8_2017-12-19/crop_channels/crop_channel2_campo2_2017-12-19.tiff', '/content/gdrive/My Drive/WORK/C&T/SENTINEL-HUB/test_dir/LANDSAT8/campo2_Lansat8_2017-12-19/crop_channels/crop_channel3_campo2_2017-12-19.tiff', '/content/gdrive/My Drive/WORK/C&T/SENTINEL-HUB/test_dir/LANDSAT8/campo2_Lansat8_2017-12-19/crop_channels/crop_channel4_campo2_2017-12-19.tiff', '/content/gdrive/My Drive/WORK/C&T/SENTINEL-HUB/test_dir/LANDSAT8/campo2_Lansat8_2017-12-19/crop_channels/crop_channel5_campo2_2017-12-19.tiff', '/content/gdrive/My Drive/WORK/C&T/SENTINEL-HUB/test_dir/LANDSAT8/campo2_Lansat8_2017-12-19/crop_channels/crop_channel6_campo2_2017-12-19.tiff', '/content/gdrive/My Drive/WORK/C&T/SENTINEL-HUB/test_dir/LANDSAT8/campo2_Lansat8_2017-12-19/crop_channels/crop_channel7_campo2_2017-12-19.tiff', '/content/gdrive/My Drive/WORK/C&T/SENTINEL-HUB/test_dir/LANDSAT8/campo2_Lansat8_2017-12-19/crop_channels/crop_channel8_campo2_2017-12-19.tiff', '/content/gdrive/My Drive/WORK/C&T/SENTINEL-HUB/test_dir/LANDSAT8/campo2_Lansat8_2017-12-19/crop_channels/crop_channel9_campo2_2017-12-19.tiff']\n"
          ],
          "name": "stdout"
        }
      ]
    },
    {
      "cell_type": "code",
      "metadata": {
        "colab": {
          "base_uri": "https://localhost:8080/",
          "height": 286
        },
        "id": "VN9eJCMucYOp",
        "outputId": "25726bb0-84f5-4b41-bf17-2f9c929fa0b4"
      },
      "source": [
        "img_read= tiff.imread(channel_crops[25])\n",
        "plt.imshow(img_read)"
      ],
      "execution_count": null,
      "outputs": [
        {
          "output_type": "execute_result",
          "data": {
            "text/plain": [
              "<matplotlib.image.AxesImage at 0x7ff9274d7240>"
            ]
          },
          "metadata": {
            "tags": []
          },
          "execution_count": 42
        },
        {
          "output_type": "display_data",
          "data": {
            "image/png": "[encoded data removed]",
            "text/plain": [
              "<Figure size 432x288 with 1 Axes>"
            ]
          },
          "metadata": {
            "tags": [],
            "needs_background": "light"
          }
        }
      ]
    },
    {
      "cell_type": "code",
      "metadata": {
        "id": "L7hHhizW9DYJ"
      },
      "source": [
        "#Prueba de leer la imagen\n",
        "\n",
        "#imagen = tiff.imread('/content/gdrive/My Drive/WORK/C&T/SENTINEL-HUB/test_dir/e67a54e5351acd9bb4c014421fb67895/channels/channel1_campo2_2017-12-10.tiff')\n",
        "#img=wms_bands_img_from_disk[2][:, :, 2]\n",
        "#plt.imshow(imagen)"
      ],
      "execution_count": null,
      "outputs": []
    }
  ]
}